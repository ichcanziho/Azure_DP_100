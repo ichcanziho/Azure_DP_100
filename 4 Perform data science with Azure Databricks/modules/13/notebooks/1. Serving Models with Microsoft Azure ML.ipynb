{
 "cells": [
  {
   "cell_type": "markdown",
   "metadata": {
    "application/vnd.databricks.v1+cell": {
     "cellMetadata": {},
     "inputWidgets": {},
     "nuid": "2078d4a5-0634-4938-affc-9d49b1f36a95",
     "showTitle": false,
     "title": ""
    }
   },
   "source": [
    "# Serving Models with Microsoft Azure ML\n",
    "In this lesson we will use MLflow and Azure ML to deploy and quey model to different environments.\n",
    "\n",
    "\n",
    "## ![Spark Logo Tiny](https://files.training.databricks.com/images/105/logo_spark_tiny.png) In this lesson you:<br>\n",
    "* Create or load an Azure ML Workspace\n",
    "* Build an Azure Container Image for model deployment\n",
    "* Deploy the model to \"dev\" using Azure Container Instances (ACI)\n",
    "* Query the deployed model in \"dev\"\n",
    "* Deploy the model to production using Azure Kubernetes Service (AKS)\n",
    "* Query the deployed model in production\n",
    "* Update the production deployment\n",
    "* Clean up the deployments\n",
    "\n",
    "**Required Libraries**:\n",
    "* `mlflow==1.7.0` via PyPI\n",
    "* `azureml-sdk==1.2.0` via PyPI"
   ]
  },
  {
   "cell_type": "markdown",
   "metadata": {
    "application/vnd.databricks.v1+cell": {
     "cellMetadata": {},
     "inputWidgets": {},
     "nuid": "71546a90-47d2-4d0a-a429-eca8fd1f89f1",
     "showTitle": false,
     "title": ""
    }
   },
   "source": [
    "Run the following cell to set up our environment."
   ]
  },
  {
   "cell_type": "code",
   "execution_count": 0,
   "metadata": {
    "application/vnd.databricks.v1+cell": {
     "cellMetadata": {},
     "inputWidgets": {},
     "nuid": "cba95640-2fa8-4ed8-84e4-25e9a457986d",
     "showTitle": false,
     "title": ""
    }
   },
   "outputs": [],
   "source": [
    "%run \"./Includes/Classroom-Setup\""
   ]
  },
  {
   "cell_type": "markdown",
   "metadata": {
    "application/vnd.databricks.v1+cell": {
     "cellMetadata": {},
     "inputWidgets": {},
     "nuid": "bdf21380-d755-470a-843c-d4d07eb4d8e7",
     "showTitle": false,
     "title": ""
    }
   },
   "source": [
    "### 1. Create or load an Azure ML Workspace\n",
    "Before models can be deployed to Azure ML, you must create or obtain an Azure ML Workspace. The `azureml.core.Workspace.create()` function will load a workspace of a specified name or create one if it does not already exist. For more information about creating an Azure ML Workspace, see the [Azure ML Workspace management documentation](https://docs.microsoft.com/en-us/azure/machine-learning/service/how-to-manage-workspace)."
   ]
  },
  {
   "cell_type": "code",
   "execution_count": 0,
   "metadata": {
    "application/vnd.databricks.v1+cell": {
     "cellMetadata": {},
     "inputWidgets": {},
     "nuid": "219ae25b-d7bc-407a-b339-2e29159585d3",
     "showTitle": false,
     "title": ""
    }
   },
   "outputs": [],
   "source": [
    "import azureml\n",
    "from azureml.core import Workspace\n",
    "\n",
    "workspace_name = \"<workspace-name>\"\n",
    "workspace_location=\"<workspace-location>\"\n",
    "resource_group = \"<resource-group>\"\n",
    "subscription_id = \"<subscription-id>\"\n",
    "\n",
    "workspace = Workspace.create(name = workspace_name,\n",
    "                             location = workspace_location,\n",
    "                             resource_group = resource_group,\n",
    "                             subscription_id = subscription_id,\n",
    "                             exist_ok=True)"
   ]
  },
  {
   "cell_type": "markdown",
   "metadata": {
    "application/vnd.databricks.v1+cell": {
     "cellMetadata": {},
     "inputWidgets": {},
     "nuid": "68190834-c01e-4e79-a316-a37da139792d",
     "showTitle": false,
     "title": ""
    }
   },
   "source": [
    "### 2. Train the Diabetes Model and build a Container Image for the trained model"
   ]
  },
  {
   "cell_type": "markdown",
   "metadata": {
    "application/vnd.databricks.v1+cell": {
     "cellMetadata": {},
     "inputWidgets": {},
     "nuid": "6f63e36d-e80c-4111-b672-2aefb3e0f2e4",
     "showTitle": false,
     "title": ""
    }
   },
   "source": [
    "#### Train the Diabetes Model\n",
    "\n",
    "We will uses the `diabetes` dataset in scikit-learn and predicts the progression metric (a quantitative measure of disease progression after one year after) based on BMI, blood pressure, etc. We will uses the scikit-learn ElasticNet linear regression model. We will use MLflow to log  metrics, parameters, artifacts and model."
   ]
  },
  {
   "cell_type": "code",
   "execution_count": 0,
   "metadata": {
    "application/vnd.databricks.v1+cell": {
     "cellMetadata": {},
     "inputWidgets": {},
     "nuid": "45f7d263-43fd-47ad-a5c9-525d34c69ff1",
     "showTitle": false,
     "title": ""
    }
   },
   "outputs": [],
   "source": [
    "import os\n",
    "import warnings\n",
    "import sys\n",
    "from random import random\n",
    "import pandas as pd\n",
    "import numpy as np\n",
    "from itertools import cycle\n",
    "from sklearn.metrics import mean_squared_error, mean_absolute_error, r2_score\n",
    "from sklearn.model_selection import train_test_split\n",
    "from sklearn.linear_model import ElasticNet\n",
    "from sklearn.linear_model import lasso_path, enet_path\n",
    "from sklearn import datasets\n",
    "# Import mlflow\n",
    "import mlflow\n",
    "import mlflow.sklearn\n",
    "\n",
    "# Load Diabetes datasets\n",
    "diabetes = datasets.load_diabetes()\n",
    "X = diabetes.data\n",
    "y = diabetes.target\n",
    "\n",
    "# Create pandas DataFrame for sklearn ElasticNet linear_model\n",
    "Y = np.array([y]).transpose()\n",
    "d = np.concatenate((X, Y), axis=1)\n",
    "cols = ['age', 'sex', 'bmi', 'bp', 's1', 's2', 's3', 's4', 's5', 's6', 'progression']\n",
    "data = pd.DataFrame(d, columns=cols)\n",
    "\n",
    "def train_diabetes(data, in_alpha, in_l1_ratio):\n",
    "  # Evaluate metrics\n",
    "  def eval_metrics(actual, pred):\n",
    "      rmse = np.sqrt(mean_squared_error(actual, pred))\n",
    "      mae = mean_absolute_error(actual, pred)\n",
    "      r2 = r2_score(actual, pred)\n",
    "      return rmse, mae, r2\n",
    "\n",
    "  warnings.filterwarnings(\"ignore\")\n",
    "  np.random.seed(40)\n",
    "\n",
    "  # Split the data into training and test sets. (0.75, 0.25) split.\n",
    "  train, test = train_test_split(data)\n",
    "\n",
    "  # The predicted column is \"progression\" which is a quantitative measure of disease progression one year after baseline\n",
    "  train_x = train.drop([\"progression\"], axis=1)\n",
    "  test_x = test.drop([\"progression\"], axis=1)\n",
    "  train_y = train[[\"progression\"]]\n",
    "  test_y = test[[\"progression\"]]\n",
    "\n",
    "  if float(in_alpha) is None:\n",
    "    alpha = 0.05\n",
    "  else:\n",
    "    alpha = float(in_alpha)\n",
    "    \n",
    "  if float(in_l1_ratio) is None:\n",
    "    l1_ratio = 0.05\n",
    "  else:\n",
    "    l1_ratio = float(in_l1_ratio)\n",
    "  \n",
    "  # Start an MLflow run; the \"with\" keyword ensures we'll close the run even if this cell crashes\n",
    "  with mlflow.start_run() as run:\n",
    "    lr = ElasticNet(alpha=alpha, l1_ratio=l1_ratio, random_state=42)\n",
    "    lr.fit(train_x, train_y)\n",
    "\n",
    "    predicted_qualities = lr.predict(test_x)\n",
    "\n",
    "    (rmse, mae, r2) = eval_metrics(test_y, predicted_qualities)\n",
    "\n",
    "    # Print out ElasticNet model metrics\n",
    "    print(\"Elasticnet model (alpha=%f, l1_ratio=%f):\" % (alpha, l1_ratio))\n",
    "    print(\"  RMSE: %s\" % rmse)\n",
    "    print(\"  MAE: %s\" % mae)\n",
    "    print(\"  R2: %s\" % r2)\n",
    "\n",
    "    # Log mlflow attributes for mlflow UI\n",
    "    mlflow.log_param(\"alpha\", alpha)\n",
    "    mlflow.log_param(\"l1_ratio\", l1_ratio)\n",
    "    mlflow.log_metric(\"rmse\", rmse)\n",
    "    mlflow.log_metric(\"r2\", r2)\n",
    "    mlflow.log_metric(\"mae\", mae)\n",
    "    mlflow.sklearn.log_model(lr, \"model\")\n",
    "    rand_int = int(random()*10000)\n",
    "    modelpath = \"/dbfs/mlflow/test_diabetes/model-%f-%f-%f\" % (alpha, l1_ratio, rand_int)\n",
    "    mlflow.sklearn.save_model(lr, modelpath)\n",
    "    \n",
    "    run_id = run.info.run_id\n",
    "    print('Run ID: ', run_id)\n",
    "    model_uri = \"runs:/\" + run_id + \"/model\"\n",
    "    print('model_uri: ', model_uri)\n",
    "    \n",
    "    return run_id, model_uri\n",
    "    \n",
    "run_id, model_uri = train_diabetes(data, 0.01, 1)"
   ]
  },
  {
   "cell_type": "markdown",
   "metadata": {
    "application/vnd.databricks.v1+cell": {
     "cellMetadata": {},
     "inputWidgets": {},
     "nuid": "7d87a36e-1a73-439c-a955-4843d20187c7",
     "showTitle": false,
     "title": ""
    }
   },
   "source": [
    "#### Use MLflow to build a Container Image for the trained model\n",
    "\n",
    "Use the `mlflow.azuereml.build_image` function to build an Azure Container Image for the trained MLflow model. This function also registers the MLflow model with a specified Azure ML workspace. The resulting image can be deployed to Azure Container Instances (ACI) or Azure Kubernetes Service (AKS) for real-time serving."
   ]
  },
  {
   "cell_type": "code",
   "execution_count": 0,
   "metadata": {
    "application/vnd.databricks.v1+cell": {
     "cellMetadata": {},
     "inputWidgets": {},
     "nuid": "0ed1b8fa-41c1-4cb5-bf92-90f0744c27e3",
     "showTitle": false,
     "title": ""
    }
   },
   "outputs": [],
   "source": [
    "import mlflow.azureml\n",
    "\n",
    "model_image, azure_model = mlflow.azureml.build_image(model_uri=model_uri, \n",
    "                                                      workspace=workspace,\n",
    "                                                      model_name=\"model\",\n",
    "                                                      image_name=\"model\",\n",
    "                                                      description=\"Sklearn ElasticNet image for predicting diabetes progression\",\n",
    "                                                      synchronous=False)\n",
    "model_image.wait_for_creation(show_output=True)"
   ]
  },
  {
   "cell_type": "markdown",
   "metadata": {
    "application/vnd.databricks.v1+cell": {
     "cellMetadata": {},
     "inputWidgets": {},
     "nuid": "e28ee0e8-5f8f-47c6-932a-77b324d3c1e3",
     "showTitle": false,
     "title": ""
    }
   },
   "source": [
    "### 3. Create an ACI webservice deployment\n",
    "\n",
    "The [ACI platform](https://docs.microsoft.com/en-us/azure/container-instances/) is the recommended environment for staging and developmental model deployments. Using the Azure ML SDK, deploy the Container Image for the trained MLflow model to ACI."
   ]
  },
  {
   "cell_type": "code",
   "execution_count": 0,
   "metadata": {
    "application/vnd.databricks.v1+cell": {
     "cellMetadata": {},
     "inputWidgets": {},
     "nuid": "5d629ba3-6f7e-4e9a-a7d7-f25e205ead20",
     "showTitle": false,
     "title": ""
    }
   },
   "outputs": [],
   "source": [
    "from azureml.core.webservice import AciWebservice, Webservice\n",
    "\n",
    "dev_webservice_name = \"diabetes-model\"\n",
    "dev_webservice_deployment_config = AciWebservice.deploy_configuration()\n",
    "dev_webservice = Webservice.deploy_from_image(name=dev_webservice_name, image=model_image, deployment_config=dev_webservice_deployment_config, workspace=workspace)\n",
    "dev_webservice.wait_for_deployment()"
   ]
  },
  {
   "cell_type": "code",
   "execution_count": 0,
   "metadata": {
    "application/vnd.databricks.v1+cell": {
     "cellMetadata": {},
     "inputWidgets": {},
     "nuid": "57e22cef-7d77-4ce7-beb0-8ef7dfb6920c",
     "showTitle": false,
     "title": ""
    }
   },
   "outputs": [],
   "source": [
    "# Create a sample data \n",
    "from sklearn import datasets\n",
    "import pandas as pd\n",
    "import numpy as np\n",
    "import requests\n",
    "import json\n",
    "\n",
    "diabetes = datasets.load_diabetes()\n",
    "X = diabetes.data\n",
    "y = diabetes.target\n",
    "Y = np.array([y]).transpose()\n",
    "d = np.concatenate((X, Y), axis=1)\n",
    "cols = ['age', 'sex', 'bmi', 'bp', 's1', 's2', 's3', 's4', 's5', 's6', 'progression']\n",
    "data = pd.DataFrame(d, columns=cols)\n",
    "sample = data.drop([\"progression\"], axis=1).iloc[[0]]\n",
    "                                                 \n",
    "query_input = sample.to_json(orient='split')\n",
    "query_input = eval(query_input)\n",
    "query_input.pop('index', None)\n",
    "\n",
    "\n",
    "# sending an HTTP request\n",
    "def query_endpoint_example(scoring_uri, inputs, service_key=None):\n",
    "  headers = {\n",
    "    \"Content-Type\": \"application/json\",\n",
    "  }\n",
    "  if service_key is not None:\n",
    "    headers[\"Authorization\"] = \"Bearer {service_key}\".format(service_key=service_key)\n",
    "    \n",
    "  print(\"Sending batch prediction request with inputs: {}\".format(inputs))\n",
    "  response = requests.post(scoring_uri, data=json.dumps(inputs), headers=headers)\n",
    "  preds = json.loads(response.text)\n",
    "  print(\"Received response: {}\".format(preds))\n",
    "  return preds"
   ]
  },
  {
   "cell_type": "code",
   "execution_count": 0,
   "metadata": {
    "application/vnd.databricks.v1+cell": {
     "cellMetadata": {},
     "inputWidgets": {},
     "nuid": "eef5c75f-4349-4fd2-b4a1-63ec9291ad05",
     "showTitle": false,
     "title": ""
    }
   },
   "outputs": [],
   "source": [
    "dev_webservice.scoring_uri\n",
    "dev_prediction = query_endpoint_example(scoring_uri=dev_webservice.scoring_uri, inputs=query_input)"
   ]
  },
  {
   "cell_type": "markdown",
   "metadata": {
    "application/vnd.databricks.v1+cell": {
     "cellMetadata": {},
     "inputWidgets": {},
     "nuid": "0f30f7d6-8a4d-4a06-bbef-b956dddb56d5",
     "showTitle": false,
     "title": ""
    }
   },
   "source": [
    "### 4. Deploy the model to production using [Azure Kubernetes Service (AKS)](https://azure.microsoft.com/en-us/services/kubernetes-service/)"
   ]
  },
  {
   "cell_type": "markdown",
   "metadata": {
    "application/vnd.databricks.v1+cell": {
     "cellMetadata": {},
     "inputWidgets": {},
     "nuid": "32f10e88-2884-4960-b230-151b967bb241",
     "showTitle": false,
     "title": ""
    }
   },
   "source": [
    "#### Option 1: Create a new AKS cluster\n",
    "\n",
    "If you do not have an active AKS cluster for model deployment, create one using the Azure ML SDK."
   ]
  },
  {
   "cell_type": "code",
   "execution_count": 0,
   "metadata": {
    "application/vnd.databricks.v1+cell": {
     "cellMetadata": {},
     "inputWidgets": {},
     "nuid": "65fd91ee-e852-4fea-8cc1-fb25e120cbfd",
     "showTitle": false,
     "title": ""
    }
   },
   "outputs": [],
   "source": [
    "from azureml.core.compute import AksCompute, ComputeTarget\n",
    "\n",
    "# Use the default configuration (you can also provide parameters to customize this)\n",
    "prov_config = AksCompute.provisioning_configuration()\n",
    "\n",
    "aks_cluster_name = \"diabetes-cluster\" \n",
    "# Create the cluster\n",
    "aks_target = ComputeTarget.create(workspace = workspace, \n",
    "                                  name = aks_cluster_name, \n",
    "                                  provisioning_configuration = prov_config)\n",
    "\n",
    "# Wait for the create process to complete\n",
    "aks_target.wait_for_completion(show_output = True)\n",
    "print(aks_target.provisioning_state)\n",
    "print(aks_target.provisioning_errors)"
   ]
  },
  {
   "cell_type": "markdown",
   "metadata": {
    "application/vnd.databricks.v1+cell": {
     "cellMetadata": {},
     "inputWidgets": {},
     "nuid": "3d87a62a-caba-494b-8b8f-c8ca671e0225",
     "showTitle": false,
     "title": ""
    }
   },
   "source": [
    "#### Option 2: Connect to an existing AKS cluster in your workspace"
   ]
  },
  {
   "cell_type": "code",
   "execution_count": 0,
   "metadata": {
    "application/vnd.databricks.v1+cell": {
     "cellMetadata": {},
     "inputWidgets": {},
     "nuid": "7ad53c14-67e1-4815-b550-1610db42407d",
     "showTitle": false,
     "title": ""
    }
   },
   "outputs": [],
   "source": [
    "from azureml.core.compute import AksCompute, ComputeTarget\n",
    "\n",
    "# Give the cluster a local name\n",
    "aks_cluster_name = \"diabetes-cluster\"\n",
    "\n",
    "aks_target = ComputeTarget(workspace=workspace, name=aks_cluster_name)\n",
    "print(aks_target.provisioning_state)\n",
    "print(aks_target.provisioning_errors)"
   ]
  },
  {
   "cell_type": "markdown",
   "metadata": {
    "application/vnd.databricks.v1+cell": {
     "cellMetadata": {},
     "inputWidgets": {},
     "nuid": "72883839-d3fa-4468-9950-3c51648f035b",
     "showTitle": false,
     "title": ""
    }
   },
   "source": [
    "### 5. Deploy to the model's image to the specified AKS cluster"
   ]
  },
  {
   "cell_type": "code",
   "execution_count": 0,
   "metadata": {
    "application/vnd.databricks.v1+cell": {
     "cellMetadata": {},
     "inputWidgets": {},
     "nuid": "f340c0b1-17e5-4f22-8747-669ca7b16f59",
     "showTitle": false,
     "title": ""
    }
   },
   "outputs": [],
   "source": [
    "from azureml.core.webservice import Webservice, AksWebservice\n",
    "\n",
    "# Set configuration and service name\n",
    "prod_webservice_name = \"diabetes-model-prod\"\n",
    "prod_webservice_deployment_config = AksWebservice.deploy_configuration()\n",
    "\n",
    "# Deploy from image\n",
    "prod_webservice = Webservice.deploy_from_image(workspace = workspace, \n",
    "                                               name = prod_webservice_name,\n",
    "                                               image = model_image,\n",
    "                                               deployment_config = prod_webservice_deployment_config,\n",
    "                                               deployment_target = aks_target)"
   ]
  },
  {
   "cell_type": "code",
   "execution_count": 0,
   "metadata": {
    "application/vnd.databricks.v1+cell": {
     "cellMetadata": {},
     "inputWidgets": {},
     "nuid": "59963137-7590-49e2-bb76-98a8470f0a8a",
     "showTitle": false,
     "title": ""
    }
   },
   "outputs": [],
   "source": [
    "# Wait for the deployment to complete\n",
    "prod_webservice.wait_for_deployment(show_output = True)"
   ]
  },
  {
   "cell_type": "markdown",
   "metadata": {
    "application/vnd.databricks.v1+cell": {
     "cellMetadata": {},
     "inputWidgets": {},
     "nuid": "6848ed74-438c-4ffa-901d-c7677603f763",
     "showTitle": false,
     "title": ""
    }
   },
   "source": [
    "We can evaluate the sample data by sending an HTTP request. Query the AKS webservice's scoring endpoint by sending an HTTP POST request that includes the input vector. The production AKS deployment may require an authorization token (service key) for queries. Include this key in the HTTP request header."
   ]
  },
  {
   "cell_type": "code",
   "execution_count": 0,
   "metadata": {
    "application/vnd.databricks.v1+cell": {
     "cellMetadata": {},
     "inputWidgets": {},
     "nuid": "7a4b3725-9465-43fc-b87e-5d93a9032378",
     "showTitle": false,
     "title": ""
    }
   },
   "outputs": [],
   "source": [
    "import requests\n",
    "import json\n",
    "\n",
    "def query_endpoint_example(scoring_uri, inputs, service_key=None):\n",
    "  headers = {\n",
    "    \"Content-Type\": \"application/json\",\n",
    "  }\n",
    "  if service_key is not None:\n",
    "    headers[\"Authorization\"] = \"Bearer {service_key}\".format(service_key=service_key)\n",
    "    \n",
    "  print(\"Sending batch prediction request with inputs: {}\".format(inputs))\n",
    "  response = requests.post(scoring_uri, data=json.dumps(inputs), headers=headers)\n",
    "  preds = json.loads(response.text)\n",
    "  print(\"Received response: {}\".format(preds))\n",
    "  return preds\n",
    "\n",
    "prod_scoring_uri = prod_webservice.scoring_uri\n",
    "prod_service_key = prod_webservice.get_keys()[0] if len(prod_webservice.get_keys()) > 0 else None\n",
    "prod_prediction1 = query_endpoint_example(scoring_uri=prod_scoring_uri, service_key=prod_service_key, inputs=query_input)"
   ]
  },
  {
   "cell_type": "markdown",
   "metadata": {
    "application/vnd.databricks.v1+cell": {
     "cellMetadata": {},
     "inputWidgets": {},
     "nuid": "bde7e818-af02-4dcb-876b-cfe0bbddad68",
     "showTitle": false,
     "title": ""
    }
   },
   "source": [
    "### 6. Update the production deployment\n",
    "\n",
    "Train a new model with different hyperparameters and deploy the new model to production."
   ]
  },
  {
   "cell_type": "code",
   "execution_count": 0,
   "metadata": {
    "application/vnd.databricks.v1+cell": {
     "cellMetadata": {},
     "inputWidgets": {},
     "nuid": "c16fde9f-40e8-462f-a3a0-43c001da8ca6",
     "showTitle": false,
     "title": ""
    }
   },
   "outputs": [],
   "source": [
    "import mlflow.azureml\n",
    "\n",
    "# Train a new model with different hyperparameters\n",
    "run_id_new, model_uri = train_diabetes(data, 0.01, 0.9)\n",
    "\n",
    "# Build a container image for the new trained model\n",
    "model_image_updated, azure_model_updated = mlflow.azureml.build_image(model_uri=model_uri, \n",
    "                                                                      workspace=workspace,\n",
    "                                                                      model_name=\"model-updated\",\n",
    "                                                                      image_name=\"model-updated\",\n",
    "                                                                      description=\"Sklearn ElasticNet image for predicting diabetes progression\",\n",
    "                                                                      synchronous=False)\n",
    "model_image_updated.wait_for_creation(show_output=True)"
   ]
  },
  {
   "cell_type": "markdown",
   "metadata": {
    "application/vnd.databricks.v1+cell": {
     "cellMetadata": {},
     "inputWidgets": {},
     "nuid": "62de6009-748f-4747-b4dc-c0af1fb922b2",
     "showTitle": false,
     "title": ""
    }
   },
   "source": [
    "### 7. Deploy the new model's image to the AKS cluster\n",
    "\n",
    "Using the [`azureml.core.webservice.AksWebservice.update()`](https://docs.microsoft.com/en-us/python/api/azureml-core/azureml.core.webservice.akswebservice?view=azure-ml-py#update) function, replace the deployment's existing model image with the new model image."
   ]
  },
  {
   "cell_type": "code",
   "execution_count": 0,
   "metadata": {
    "application/vnd.databricks.v1+cell": {
     "cellMetadata": {},
     "inputWidgets": {},
     "nuid": "65056726-dcbe-4ce6-9249-3f3fcb724526",
     "showTitle": false,
     "title": ""
    }
   },
   "outputs": [],
   "source": [
    "prod_webservice.update(image=model_image_updated)\n",
    "prod_webservice.wait_for_deployment(show_output = True)"
   ]
  },
  {
   "cell_type": "markdown",
   "metadata": {
    "application/vnd.databricks.v1+cell": {
     "cellMetadata": {},
     "inputWidgets": {},
     "nuid": "efbc681c-c8b5-4a2b-a6cf-91249f12d3e4",
     "showTitle": false,
     "title": ""
    }
   },
   "source": [
    "We can now query the updated model and compare the results."
   ]
  },
  {
   "cell_type": "code",
   "execution_count": 0,
   "metadata": {
    "application/vnd.databricks.v1+cell": {
     "cellMetadata": {},
     "inputWidgets": {},
     "nuid": "9938e7b6-b103-4744-afdd-a2c8ee248a61",
     "showTitle": false,
     "title": ""
    }
   },
   "outputs": [],
   "source": [
    "prod_prediction2 = query_endpoint_example(scoring_uri=prod_scoring_uri, service_key=prod_service_key, inputs=query_input)\n",
    "print(\"Run ID: {} Prediction: {}\".format(run_id, prod_prediction1)) \n",
    "print(\"Run ID: {} Prediction: {}\".format(run_id_new, prod_prediction2))"
   ]
  },
  {
   "cell_type": "markdown",
   "metadata": {
    "application/vnd.databricks.v1+cell": {
     "cellMetadata": {},
     "inputWidgets": {},
     "nuid": "875cc4d6-0e72-4171-8536-9de62d307861",
     "showTitle": false,
     "title": ""
    }
   },
   "source": [
    "### 8. Clean up the deployments"
   ]
  },
  {
   "cell_type": "markdown",
   "metadata": {
    "application/vnd.databricks.v1+cell": {
     "cellMetadata": {},
     "inputWidgets": {},
     "nuid": "2fbab18e-6510-4e66-9731-e83d796bfd42",
     "showTitle": false,
     "title": ""
    }
   },
   "source": [
    "We can now terminate the \"dev\" ACI webservice. Because ACI manages compute resources on your behalf, deleting the \"dev\" ACI webservice will remove all resources associated with the \"dev\" model deployment"
   ]
  },
  {
   "cell_type": "code",
   "execution_count": 0,
   "metadata": {
    "application/vnd.databricks.v1+cell": {
     "cellMetadata": {},
     "inputWidgets": {},
     "nuid": "a23192e2-7f19-4c58-a99e-01695dfbced6",
     "showTitle": false,
     "title": ""
    }
   },
   "outputs": [],
   "source": [
    "dev_webservice.delete()\n",
    "prod_webservice.delete()\n",
    "aks_target.delete()"
   ]
  }
 ],
 "metadata": {
  "application/vnd.databricks.v1+notebook": {
   "dashboards": [],
   "language": "python",
   "notebookMetadata": {
    "pythonIndentUnit": 2
   },
   "notebookName": "1. Serving Models with Microsoft Azure ML",
   "widgets": {}
  }
 },
 "nbformat": 4,
 "nbformat_minor": 0
}
