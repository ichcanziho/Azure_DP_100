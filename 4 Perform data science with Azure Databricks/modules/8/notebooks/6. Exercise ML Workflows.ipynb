{
 "cells": [
  {
   "cell_type": "markdown",
   "metadata": {
    "application/vnd.databricks.v1+cell": {
     "cellMetadata": {},
     "inputWidgets": {},
     "nuid": "cc7ab98a-8267-4111-8570-ae3fbeeec7c5",
     "showTitle": false,
     "title": ""
    }
   },
   "source": [
    "## Exercise: ML Workflows\n",
    "\n",
    "Do a train/test split on a Dataset, create a baseline model, and evaluate the result.  Optionally, try to beat this baseline model by training a linear regression model."
   ]
  },
  {
   "cell_type": "markdown",
   "metadata": {
    "application/vnd.databricks.v1+cell": {
     "cellMetadata": {},
     "inputWidgets": {},
     "nuid": "b3105b1b-a163-4983-809b-39d004e3d9b9",
     "showTitle": false,
     "title": ""
    }
   },
   "source": [
    "Run the following cell to set up our environment."
   ]
  },
  {
   "cell_type": "code",
   "execution_count": 0,
   "metadata": {
    "application/vnd.databricks.v1+cell": {
     "cellMetadata": {},
     "inputWidgets": {},
     "nuid": "3d2318fb-1370-4d08-b71e-f27b7d57a7d3",
     "showTitle": false,
     "title": ""
    }
   },
   "outputs": [],
   "source": [
    "%run \"./Includes/Classroom-Setup\""
   ]
  },
  {
   "cell_type": "markdown",
   "metadata": {
    "application/vnd.databricks.v1+cell": {
     "cellMetadata": {},
     "inputWidgets": {},
     "nuid": "81517498-77c5-4405-9c58-08798d622e41",
     "showTitle": false,
     "title": ""
    }
   },
   "source": [
    "### Step 1: Train/Test Split\n",
    "\n",
    "Import the bike sharing dataset and take a look at what's in it.  This dataset contains number of bikes rented (`cnt`) by season, year, month, and hour and for a number of weather conditions."
   ]
  },
  {
   "cell_type": "code",
   "execution_count": 0,
   "metadata": {
    "application/vnd.databricks.v1+cell": {
     "cellMetadata": {},
     "inputWidgets": {},
     "nuid": "b6f8909d-4ca9-4a15-9a74-4e360535e857",
     "showTitle": false,
     "title": ""
    }
   },
   "outputs": [],
   "source": [
    "bikeDF = (spark\n",
    "  .read\n",
    "  .option(\"header\", True)\n",
    "  .option(\"inferSchema\", True)\n",
    "  .csv(\"/mnt/training/bikeSharing/data-001/hour.csv\")\n",
    "  .drop(\"instant\", \"dteday\", \"casual\", \"registered\", \"holiday\", \"weekday\") # Drop unnecessary features\n",
    ")\n",
    "\n",
    "display(bikeDF)"
   ]
  },
  {
   "cell_type": "markdown",
   "metadata": {
    "application/vnd.databricks.v1+cell": {
     "cellMetadata": {},
     "inputWidgets": {},
     "nuid": "d08132e8-5a96-4d99-908d-6c3b29af909b",
     "showTitle": false,
     "title": ""
    }
   },
   "source": [
    "Perform a train/test split.  Put 70% of the data into `trainBikeDF` and 30% into `testBikeDF`.  Use a seed of `42` so you have the same split every time you perform the operation."
   ]
  },
  {
   "cell_type": "code",
   "execution_count": 0,
   "metadata": {
    "application/vnd.databricks.v1+cell": {
     "cellMetadata": {},
     "inputWidgets": {},
     "nuid": "af836648-f52e-45bf-9e45-312790e83c3a",
     "showTitle": false,
     "title": ""
    }
   },
   "outputs": [],
   "source": [
    "# TODO\n",
    "trainBikeDF, testBikeDF = < FILL IN >"
   ]
  },
  {
   "cell_type": "code",
   "execution_count": 0,
   "metadata": {
    "application/vnd.databricks.v1+cell": {
     "cellMetadata": {},
     "inputWidgets": {},
     "nuid": "0f5968b0-0b96-4d14-a324-946b32c1b0fe",
     "showTitle": false,
     "title": ""
    }
   },
   "outputs": [],
   "source": [
    "# TEST - Run this cell to test your solution\n",
    "_traincount = trainBikeDF.count()\n",
    "_testcount = testBikeDF.count()\n",
    "\n",
    "dbTest(\"ML1-P-03-01-01\", True, _traincount < 13000 and _traincount > 12000)\n",
    "dbTest(\"ML1-P-03-01-02\", True, _testcount < 5500 and _testcount > 4800)\n",
    "\n",
    "print(\"Tests passed!\")"
   ]
  },
  {
   "cell_type": "markdown",
   "metadata": {
    "application/vnd.databricks.v1+cell": {
     "cellMetadata": {},
     "inputWidgets": {},
     "nuid": "605cde91-e4d2-41e0-a27e-f897e9623c55",
     "showTitle": false,
     "title": ""
    }
   },
   "source": [
    "### Step 2: Create a Baseline Model\n",
    "\n",
    "Calculate the average of the column `cnt` and save it to the variable `trainCnt`.  Then create a new DataFrame `bikeTestPredictionDF` that appends a new column `prediction` that's the value of `trainCnt`."
   ]
  },
  {
   "cell_type": "code",
   "execution_count": 0,
   "metadata": {
    "application/vnd.databricks.v1+cell": {
     "cellMetadata": {},
     "inputWidgets": {},
     "nuid": "b32e22c8-7cec-442d-bce2-3f5865c1cf12",
     "showTitle": false,
     "title": ""
    }
   },
   "outputs": [],
   "source": [
    "# TODO\n",
    "avgTrainCnt = # FILL_IN\n",
    "bikeTestPredictionDF = # FILL_IN"
   ]
  },
  {
   "cell_type": "code",
   "execution_count": 0,
   "metadata": {
    "application/vnd.databricks.v1+cell": {
     "cellMetadata": {},
     "inputWidgets": {},
     "nuid": "dc45ab92-3852-4675-906b-107516ae4f0d",
     "showTitle": false,
     "title": ""
    }
   },
   "outputs": [],
   "source": [
    "# TEST - Run this cell to test your solution\n",
    "dbTest(\"ML1-P-03-02-01\", True, avgTrainCnt < 195 and avgTrainCnt > 180)\n",
    "dbTest(\"ML1-P-03-02-02\", True, \"prediction\" in bikeTestPredictionDF.columns)\n",
    "\n",
    "print(\"Tests passed!\")"
   ]
  },
  {
   "cell_type": "markdown",
   "metadata": {
    "application/vnd.databricks.v1+cell": {
     "cellMetadata": {},
     "inputWidgets": {},
     "nuid": "39b9af29-d83a-45ff-853d-56c243e694a4",
     "showTitle": false,
     "title": ""
    }
   },
   "source": [
    "### Step 3: Evaluate the Result\n",
    "\n",
    "Evaluate the result using `mse` as the error metric.  Save the result to `testError`.\n",
    "\n",
    "<img alt=\"Hint\" title=\"Hint\" style=\"vertical-align: text-bottom; position: relative; height:1.75em; top:0.3em\" src=\"https://files.training.databricks.com/static/images/icon-light-bulb.svg\"/>&nbsp;**Hint:** Your baseline prediction will not be very accurate.  Be sure to take the square root of the MSE to return the results to the proper units (that is, bike counts)."
   ]
  },
  {
   "cell_type": "code",
   "execution_count": 0,
   "metadata": {
    "application/vnd.databricks.v1+cell": {
     "cellMetadata": {},
     "inputWidgets": {},
     "nuid": "347ca110-1bab-4e25-9360-1e50e4d73386",
     "showTitle": false,
     "title": ""
    }
   },
   "outputs": [],
   "source": [
    "# TODO\n",
    "from pyspark.ml.evaluation import RegressionEvaluator\n",
    "testError = # FILL_IN"
   ]
  },
  {
   "cell_type": "code",
   "execution_count": 0,
   "metadata": {
    "application/vnd.databricks.v1+cell": {
     "cellMetadata": {},
     "inputWidgets": {},
     "nuid": "bee7b355-d134-4b10-bde1-d4f075f61292",
     "showTitle": false,
     "title": ""
    }
   },
   "outputs": [],
   "source": [
    "# TEST - Run this cell to test your solution\n",
    "dbTest(\"ML1-P-03-03-01\", True, testError > 33000 and testError < 35000)\n",
    "\n",
    "print(\"Tests passed!\")"
   ]
  },
  {
   "cell_type": "markdown",
   "metadata": {
    "application/vnd.databricks.v1+cell": {
     "cellMetadata": {},
     "inputWidgets": {},
     "nuid": "1a30d31c-5ed8-4315-bdfb-1dd510d3f787",
     "showTitle": false,
     "title": ""
    }
   },
   "source": [
    "### Step 4 (Optional): Beat the Baseline\n",
    "\n",
    "Use a linear regression model (explored in the previous lesson) to beat the baseline model score."
   ]
  }
 ],
 "metadata": {
  "application/vnd.databricks.v1+notebook": {
   "dashboards": [],
   "language": "python",
   "notebookMetadata": {
    "pythonIndentUnit": 2
   },
   "notebookName": "6. Exercise ML Workflows",
   "widgets": {}
  }
 },
 "nbformat": 4,
 "nbformat_minor": 0
}
