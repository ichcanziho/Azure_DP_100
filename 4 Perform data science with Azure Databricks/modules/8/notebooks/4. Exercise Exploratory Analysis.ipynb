{
 "cells": [
  {
   "cell_type": "markdown",
   "metadata": {
    "application/vnd.databricks.v1+cell": {
     "cellMetadata": {},
     "inputWidgets": {},
     "nuid": "a726dedc-5bb0-43a9-8a33-b62962bab3ed",
     "showTitle": false,
     "title": ""
    }
   },
   "source": [
    "## Exercise: EDA on the Bike Sharing Dataset\n",
    "\n",
    "Do exploratory analysis on the bike sharing dataset by calculating and interpreting summary statistics, creating basic plots, and calculating correlations."
   ]
  },
  {
   "cell_type": "markdown",
   "metadata": {
    "application/vnd.databricks.v1+cell": {
     "cellMetadata": {},
     "inputWidgets": {},
     "nuid": "f4de8aed-66d0-4037-885a-455e6fc8d242",
     "showTitle": false,
     "title": ""
    }
   },
   "source": [
    "Run the following cell to set up our environment."
   ]
  },
  {
   "cell_type": "code",
   "execution_count": 0,
   "metadata": {
    "application/vnd.databricks.v1+cell": {
     "cellMetadata": {},
     "inputWidgets": {},
     "nuid": "6804fbb7-84f8-46f0-ad51-e2d87024a41c",
     "showTitle": false,
     "title": ""
    }
   },
   "outputs": [],
   "source": [
    "%run \"./Includes/Classroom-Setup\""
   ]
  },
  {
   "cell_type": "markdown",
   "metadata": {
    "application/vnd.databricks.v1+cell": {
     "cellMetadata": {},
     "inputWidgets": {},
     "nuid": "75785dd5-3d20-4a50-bbe9-de6a84847e7d",
     "showTitle": false,
     "title": ""
    }
   },
   "source": [
    "### Step 1: Summary Statistics\n",
    "\n",
    "Calculate the count, mean, and standard deviation for each variable in the dataset.  What does each variable signify?  What is the spread of the data?"
   ]
  },
  {
   "cell_type": "markdown",
   "metadata": {
    "application/vnd.databricks.v1+cell": {
     "cellMetadata": {},
     "inputWidgets": {},
     "nuid": "e0ebb9a5-dc58-4227-9afe-e8af621a9805",
     "showTitle": false,
     "title": ""
    }
   },
   "source": [
    "Import the data."
   ]
  },
  {
   "cell_type": "code",
   "execution_count": 0,
   "metadata": {
    "application/vnd.databricks.v1+cell": {
     "cellMetadata": {},
     "inputWidgets": {},
     "nuid": "2393a5c5-d7b0-4727-bac3-bb20f3ed4d3c",
     "showTitle": false,
     "title": ""
    }
   },
   "outputs": [],
   "source": [
    "bikeDF = (spark\n",
    "  .read\n",
    "  .option(\"header\", True)\n",
    "  .option(\"inferSchema\", True)\n",
    "  .csv(\"/mnt/training/bikeSharing/data-001/hour.csv\")\n",
    "  .drop(\"instant\", \"dteday\", \"casual\", \"registered\", \"holiday\", \"weekday\")\n",
    ")"
   ]
  },
  {
   "cell_type": "markdown",
   "metadata": {
    "application/vnd.databricks.v1+cell": {
     "cellMetadata": {},
     "inputWidgets": {},
     "nuid": "ec407532-dd8e-4868-be18-99469892c7f3",
     "showTitle": false,
     "title": ""
    }
   },
   "source": [
    "Calculate count, mean, and standard deviation."
   ]
  },
  {
   "cell_type": "code",
   "execution_count": 0,
   "metadata": {
    "application/vnd.databricks.v1+cell": {
     "cellMetadata": {},
     "inputWidgets": {},
     "nuid": "9bf33949-1351-45a3-8f75-233ba0a7ac21",
     "showTitle": false,
     "title": ""
    }
   },
   "outputs": [],
   "source": [
    "# TODO\n",
    "FILL_IN"
   ]
  },
  {
   "cell_type": "markdown",
   "metadata": {
    "application/vnd.databricks.v1+cell": {
     "cellMetadata": {},
     "inputWidgets": {},
     "nuid": "afef9320-202c-43e2-9790-8c2183b68bd3",
     "showTitle": false,
     "title": ""
    }
   },
   "source": [
    "### Step 2: Plotting\n",
    "\n",
    "Create the following plots:<br><br>\n",
    "\n",
    "1. A histogram of the dependent variable `cnt`\n",
    "2. A barplot of counts by hour\n",
    "3. A scattermatrix"
   ]
  },
  {
   "cell_type": "markdown",
   "metadata": {
    "application/vnd.databricks.v1+cell": {
     "cellMetadata": {},
     "inputWidgets": {},
     "nuid": "c93caacb-1b9d-4055-8331-864027f0c7b9",
     "showTitle": false,
     "title": ""
    }
   },
   "source": [
    "Create a histogram of the variable `cnt`."
   ]
  },
  {
   "cell_type": "code",
   "execution_count": 0,
   "metadata": {
    "application/vnd.databricks.v1+cell": {
     "cellMetadata": {},
     "inputWidgets": {},
     "nuid": "b00a4af7-49be-48fa-a84b-c627bff8ccf8",
     "showTitle": false,
     "title": ""
    }
   },
   "outputs": [],
   "source": [
    "# TODO\n",
    "FILL_IN"
   ]
  },
  {
   "cell_type": "markdown",
   "metadata": {
    "application/vnd.databricks.v1+cell": {
     "cellMetadata": {},
     "inputWidgets": {},
     "nuid": "4d01eded-864f-4f81-968c-d3ad136d034e",
     "showTitle": false,
     "title": ""
    }
   },
   "source": [
    "Create a barplot of counts by hour."
   ]
  },
  {
   "cell_type": "code",
   "execution_count": 0,
   "metadata": {
    "application/vnd.databricks.v1+cell": {
     "cellMetadata": {},
     "inputWidgets": {},
     "nuid": "cbaf58ef-b92a-40e5-81ca-09c052a78dc3",
     "showTitle": false,
     "title": ""
    }
   },
   "outputs": [],
   "source": [
    "# TODO\n",
    "FILL_IN"
   ]
  },
  {
   "cell_type": "markdown",
   "metadata": {
    "application/vnd.databricks.v1+cell": {
     "cellMetadata": {},
     "inputWidgets": {},
     "nuid": "7bd88e6d-c2ad-473e-a509-c638ede85d6f",
     "showTitle": false,
     "title": ""
    }
   },
   "source": [
    "Create a scattermatrix.  This can be done in Python or with the built-in Databricks functionality."
   ]
  },
  {
   "cell_type": "code",
   "execution_count": 0,
   "metadata": {
    "application/vnd.databricks.v1+cell": {
     "cellMetadata": {},
     "inputWidgets": {},
     "nuid": "c6bc0b86-908f-40da-bac8-f53c6763e3e8",
     "showTitle": false,
     "title": ""
    }
   },
   "outputs": [],
   "source": [
    "# TODO\n",
    "FILL_IN"
   ]
  },
  {
   "cell_type": "markdown",
   "metadata": {
    "application/vnd.databricks.v1+cell": {
     "cellMetadata": {},
     "inputWidgets": {},
     "nuid": "ed665f2f-feff-400b-8fb7-deec14b01f44",
     "showTitle": false,
     "title": ""
    }
   },
   "source": [
    "### Step 3: Correlations\n",
    "\n",
    "Calculate the correlations of the different variables.  Start by using `VectorAssembler` to put all the variables into a single column `features`."
   ]
  },
  {
   "cell_type": "code",
   "execution_count": 0,
   "metadata": {
    "application/vnd.databricks.v1+cell": {
     "cellMetadata": {},
     "inputWidgets": {},
     "nuid": "4169d68e-9b1c-448d-8389-48ed4f41c438",
     "showTitle": false,
     "title": ""
    }
   },
   "outputs": [],
   "source": [
    "# TODO\n",
    "from pyspark.ml.feature import VectorAssembler\n",
    "assembler = # FILL_IN"
   ]
  },
  {
   "cell_type": "markdown",
   "metadata": {
    "application/vnd.databricks.v1+cell": {
     "cellMetadata": {},
     "inputWidgets": {},
     "nuid": "884599c9-ad01-4b2c-a655-2987bce96bd4",
     "showTitle": false,
     "title": ""
    }
   },
   "source": [
    "Calculate the correlation on the transformed `bikeDF`"
   ]
  },
  {
   "cell_type": "code",
   "execution_count": 0,
   "metadata": {
    "application/vnd.databricks.v1+cell": {
     "cellMetadata": {},
     "inputWidgets": {},
     "nuid": "475b4540-c113-4684-81a2-bc6e002b8290",
     "showTitle": false,
     "title": ""
    }
   },
   "outputs": [],
   "source": [
    "# TODO\n",
    "from pyspark.ml.stat import Correlation\n",
    "\n",
    "pearsonCorr = FILL_IN\n",
    "pandasDF = FILL_IN"
   ]
  }
 ],
 "metadata": {
  "application/vnd.databricks.v1+notebook": {
   "dashboards": [],
   "language": "python",
   "notebookMetadata": {
    "pythonIndentUnit": 2
   },
   "notebookName": "4. Exercise Exploratory Analysis",
   "widgets": {}
  }
 },
 "nbformat": 4,
 "nbformat_minor": 0
}
