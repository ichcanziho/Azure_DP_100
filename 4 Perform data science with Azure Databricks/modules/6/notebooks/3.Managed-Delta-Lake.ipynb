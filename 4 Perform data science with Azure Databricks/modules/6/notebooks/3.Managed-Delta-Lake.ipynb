{
 "cells": [
  {
   "cell_type": "markdown",
   "metadata": {
    "application/vnd.databricks.v1+cell": {
     "cellMetadata": {},
     "inputWidgets": {},
     "nuid": "7351697f-4bea-41cb-bef1-089dd82f2890",
     "showTitle": false,
     "title": ""
    }
   },
   "source": [
    "# <img src=\"https://files.training.databricks.com/images/DeltaLake-logo.png\" width=80px> Managed Delta Lake\n",
    "\n",
    "Delta Lake&reg; managed and queried via the Databricks platform includes additional features and optimizations.\n",
    "\n",
    "These include:\n",
    "\n",
    "- **Optimize**\n",
    "\n",
    "- **Data skipping**\n",
    "\n",
    "- **Z-Order**\n",
    "\n",
    "- **Caching**\n",
    "\n",
    "<img src=\"https://www.evernote.com/l/AAGv1SuWeRNJM4TI4bIOyGNPm0CTHa17PLwB/image.png\" width=900px>"
   ]
  },
  {
   "cell_type": "markdown",
   "metadata": {
    "application/vnd.databricks.v1+cell": {
     "cellMetadata": {},
     "inputWidgets": {},
     "nuid": "0cfc6462-9674-4bcd-b15f-8b51324dad57",
     "showTitle": false,
     "title": ""
    }
   },
   "source": [
    "### Getting Started\n",
    "\n",
    "Run the following cell to configure our \"classroom.\""
   ]
  },
  {
   "cell_type": "code",
   "execution_count": 0,
   "metadata": {
    "application/vnd.databricks.v1+cell": {
     "cellMetadata": {},
     "inputWidgets": {},
     "nuid": "c501ab80-a4f3-4036-b35d-74a245d74d13",
     "showTitle": false,
     "title": ""
    }
   },
   "outputs": [
    {
     "output_type": "display_data",
     "data": {
      "text/html": [
       "<style scoped>\n",
       "  .ansiout {\n",
       "    display: block;\n",
       "    unicode-bidi: embed;\n",
       "    white-space: pre-wrap;\n",
       "    word-wrap: break-word;\n",
       "    word-break: break-all;\n",
       "    font-family: \"Menlo\", \"Monaco\", \"Consolas\", \"Ubuntu Mono\", \"Source Code Pro\", monospace;\n",
       "    font-size: 13px;\n",
       "    color: #555;\n",
       "    margin-left: 4px;\n",
       "    line-height: 19px;\n",
       "  }\n",
       "</style>"
      ]
     },
     "metadata": {
      "application/vnd.databricks.v1+output": {
       "arguments": {},
       "data": "",
       "errorSummary": "",
       "errorTraceType": null,
       "metadata": {},
       "type": "ipynbError"
      }
     },
     "output_type": "display_data"
    }
   ],
   "source": [
    "%run ./Includes/Classroom-Setup"
   ]
  },
  {
   "cell_type": "code",
   "execution_count": 0,
   "metadata": {
    "application/vnd.databricks.v1+cell": {
     "cellMetadata": {},
     "inputWidgets": {},
     "nuid": "ed691d10-e0ea-4a81-990a-ac33553514a2",
     "showTitle": false,
     "title": ""
    }
   },
   "outputs": [
    {
     "output_type": "display_data",
     "data": {
      "text/html": [
       "<style scoped>\n",
       "  .ansiout {\n",
       "    display: block;\n",
       "    unicode-bidi: embed;\n",
       "    white-space: pre-wrap;\n",
       "    word-wrap: break-word;\n",
       "    word-break: break-all;\n",
       "    font-family: \"Menlo\", \"Monaco\", \"Consolas\", \"Ubuntu Mono\", \"Source Code Pro\", monospace;\n",
       "    font-size: 13px;\n",
       "    color: #555;\n",
       "    margin-left: 4px;\n",
       "    line-height: 19px;\n",
       "  }\n",
       "</style>"
      ]
     },
     "metadata": {
      "application/vnd.databricks.v1+output": {
       "arguments": {},
       "data": "",
       "errorSummary": "",
       "errorTraceType": null,
       "metadata": {},
       "type": "ipynbError"
      }
     },
     "output_type": "display_data"
    }
   ],
   "source": [
    "%run ./Includes/Delta-Optimization-Setup"
   ]
  },
  {
   "cell_type": "code",
   "execution_count": 0,
   "metadata": {
    "application/vnd.databricks.v1+cell": {
     "cellMetadata": {},
     "inputWidgets": {},
     "nuid": "aa24e446-75db-44bf-bae4-7d5215ad8ba8",
     "showTitle": false,
     "title": ""
    }
   },
   "outputs": [
    {
     "output_type": "display_data",
     "data": {
      "text/html": [
       "<style scoped>\n",
       "  .ansiout {\n",
       "    display: block;\n",
       "    unicode-bidi: embed;\n",
       "    white-space: pre-wrap;\n",
       "    word-wrap: break-word;\n",
       "    word-break: break-all;\n",
       "    font-family: \"Menlo\", \"Monaco\", \"Consolas\", \"Ubuntu Mono\", \"Source Code Pro\", monospace;\n",
       "    font-size: 13px;\n",
       "    color: #555;\n",
       "    margin-left: 4px;\n",
       "    line-height: 19px;\n",
       "  }\n",
       "</style>"
      ]
     },
     "metadata": {
      "application/vnd.databricks.v1+output": {
       "arguments": {},
       "data": "",
       "errorSummary": "",
       "errorTraceType": null,
       "metadata": {},
       "type": "ipynbError"
      }
     },
     "output_type": "display_data"
    }
   ],
   "source": [
    "spark.sql(\"\"\"\n",
    "    DROP TABLE IF EXISTS iot_data\n",
    "  \"\"\")\n",
    "spark.sql(\"\"\"\n",
    "    CREATE TABLE iot_data\n",
    "    USING DELTA\n",
    "    LOCATION '{}/delta/iot-events/'\n",
    "  \"\"\".format(userhome))"
   ]
  },
  {
   "cell_type": "markdown",
   "metadata": {
    "application/vnd.databricks.v1+cell": {
     "cellMetadata": {},
     "inputWidgets": {},
     "nuid": "5572b2ba-7637-471d-9c22-ba309125b617",
     "showTitle": false,
     "title": ""
    }
   },
   "source": [
    "Set up relevant paths."
   ]
  },
  {
   "cell_type": "code",
   "execution_count": 0,
   "metadata": {
    "application/vnd.databricks.v1+cell": {
     "cellMetadata": {},
     "inputWidgets": {},
     "nuid": "ea099218-26e7-45b5-ba28-5259d146d600",
     "showTitle": false,
     "title": ""
    }
   },
   "outputs": [
    {
     "output_type": "display_data",
     "data": {
      "text/html": [
       "<style scoped>\n",
       "  .ansiout {\n",
       "    display: block;\n",
       "    unicode-bidi: embed;\n",
       "    white-space: pre-wrap;\n",
       "    word-wrap: break-word;\n",
       "    word-break: break-all;\n",
       "    font-family: \"Menlo\", \"Monaco\", \"Consolas\", \"Ubuntu Mono\", \"Source Code Pro\", monospace;\n",
       "    font-size: 13px;\n",
       "    color: #555;\n",
       "    margin-left: 4px;\n",
       "    line-height: 19px;\n",
       "  }\n",
       "</style>"
      ]
     },
     "metadata": {
      "application/vnd.databricks.v1+output": {
       "arguments": {},
       "data": "",
       "errorSummary": "",
       "errorTraceType": null,
       "metadata": {},
       "type": "ipynbError"
      }
     },
     "output_type": "display_data"
    }
   ],
   "source": [
    "iotPath = userhome + \"/delta/iot-events/\""
   ]
  },
  {
   "cell_type": "markdown",
   "metadata": {
    "application/vnd.databricks.v1+cell": {
     "cellMetadata": {},
     "inputWidgets": {},
     "nuid": "87d359aa-7be7-4f22-9f3a-532ad722c8b8",
     "showTitle": false,
     "title": ""
    }
   },
   "source": [
    "\n",
    "## SMALL FILE PROBLEM\n",
    "\n",
    "Historical and new data is often written in very small files and directories.\n",
    "\n",
    "This data may be spread across a data center or even across the world (that is, not co-located).\n",
    "\n",
    "The result is that a query on this data may be very slow due to\n",
    "* network latency\n",
    "* volume of file metatadata\n",
    "\n",
    "The solution is to compact many small files into one larger file.\n",
    "Delta Lake has a mechanism for compacting small files."
   ]
  },
  {
   "cell_type": "markdown",
   "metadata": {
    "application/vnd.databricks.v1+cell": {
     "cellMetadata": {},
     "inputWidgets": {},
     "nuid": "5c6fd06e-6502-4d09-9adf-be6cb2cc1e4a",
     "showTitle": false,
     "title": ""
    }
   },
   "source": [
    "### OPTIMIZE\n",
    "Delta Lake supports the `OPTIMIZE` operation, which performs file compaction.\n",
    "\n",
    "<img alt=\"Caution\" title=\"Caution\" style=\"vertical-align: text-bottom; position: relative; height:1.3em; top:0.0em\" src=\"https://files.training.databricks.com/static/images/icon-warning.svg\"/> Small files are compacted together into new larger files up to 1GB.\n",
    "Thus, at this point the number of files increases!\n",
    "\n",
    "The 1GB size was determined by the Databricks optimization team as a trade-off between query speed and run-time performance when running Optimize.\n",
    "\n",
    "`OPTIMIZE` is not run automatically because you must collect many small files first.\n",
    "\n",
    "* Run `OPTIMIZE` more often if you want better end-user query performance\n",
    "* Since `OPTIMIZE` is a time consuming step, run it less often if you want to optimize cost of compute hours\n",
    "* To start with, run `OPTIMIZE` on a daily basis (preferably at night when spot prices are low), and determine the right frequency for your particular business case\n",
    "* In the end, the frequency at which you run `OPTIMIZE` is a business decision\n",
    "\n",
    "The easiest way to see what `OPTIMIZE` does is to perform a simple `count(*)` query before and after and compare the timing!"
   ]
  },
  {
   "cell_type": "markdown",
   "metadata": {
    "application/vnd.databricks.v1+cell": {
     "cellMetadata": {},
     "inputWidgets": {},
     "nuid": "0926ee7c-b315-4493-a877-cc6e6d28d922",
     "showTitle": false,
     "title": ""
    }
   },
   "source": [
    "Take a look at the `iotPath + \"/date=2018-06-01/\" ` directory.\n",
    "\n",
    "Notice, in particular files like `../delta/iot-events/date=2018-07-26/part-xxxx.snappy.parquet`. There are hundreds of small files!"
   ]
  },
  {
   "cell_type": "code",
   "execution_count": 0,
   "metadata": {
    "application/vnd.databricks.v1+cell": {
     "cellMetadata": {},
     "inputWidgets": {},
     "nuid": "025eeb9a-b311-4dee-9f75-9fe81b6dfd4b",
     "showTitle": false,
     "title": ""
    }
   },
   "outputs": [
    {
     "output_type": "display_data",
     "data": {
      "text/html": [
       "<style scoped>\n",
       "  .ansiout {\n",
       "    display: block;\n",
       "    unicode-bidi: embed;\n",
       "    white-space: pre-wrap;\n",
       "    word-wrap: break-word;\n",
       "    word-break: break-all;\n",
       "    font-family: \"Menlo\", \"Monaco\", \"Consolas\", \"Ubuntu Mono\", \"Source Code Pro\", monospace;\n",
       "    font-size: 13px;\n",
       "    color: #555;\n",
       "    margin-left: 4px;\n",
       "    line-height: 19px;\n",
       "  }\n",
       "</style>"
      ]
     },
     "metadata": {
      "application/vnd.databricks.v1+output": {
       "arguments": {},
       "data": "",
       "errorSummary": "",
       "errorTraceType": null,
       "metadata": {},
       "type": "ipynbError"
      }
     },
     "output_type": "display_data"
    }
   ],
   "source": [
    "display(dbutils.fs.ls(iotPath + \"/date=2016-07-26\"))"
   ]
  },
  {
   "cell_type": "markdown",
   "metadata": {
    "application/vnd.databricks.v1+cell": {
     "cellMetadata": {},
     "inputWidgets": {},
     "nuid": "12d0e775-e9ef-4bf4-9502-26bab2fe6540",
     "showTitle": false,
     "title": ""
    }
   },
   "source": [
    "CAUTION: Run this query. Notice it is very slow, due to the number of small files."
   ]
  },
  {
   "cell_type": "code",
   "execution_count": 0,
   "metadata": {
    "application/vnd.databricks.v1+cell": {
     "cellMetadata": {},
     "inputWidgets": {},
     "nuid": "44637e09-3fc3-4c62-9341-4ae7caf451bd",
     "showTitle": false,
     "title": ""
    }
   },
   "outputs": [
    {
     "output_type": "display_data",
     "data": {
      "text/html": [
       "<style scoped>\n",
       "  .ansiout {\n",
       "    display: block;\n",
       "    unicode-bidi: embed;\n",
       "    white-space: pre-wrap;\n",
       "    word-wrap: break-word;\n",
       "    word-break: break-all;\n",
       "    font-family: \"Menlo\", \"Monaco\", \"Consolas\", \"Ubuntu Mono\", \"Source Code Pro\", monospace;\n",
       "    font-size: 13px;\n",
       "    color: #555;\n",
       "    margin-left: 4px;\n",
       "    line-height: 19px;\n",
       "  }\n",
       "</style>"
      ]
     },
     "metadata": {
      "application/vnd.databricks.v1+output": {
       "arguments": {},
       "data": "",
       "errorSummary": "",
       "errorTraceType": null,
       "metadata": {},
       "type": "ipynbError"
      }
     },
     "output_type": "display_data"
    }
   ],
   "source": [
    "%sql\n",
    "SELECT * FROM iot_data where deviceId=92"
   ]
  },
  {
   "cell_type": "markdown",
   "metadata": {
    "application/vnd.databricks.v1+cell": {
     "cellMetadata": {},
     "inputWidgets": {},
     "nuid": "d5c195b3-59f8-4c13-895d-fa311a2f8eac",
     "showTitle": false,
     "title": ""
    }
   },
   "source": [
    "### Data Skipping and ZORDER\n",
    "\n",
    "Delta Lake uses two mechanisms to speed up queries.\n",
    "\n",
    "<b>Data Skipping</b> is a performance optimization that aims at speeding up queries that contain filters (WHERE clauses).\n",
    "\n",
    "For example, we have a data set that is partitioned by `date`.\n",
    "\n",
    "A query using `WHERE date > 2016-07-26` would not access data that resides in partitions that correspond to dates prior to `2016-07-26`.\n",
    "\n",
    "<b>ZOrdering</b> is a technique to colocate related information in the same set of files.\n",
    "\n",
    "ZOrdering maps multidimensional data to one dimension while preserving locality of the data points.\n",
    "\n",
    "Given a column that you want to perform ZORDER on, say `OrderColumn`, Delta\n",
    "* takes existing parquet files within a partition\n",
    "* maps the rows within the parquet files according to `OrderColumn` using the algorithm described <a href=\"https://en.wikipedia.org/wiki/Z-order_curve\" target=\"_blank\">here</a>\n",
    "* (in the case of only one column, the mapping above becomes a linear sort)\n",
    "* rewrites the sorted data into new parquet files\n",
    "\n",
    "<img alt=\"Side Note\" title=\"Side Note\" style=\"vertical-align: text-bottom; position: relative; height:1.75em; top:0.05em; transform:rotate(15deg)\" src=\"https://files.training.databricks.com/static/images/icon-note.webp\"/> You cannot use the partition column also as a ZORDER column."
   ]
  },
  {
   "cell_type": "markdown",
   "metadata": {
    "application/vnd.databricks.v1+cell": {
     "cellMetadata": {},
     "inputWidgets": {},
     "nuid": "1a111ff4-1cef-4bf3-a5ce-8e8b075e7a85",
     "showTitle": false,
     "title": ""
    }
   },
   "source": [
    "#### ZORDER Technical Overview\n",
    "\n",
    "A brief example of how this algorithm works (refer to [this blog](https://databricks.com/blog/2018/07/31/processing-petabytes-of-data-in-seconds-with-databricks-delta.html) for more details):\n",
    "\n",
    "![](https://files.training.databricks.com/images/adbcore/zorder.png)\n",
    "\n",
    "Legend:\n",
    "- Gray dot = data point e.g., chessboard square coordinates\n",
    "- Gray box = data file; in this example, we aim for files of 4 points each\n",
    "- Yellow box = data file that’s read for the given query\n",
    "- Green dot = data point that passes the query’s filter and answers the query\n",
    "- Red dot = data point that’s read, but doesn’t satisfy the filter; “false positive”"
   ]
  },
  {
   "cell_type": "markdown",
   "metadata": {
    "application/vnd.databricks.v1+cell": {
     "cellMetadata": {},
     "inputWidgets": {},
     "nuid": "42865447-dd9e-4ab0-bae8-2bebcc4474ef",
     "showTitle": false,
     "title": ""
    }
   },
   "source": [
    "\n",
    "\n",
    "#### ZORDER example\n",
    "In the image below, table `Students` has 4 columns:\n",
    "* `gender` with 2 distinct values\n",
    "* `Pass-Fail` with 2 distinct values\n",
    "* `Class` with 4 distinct values\n",
    "* `Student` with many distinct values\n",
    "\n",
    "Suppose you wish to perform the following query:\n",
    "\n",
    "```SELECT Name FROM Students WHERE gender = 'M' AND Pass_Fail = 'P' AND Class = 'Junior'```\n",
    "\n",
    "```ORDER BY Gender, Pass_Fail```\n",
    "\n",
    "The most effective way of performing that search is to order the data starting with the largest set, which is `Gender` in this case.\n",
    "\n",
    "If you're searching for `gender = 'M'`, then you don't even have to look at students with `gender = 'F'`.\n",
    "\n",
    "Note that this technique only works if all `gender = 'M'` values are co-located.\n",
    "\n",
    "\n",
    "<div><img src=\"https://files.training.databricks.com/images/eLearning/Delta/zorder.png\" style=\"height: 300px\"/></div><br/>"
   ]
  },
  {
   "cell_type": "markdown",
   "metadata": {
    "application/vnd.databricks.v1+cell": {
     "cellMetadata": {},
     "inputWidgets": {},
     "nuid": "75b35b3a-3631-4503-8e00-9f3799be74a9",
     "showTitle": false,
     "title": ""
    }
   },
   "source": [
    "#### ZORDER usage\n",
    "\n",
    "With Delta Lake the notation is:\n",
    "\n",
    "> `OPTIMIZE Students`<br>\n",
    "`ZORDER BY Gender, Pass_Fail`\n",
    "\n",
    "This will ensure all the data backing `Gender = 'M' ` is colocated, then data associated with `Pass_Fail = 'P' ` is colocated.\n",
    "\n",
    "See References below for more details on the algorithms behind ZORDER.\n",
    "\n",
    "Using ZORDER, you can order by multiple columns as a comma separated list; however, the effectiveness of locality drops.\n",
    "\n",
    "In streaming, where incoming events are inherently ordered (more or less) by event time, use `ZORDER` to sort by a different column, say 'userID'."
   ]
  },
  {
   "cell_type": "code",
   "execution_count": 0,
   "metadata": {
    "application/vnd.databricks.v1+cell": {
     "cellMetadata": {},
     "inputWidgets": {},
     "nuid": "291d4c25-01a6-4e89-b4a0-e42f9c6c8826",
     "showTitle": false,
     "title": ""
    }
   },
   "outputs": [
    {
     "output_type": "display_data",
     "data": {
      "text/html": [
       "<style scoped>\n",
       "  .ansiout {\n",
       "    display: block;\n",
       "    unicode-bidi: embed;\n",
       "    white-space: pre-wrap;\n",
       "    word-wrap: break-word;\n",
       "    word-break: break-all;\n",
       "    font-family: \"Menlo\", \"Monaco\", \"Consolas\", \"Ubuntu Mono\", \"Source Code Pro\", monospace;\n",
       "    font-size: 13px;\n",
       "    color: #555;\n",
       "    margin-left: 4px;\n",
       "    line-height: 19px;\n",
       "  }\n",
       "</style>"
      ]
     },
     "metadata": {
      "application/vnd.databricks.v1+output": {
       "arguments": {},
       "data": "",
       "errorSummary": "",
       "errorTraceType": null,
       "metadata": {},
       "type": "ipynbError"
      }
     },
     "output_type": "display_data"
    }
   ],
   "source": [
    "%sql\n",
    "OPTIMIZE iot_data\n",
    "ZORDER by (deviceId)"
   ]
  },
  {
   "cell_type": "code",
   "execution_count": 0,
   "metadata": {
    "application/vnd.databricks.v1+cell": {
     "cellMetadata": {},
     "inputWidgets": {},
     "nuid": "fb996931-38ac-44e4-b5f5-7ecd6c035245",
     "showTitle": false,
     "title": ""
    }
   },
   "outputs": [
    {
     "output_type": "display_data",
     "data": {
      "text/html": [
       "<style scoped>\n",
       "  .ansiout {\n",
       "    display: block;\n",
       "    unicode-bidi: embed;\n",
       "    white-space: pre-wrap;\n",
       "    word-wrap: break-word;\n",
       "    word-break: break-all;\n",
       "    font-family: \"Menlo\", \"Monaco\", \"Consolas\", \"Ubuntu Mono\", \"Source Code Pro\", monospace;\n",
       "    font-size: 13px;\n",
       "    color: #555;\n",
       "    margin-left: 4px;\n",
       "    line-height: 19px;\n",
       "  }\n",
       "</style>"
      ]
     },
     "metadata": {
      "application/vnd.databricks.v1+output": {
       "arguments": {},
       "data": "",
       "errorSummary": "",
       "errorTraceType": null,
       "metadata": {},
       "type": "ipynbError"
      }
     },
     "output_type": "display_data"
    }
   ],
   "source": [
    "%sql\n",
    "SELECT * FROM iot_data WHERE deviceId=92"
   ]
  },
  {
   "cell_type": "markdown",
   "metadata": {
    "application/vnd.databricks.v1+cell": {
     "cellMetadata": {},
     "inputWidgets": {},
     "nuid": "e9660482-508a-45c7-92aa-8ce19adbf694",
     "showTitle": false,
     "title": ""
    }
   },
   "source": [
    "## VACUUM\n",
    "\n",
    "To save on storage costs you should occasionally clean up invalid files using the `VACUUM` command.\n",
    "\n",
    "Invalid files are small files compacted into a larger file with the `OPTIMIZE` command.\n",
    "\n",
    "The  syntax of the `VACUUM` command is\n",
    ">`VACUUM name-of-table RETAIN number-of HOURS;`\n",
    "\n",
    "The `number-of` parameter is the <b>retention interval</b>, specified in hours.\n",
    "\n",
    "<img alt=\"Caution\" title=\"Caution\" style=\"vertical-align: text-bottom; position: relative; height:1.3em; top:0.0em\" src=\"https://files.training.databricks.com/static/images/icon-warning.svg\"/> Databricks does not recommend you set a retention interval shorter than seven days because old snapshots and uncommitted files can still be in use by concurrent readers or writers to the table.\n",
    "\n",
    "The scenario here is:\n",
    "0. User A starts a query off uncompacted files, then\n",
    "0. User B invokes a `VACUUM` command, which deletes the uncompacted files\n",
    "0. User A's query fails because the underlying files have disappeared\n",
    "\n",
    "Invalid files can also result from updates/upserts/deletions.\n",
    "\n",
    "More details are provided here: <a href=\"https://docs.databricks.com/delta/optimizations.html#garbage-collection\" target=\"_blank\"> Garbage Collection</a>."
   ]
  },
  {
   "cell_type": "code",
   "execution_count": 0,
   "metadata": {
    "application/vnd.databricks.v1+cell": {
     "cellMetadata": {},
     "inputWidgets": {},
     "nuid": "192ad058-386a-43d9-b69b-b3c6ce10b8ec",
     "showTitle": false,
     "title": ""
    }
   },
   "outputs": [
    {
     "output_type": "display_data",
     "data": {
      "text/html": [
       "<style scoped>\n",
       "  .ansiout {\n",
       "    display: block;\n",
       "    unicode-bidi: embed;\n",
       "    white-space: pre-wrap;\n",
       "    word-wrap: break-word;\n",
       "    word-break: break-all;\n",
       "    font-family: \"Menlo\", \"Monaco\", \"Consolas\", \"Ubuntu Mono\", \"Source Code Pro\", monospace;\n",
       "    font-size: 13px;\n",
       "    color: #555;\n",
       "    margin-left: 4px;\n",
       "    line-height: 19px;\n",
       "  }\n",
       "</style>"
      ]
     },
     "metadata": {
      "application/vnd.databricks.v1+output": {
       "arguments": {},
       "data": "",
       "errorSummary": "",
       "errorTraceType": null,
       "metadata": {},
       "type": "ipynbError"
      }
     },
     "output_type": "display_data"
    }
   ],
   "source": [
    "len(dbutils.fs.ls(iotPath + \"date=2016-07-26\"))"
   ]
  },
  {
   "cell_type": "markdown",
   "metadata": {
    "application/vnd.databricks.v1+cell": {
     "cellMetadata": {},
     "inputWidgets": {},
     "nuid": "fa584b6c-7765-4e5d-8f85-5bc1beedf204",
     "showTitle": false,
     "title": ""
    }
   },
   "source": [
    "<img alt=\"Caution\" title=\"Caution\" style=\"vertical-align: text-bottom; position: relative; height:1.3em; top:0.0em\" src=\"https://files.training.databricks.com/static/images/icon-warning.svg\"/> In the example below we set off an immediate `VACUUM` operation with an override of the retention check so that all files are cleaned up immediately.\n",
    "\n",
    "Do not do this in production!\n",
    "\n",
    "<img alt=\"Side Note\" title=\"Side Note\" style=\"vertical-align: text-bottom; position: relative; height:1.75em; top:0.05em; transform:rotate(15deg)\" src=\"https://files.training.databricks.com/static/images/icon-note.webp\"/> If using Databricks Runtime 5.1, in order to use a retention time of 0 hours, the following flag must be set."
   ]
  },
  {
   "cell_type": "code",
   "execution_count": 0,
   "metadata": {
    "application/vnd.databricks.v1+cell": {
     "cellMetadata": {},
     "inputWidgets": {},
     "nuid": "2c248c23-876b-415b-85e2-44776f605e7d",
     "showTitle": false,
     "title": ""
    }
   },
   "outputs": [
    {
     "output_type": "display_data",
     "data": {
      "text/html": [
       "<style scoped>\n",
       "  .ansiout {\n",
       "    display: block;\n",
       "    unicode-bidi: embed;\n",
       "    white-space: pre-wrap;\n",
       "    word-wrap: break-word;\n",
       "    word-break: break-all;\n",
       "    font-family: \"Menlo\", \"Monaco\", \"Consolas\", \"Ubuntu Mono\", \"Source Code Pro\", monospace;\n",
       "    font-size: 13px;\n",
       "    color: #555;\n",
       "    margin-left: 4px;\n",
       "    line-height: 19px;\n",
       "  }\n",
       "</style>"
      ]
     },
     "metadata": {
      "application/vnd.databricks.v1+output": {
       "arguments": {},
       "data": "",
       "errorSummary": "",
       "errorTraceType": null,
       "metadata": {},
       "type": "ipynbError"
      }
     },
     "output_type": "display_data"
    }
   ],
   "source": [
    "spark.conf.set(\"spark.databricks.delta.retentionDurationCheck.enabled\", False)"
   ]
  },
  {
   "cell_type": "code",
   "execution_count": 0,
   "metadata": {
    "application/vnd.databricks.v1+cell": {
     "cellMetadata": {},
     "inputWidgets": {},
     "nuid": "0d12ea1e-6f6d-4e06-848a-730146b30fc5",
     "showTitle": false,
     "title": ""
    }
   },
   "outputs": [
    {
     "output_type": "display_data",
     "data": {
      "text/html": [
       "<style scoped>\n",
       "  .ansiout {\n",
       "    display: block;\n",
       "    unicode-bidi: embed;\n",
       "    white-space: pre-wrap;\n",
       "    word-wrap: break-word;\n",
       "    word-break: break-all;\n",
       "    font-family: \"Menlo\", \"Monaco\", \"Consolas\", \"Ubuntu Mono\", \"Source Code Pro\", monospace;\n",
       "    font-size: 13px;\n",
       "    color: #555;\n",
       "    margin-left: 4px;\n",
       "    line-height: 19px;\n",
       "  }\n",
       "</style>"
      ]
     },
     "metadata": {
      "application/vnd.databricks.v1+output": {
       "arguments": {},
       "data": "",
       "errorSummary": "",
       "errorTraceType": null,
       "metadata": {},
       "type": "ipynbError"
      }
     },
     "output_type": "display_data"
    }
   ],
   "source": [
    "%sql\n",
    "\n",
    "VACUUM iot_data RETAIN 0 HOURS;"
   ]
  },
  {
   "cell_type": "markdown",
   "metadata": {
    "application/vnd.databricks.v1+cell": {
     "cellMetadata": {},
     "inputWidgets": {},
     "nuid": "41783350-726a-42c9-8dc1-af02368aad56",
     "showTitle": false,
     "title": ""
    }
   },
   "source": [
    "<img alt=\"Side Note\" title=\"Side Note\" style=\"vertical-align: text-bottom; position: relative; height:1.75em; top:0.05em; transform:rotate(15deg)\" src=\"https://files.training.databricks.com/static/images/icon-note.webp\"/> Notice how the directory looks vastly cleaned up!"
   ]
  },
  {
   "cell_type": "code",
   "execution_count": 0,
   "metadata": {
    "application/vnd.databricks.v1+cell": {
     "cellMetadata": {},
     "inputWidgets": {},
     "nuid": "fd4db882-8452-4723-86d9-c0c42ddf2d7b",
     "showTitle": false,
     "title": ""
    }
   },
   "outputs": [
    {
     "output_type": "display_data",
     "data": {
      "text/html": [
       "<style scoped>\n",
       "  .ansiout {\n",
       "    display: block;\n",
       "    unicode-bidi: embed;\n",
       "    white-space: pre-wrap;\n",
       "    word-wrap: break-word;\n",
       "    word-break: break-all;\n",
       "    font-family: \"Menlo\", \"Monaco\", \"Consolas\", \"Ubuntu Mono\", \"Source Code Pro\", monospace;\n",
       "    font-size: 13px;\n",
       "    color: #555;\n",
       "    margin-left: 4px;\n",
       "    line-height: 19px;\n",
       "  }\n",
       "</style>"
      ]
     },
     "metadata": {
      "application/vnd.databricks.v1+output": {
       "arguments": {},
       "data": "",
       "errorSummary": "",
       "errorTraceType": null,
       "metadata": {},
       "type": "ipynbError"
      }
     },
     "output_type": "display_data"
    }
   ],
   "source": [
    "len(dbutils.fs.ls(iotPath + \"date=2016-07-26\"))"
   ]
  },
  {
   "cell_type": "markdown",
   "metadata": {
    "application/vnd.databricks.v1+cell": {
     "cellMetadata": {},
     "inputWidgets": {},
     "nuid": "f4745b60-a40a-43dc-a876-2e8f6f332ca8",
     "showTitle": false,
     "title": ""
    }
   },
   "source": [
    "## Summary\n",
    "Delta Lake offers key features that allow for query optimization and garbage collection, resulting in improved performance."
   ]
  },
  {
   "cell_type": "markdown",
   "metadata": {
    "application/vnd.databricks.v1+cell": {
     "cellMetadata": {},
     "inputWidgets": {},
     "nuid": "7e60def0-d59f-4498-acee-536e6b12dd69",
     "showTitle": false,
     "title": ""
    }
   },
   "source": [
    "## Additional Topics & Resources\n",
    "\n",
    "* <a href=\"https://docs.databricks.com/delta/optimizations.html#\" target=\"_blank\">Optimizing Performance and Cost</a>\n",
    "* <a href=\"http://parquet.apache.org/documentation/latest/\" target=\"_blank\">Parquet Metadata</a>\n",
    "* <a href=\"https://en.wikipedia.org/wiki/Z-order_curve\" target=\"_blank\">Z-Order Curve</a>\n"
   ]
  }
 ],
 "metadata": {
  "application/vnd.databricks.v1+notebook": {
   "dashboards": [],
   "language": "python",
   "notebookMetadata": {
    "pythonIndentUnit": 2
   },
   "notebookName": "3.Managed-Delta-Lake",
   "widgets": {}
  }
 },
 "nbformat": 4,
 "nbformat_minor": 0
}
