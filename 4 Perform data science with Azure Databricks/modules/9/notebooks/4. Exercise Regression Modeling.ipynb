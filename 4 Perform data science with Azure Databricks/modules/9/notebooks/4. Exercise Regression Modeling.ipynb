{
 "cells": [
  {
   "cell_type": "markdown",
   "metadata": {
    "application/vnd.databricks.v1+cell": {
     "cellMetadata": {},
     "inputWidgets": {},
     "nuid": "fe9c722c-1bbf-4c7a-af44-ae2fce472b9f",
     "showTitle": false,
     "title": ""
    }
   },
   "source": [
    "## Exercise: Improve the Regression Model\n",
    "\n",
    "Improve on the model trained in the **Regression Modeling** unit by adding features and interpreting the results."
   ]
  },
  {
   "cell_type": "markdown",
   "metadata": {
    "application/vnd.databricks.v1+cell": {
     "cellMetadata": {},
     "inputWidgets": {},
     "nuid": "ea1c9111-36b5-4d2c-9864-6cc2b4571669",
     "showTitle": false,
     "title": ""
    }
   },
   "source": [
    "Run the following cell to set up our environment."
   ]
  },
  {
   "cell_type": "code",
   "execution_count": 0,
   "metadata": {
    "application/vnd.databricks.v1+cell": {
     "cellMetadata": {},
     "inputWidgets": {},
     "nuid": "e2c0f999-93fa-406b-9cab-9ad532f67ab1",
     "showTitle": false,
     "title": ""
    }
   },
   "outputs": [
    {
     "output_type": "display_data",
     "data": {
      "text/html": [
       "<style scoped>\n",
       "  .ansiout {\n",
       "    display: block;\n",
       "    unicode-bidi: embed;\n",
       "    white-space: pre-wrap;\n",
       "    word-wrap: break-word;\n",
       "    word-break: break-all;\n",
       "    font-family: \"Menlo\", \"Monaco\", \"Consolas\", \"Ubuntu Mono\", \"Source Code Pro\", monospace;\n",
       "    font-size: 13px;\n",
       "    color: #555;\n",
       "    margin-left: 4px;\n",
       "    line-height: 19px;\n",
       "  }\n",
       "</style>"
      ]
     },
     "metadata": {
      "application/vnd.databricks.v1+output": {
       "arguments": {},
       "data": "",
       "errorSummary": "",
       "errorTraceType": null,
       "metadata": {},
       "type": "ipynbError"
      }
     },
     "output_type": "display_data"
    }
   ],
   "source": [
    "%run \"../Includes/Classroom-Setup\""
   ]
  },
  {
   "cell_type": "markdown",
   "metadata": {
    "application/vnd.databricks.v1+cell": {
     "cellMetadata": {},
     "inputWidgets": {},
     "nuid": "5d0905ba-c7d7-4bd0-aa34-871eaf78ccb1",
     "showTitle": false,
     "title": ""
    }
   },
   "source": [
    "Import the Boston dataset."
   ]
  },
  {
   "cell_type": "code",
   "execution_count": 0,
   "metadata": {
    "application/vnd.databricks.v1+cell": {
     "cellMetadata": {},
     "inputWidgets": {},
     "nuid": "ddee86d0-34a3-4418-ace7-ce03dd88e754",
     "showTitle": false,
     "title": ""
    }
   },
   "outputs": [
    {
     "output_type": "display_data",
     "data": {
      "text/html": [
       "<style scoped>\n",
       "  .ansiout {\n",
       "    display: block;\n",
       "    unicode-bidi: embed;\n",
       "    white-space: pre-wrap;\n",
       "    word-wrap: break-word;\n",
       "    word-break: break-all;\n",
       "    font-family: \"Menlo\", \"Monaco\", \"Consolas\", \"Ubuntu Mono\", \"Source Code Pro\", monospace;\n",
       "    font-size: 13px;\n",
       "    color: #555;\n",
       "    margin-left: 4px;\n",
       "    line-height: 19px;\n",
       "  }\n",
       "</style>"
      ]
     },
     "metadata": {
      "application/vnd.databricks.v1+output": {
       "arguments": {},
       "data": "",
       "errorSummary": "",
       "errorTraceType": null,
       "metadata": {},
       "type": "ipynbError"
      }
     },
     "output_type": "display_data"
    }
   ],
   "source": [
    "bostonDF = (spark.read\n",
    "  .option(\"HEADER\", True)\n",
    "  .option(\"inferSchema\", True)\n",
    "  .csv(\"/mnt/training/bostonhousing/bostonhousing/bostonhousing.csv\")\n",
    "  .drop(\"_c0\")\n",
    ")\n",
    "\n",
    "display(bostonDF)"
   ]
  },
  {
   "cell_type": "markdown",
   "metadata": {
    "application/vnd.databricks.v1+cell": {
     "cellMetadata": {},
     "inputWidgets": {},
     "nuid": "3439a505-7f80-4e9c-9ef2-ad1c8f7a5fd2",
     "showTitle": false,
     "title": ""
    }
   },
   "source": [
    "### Step 1: Prepare the Features for a New Model\n",
    "\n",
    "Prepare a new column `allFeatures` for a new model that uses all of the features in `bostonDF` except for the label `medv`.  Create the following variables:<br><br>\n",
    "\n",
    "1. `allFeatures`: a list of all the column names\n",
    "2. `assemblerAllFeatures`: A `VectorAssembler` that uses `allFeatures` to create the output column `allFeatures`\n",
    "3. `bostonFeaturizedAllFeaturesDF`: The transformed `bostonDF`"
   ]
  },
  {
   "cell_type": "code",
   "execution_count": 0,
   "metadata": {
    "application/vnd.databricks.v1+cell": {
     "cellMetadata": {},
     "inputWidgets": {},
     "nuid": "b83fbc53-4916-46a3-ade8-4a514fe9a180",
     "showTitle": false,
     "title": ""
    }
   },
   "outputs": [
    {
     "output_type": "display_data",
     "data": {
      "text/html": [
       "<style scoped>\n",
       "  .ansiout {\n",
       "    display: block;\n",
       "    unicode-bidi: embed;\n",
       "    white-space: pre-wrap;\n",
       "    word-wrap: break-word;\n",
       "    word-break: break-all;\n",
       "    font-family: \"Menlo\", \"Monaco\", \"Consolas\", \"Ubuntu Mono\", \"Source Code Pro\", monospace;\n",
       "    font-size: 13px;\n",
       "    color: #555;\n",
       "    margin-left: 4px;\n",
       "    line-height: 19px;\n",
       "  }\n",
       "</style>"
      ]
     },
     "metadata": {
      "application/vnd.databricks.v1+output": {
       "arguments": {},
       "data": "",
       "errorSummary": "",
       "errorTraceType": null,
       "metadata": {},
       "type": "ipynbError"
      }
     },
     "output_type": "display_data"
    }
   ],
   "source": [
    "# ANSWER\n",
    "from pyspark.ml.feature import VectorAssembler\n",
    "\n",
    "allFeatures = bostonDF.columns[:-1]\n",
    "assemblerAllFeatures = VectorAssembler(inputCols=allFeatures, outputCol=\"allFeatures\")\n",
    "\n",
    "bostonFeaturizedAllFeaturesDF = assemblerAllFeatures.transform(bostonDF)\n",
    "\n",
    "display(bostonFeaturizedAllFeaturesDF)"
   ]
  },
  {
   "cell_type": "code",
   "execution_count": 0,
   "metadata": {
    "application/vnd.databricks.v1+cell": {
     "cellMetadata": {},
     "inputWidgets": {},
     "nuid": "62e4b0eb-4558-491e-8129-4451b3bef909",
     "showTitle": false,
     "title": ""
    }
   },
   "outputs": [
    {
     "output_type": "display_data",
     "data": {
      "text/html": [
       "<style scoped>\n",
       "  .ansiout {\n",
       "    display: block;\n",
       "    unicode-bidi: embed;\n",
       "    white-space: pre-wrap;\n",
       "    word-wrap: break-word;\n",
       "    word-break: break-all;\n",
       "    font-family: \"Menlo\", \"Monaco\", \"Consolas\", \"Ubuntu Mono\", \"Source Code Pro\", monospace;\n",
       "    font-size: 13px;\n",
       "    color: #555;\n",
       "    margin-left: 4px;\n",
       "    line-height: 19px;\n",
       "  }\n",
       "</style>"
      ]
     },
     "metadata": {
      "application/vnd.databricks.v1+output": {
       "arguments": {},
       "data": "",
       "errorSummary": "",
       "errorTraceType": null,
       "metadata": {},
       "type": "ipynbError"
      }
     },
     "output_type": "display_data"
    }
   ],
   "source": [
    "# TEST - Run this cell to test your solution\n",
    "from pyspark.ml.feature import VectorAssembler\n",
    "\n",
    "_features = ['crim',\n",
    "  'zn',\n",
    "  'indus',\n",
    "  'chas',\n",
    "  'nox',\n",
    "  'rm',\n",
    "  'age',\n",
    "  'dis',\n",
    "  'rad',\n",
    "  'tax',\n",
    "  'ptratio',\n",
    "  'black',\n",
    "  'lstat'\n",
    "]\n",
    "\n",
    "dbTest(\"ML1-P-06-01-01\", _features, allFeatures)\n",
    "dbTest(\"ML1-P-06-01-02\", True, type(assemblerAllFeatures) == type(VectorAssembler()))\n",
    "dbTest(\"ML1-P-06-01-03\", True, assemblerAllFeatures.getOutputCol() == 'allFeatures')\n",
    "dbTest(\"ML1-P-06-01-04\", True, \"allFeatures\" in bostonFeaturizedAllFeaturesDF.columns)\n",
    "\n",
    "print(\"Tests passed!\")"
   ]
  },
  {
   "cell_type": "markdown",
   "metadata": {
    "application/vnd.databricks.v1+cell": {
     "cellMetadata": {},
     "inputWidgets": {},
     "nuid": "d77f8e41-27de-416d-8ff6-ec24a9b4e4da",
     "showTitle": false,
     "title": ""
    }
   },
   "source": [
    "### Step 2: Train the Model\n",
    "\n",
    "Create a linear regression model `lrAllFeatures`.  Save the trained model to lrModelAllFeatures."
   ]
  },
  {
   "cell_type": "code",
   "execution_count": 0,
   "metadata": {
    "application/vnd.databricks.v1+cell": {
     "cellMetadata": {},
     "inputWidgets": {},
     "nuid": "07e4d64e-c9ff-463d-8a17-f8fe4ad7c45e",
     "showTitle": false,
     "title": ""
    }
   },
   "outputs": [
    {
     "output_type": "display_data",
     "data": {
      "text/html": [
       "<style scoped>\n",
       "  .ansiout {\n",
       "    display: block;\n",
       "    unicode-bidi: embed;\n",
       "    white-space: pre-wrap;\n",
       "    word-wrap: break-word;\n",
       "    word-break: break-all;\n",
       "    font-family: \"Menlo\", \"Monaco\", \"Consolas\", \"Ubuntu Mono\", \"Source Code Pro\", monospace;\n",
       "    font-size: 13px;\n",
       "    color: #555;\n",
       "    margin-left: 4px;\n",
       "    line-height: 19px;\n",
       "  }\n",
       "</style>"
      ]
     },
     "metadata": {
      "application/vnd.databricks.v1+output": {
       "arguments": {},
       "data": "",
       "errorSummary": "",
       "errorTraceType": null,
       "metadata": {},
       "type": "ipynbError"
      }
     },
     "output_type": "display_data"
    }
   ],
   "source": [
    "# ANSWER\n",
    "from pyspark.ml.regression import LinearRegression\n",
    "\n",
    "lrAllFeatures = (LinearRegression()\n",
    "  .setLabelCol(\"medv\")\n",
    "  .setFeaturesCol(\"allFeatures\")\n",
    ")\n",
    "\n",
    "lrModelAllFeatures = lrAllFeatures.fit(bostonFeaturizedAllFeaturesDF)"
   ]
  },
  {
   "cell_type": "code",
   "execution_count": 0,
   "metadata": {
    "application/vnd.databricks.v1+cell": {
     "cellMetadata": {},
     "inputWidgets": {},
     "nuid": "91f3279c-810c-454c-ac25-5963fc6fc249",
     "showTitle": false,
     "title": ""
    }
   },
   "outputs": [
    {
     "output_type": "display_data",
     "data": {
      "text/html": [
       "<style scoped>\n",
       "  .ansiout {\n",
       "    display: block;\n",
       "    unicode-bidi: embed;\n",
       "    white-space: pre-wrap;\n",
       "    word-wrap: break-word;\n",
       "    word-break: break-all;\n",
       "    font-family: \"Menlo\", \"Monaco\", \"Consolas\", \"Ubuntu Mono\", \"Source Code Pro\", monospace;\n",
       "    font-size: 13px;\n",
       "    color: #555;\n",
       "    margin-left: 4px;\n",
       "    line-height: 19px;\n",
       "  }\n",
       "</style>"
      ]
     },
     "metadata": {
      "application/vnd.databricks.v1+output": {
       "arguments": {},
       "data": "",
       "errorSummary": "",
       "errorTraceType": null,
       "metadata": {},
       "type": "ipynbError"
      }
     },
     "output_type": "display_data"
    }
   ],
   "source": [
    "# TEST - Run this cell to test your solution\n",
    "from pyspark.ml.regression import LinearRegression\n",
    "\n",
    "dbTest(\"ML1-P-06-02-01\", True, type(lrAllFeatures) == type(LinearRegression()))\n",
    "dbTest(\"ML1-P-06-02-02\", True, lrAllFeatures.getLabelCol() == 'medv')\n",
    "dbTest(\"ML1-P-06-02-03\", True, lrAllFeatures.getFeaturesCol() == 'allFeatures')\n",
    "dbTest(\"ML1-P-06-02-04\", True, \"LinearRegressionModel\" in str(type(lrModelAllFeatures)))\n",
    "\n",
    "print(\"Tests passed!\")"
   ]
  },
  {
   "cell_type": "markdown",
   "metadata": {
    "application/vnd.databricks.v1+cell": {
     "cellMetadata": {},
     "inputWidgets": {},
     "nuid": "a2135289-ee0a-4a6b-9e9f-987d68a08d24",
     "showTitle": false,
     "title": ""
    }
   },
   "source": [
    "### Step 3: Interpret the Coefficients and Variance Explained\n",
    "\n",
    "Take a look at the coefficients and variance explained.  What do these mean?"
   ]
  },
  {
   "cell_type": "code",
   "execution_count": 0,
   "metadata": {
    "application/vnd.databricks.v1+cell": {
     "cellMetadata": {},
     "inputWidgets": {},
     "nuid": "078914d8-dfa2-4fd9-90ed-060424b893ed",
     "showTitle": false,
     "title": ""
    }
   },
   "outputs": [
    {
     "output_type": "display_data",
     "data": {
      "text/html": [
       "<style scoped>\n",
       "  .ansiout {\n",
       "    display: block;\n",
       "    unicode-bidi: embed;\n",
       "    white-space: pre-wrap;\n",
       "    word-wrap: break-word;\n",
       "    word-break: break-all;\n",
       "    font-family: \"Menlo\", \"Monaco\", \"Consolas\", \"Ubuntu Mono\", \"Source Code Pro\", monospace;\n",
       "    font-size: 13px;\n",
       "    color: #555;\n",
       "    margin-left: 4px;\n",
       "    line-height: 19px;\n",
       "  }\n",
       "</style>"
      ]
     },
     "metadata": {
      "application/vnd.databricks.v1+output": {
       "arguments": {},
       "data": "",
       "errorSummary": "",
       "errorTraceType": null,
       "metadata": {},
       "type": "ipynbError"
      }
     },
     "output_type": "display_data"
    }
   ],
   "source": [
    "# ANSWER\n",
    "print(\"β0 (intercept): {}\".format(lrModelAllFeatures.intercept))\n",
    "for i, (col, coef) in enumerate(zip(allFeatures, lrModelAllFeatures.coefficients)):\n",
    "  print(\"β{} (coefficient for {}): {}\".format(i+1, col, coef))\n",
    "  \n",
    "print(\"\\nR2 score: {}\".format(lrModelAllFeatures.summary.r2))"
   ]
  },
  {
   "cell_type": "markdown",
   "metadata": {
    "application/vnd.databricks.v1+cell": {
     "cellMetadata": {},
     "inputWidgets": {},
     "nuid": "5f803ec7-a473-4727-bf53-80e4d5a13464",
     "showTitle": false,
     "title": ""
    }
   },
   "source": [
    "### Step 4: Interpret the Statistical Significance of the Coefficients\n",
    "\n",
    "Print out the p-values associated with each coefficient and the intercept.  Which were statistically significant?"
   ]
  },
  {
   "cell_type": "code",
   "execution_count": 0,
   "metadata": {
    "application/vnd.databricks.v1+cell": {
     "cellMetadata": {},
     "inputWidgets": {},
     "nuid": "289ab776-616d-4e1d-b06f-f147e50643fa",
     "showTitle": false,
     "title": ""
    }
   },
   "outputs": [
    {
     "output_type": "display_data",
     "data": {
      "text/html": [
       "<style scoped>\n",
       "  .ansiout {\n",
       "    display: block;\n",
       "    unicode-bidi: embed;\n",
       "    white-space: pre-wrap;\n",
       "    word-wrap: break-word;\n",
       "    word-break: break-all;\n",
       "    font-family: \"Menlo\", \"Monaco\", \"Consolas\", \"Ubuntu Mono\", \"Source Code Pro\", monospace;\n",
       "    font-size: 13px;\n",
       "    color: #555;\n",
       "    margin-left: 4px;\n",
       "    line-height: 19px;\n",
       "  }\n",
       "</style>"
      ]
     },
     "metadata": {
      "application/vnd.databricks.v1+output": {
       "arguments": {},
       "data": "",
       "errorSummary": "",
       "errorTraceType": null,
       "metadata": {},
       "type": "ipynbError"
      }
     },
     "output_type": "display_data"
    }
   ],
   "source": [
    "# ANSWER\n",
    "'''\n",
    "Using the 5% rule of thumb on P-values, the values listed below that are below .05\n",
    "would be considered statistically significant \n",
    "'''\n",
    "for feat, pval in zip(allFeatures+[\"intercept\"], lrModelAllFeatures.summary.pValues):\n",
    "  print(\"P-value for {}:\\t{}\".format(feat, pval))"
   ]
  }
 ],
 "metadata": {
  "application/vnd.databricks.v1+notebook": {
   "dashboards": [],
   "language": "python",
   "notebookMetadata": {
    "pythonIndentUnit": 2
   },
   "notebookName": "4. Exercise Regression Modeling",
   "widgets": {}
  }
 },
 "nbformat": 4,
 "nbformat_minor": 0
}
