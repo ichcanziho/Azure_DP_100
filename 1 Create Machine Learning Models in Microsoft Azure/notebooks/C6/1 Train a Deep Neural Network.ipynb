{
  "cells": [
    {
      "cell_type": "markdown",
      "source": [
        "# Deep Learning with TensorFlow\n",
        "\n",
        "Classical machine learning relies on using statistics to determine relationships between features and labels, and can be very effective for creating predictive models. However, a massive growth in the availability of data coupled with advances in the computing technology required to process it has led to the emergence of new machine learning techniques that mimic the way the brain processes information in a structure called an artificial neural network.\n",
        "\n",
        "TensorFlow is a framework for creating machine learning models, including deep neural networks (DNNs). In this example, we'll use Tensorflow to create a simple neural network that classifies penguins into species based on the length and depth of their culmen (bill), their flipper length, and their body mass.\n",
        "\n",
        "> **Citation**: The penguins dataset used in the this exercise is a subset of data collected and made available by [Dr. Kristen\n",
        "Gorman](https://www.uaf.edu/cfos/people/faculty/detail/kristen-gorman.php)\n",
        "and the [Palmer Station, Antarctica LTER](https://pal.lternet.edu/), a\n",
        "member of the [Long Term Ecological Research\n",
        "Network](https://lternet.edu/).\n",
        "\n",
        "## Explore the dataset\n",
        "\n",
        "Before we start using TensorFlow to create a model, let's load the data we need from the Palmer Islands penguins dataset, which contains observations of three different species of penguin.\n",
        "\n",
        "> **Note**: In reality, you can solve the penguin classification problem easily using classical machine learning techniques without the need for a deep learning model; but it's a useful, easy to understand dataset with which to demonstrate the principles of neural networks in this notebook."
      ],
      "metadata": {
        "id": "5nnbRNtidqSb"
      }
    },
    {
      "cell_type": "code",
      "source": [
        "!unzip \"/content/data.zip\" -d \"/content/\""
      ],
      "metadata": {
        "id": "i94CGcYCe4N0"
      },
      "execution_count": null,
      "outputs": []
    },
    {
      "cell_type": "code",
      "source": [
        "!mv content/ml-basics/data data"
      ],
      "metadata": {
        "id": "Zo8uZdLvfEZ4"
      },
      "execution_count": 3,
      "outputs": []
    },
    {
      "cell_type": "code",
      "execution_count": 1,
      "source": [
        "import pandas as pd\n",
        "\n",
        "# load the training dataset (excluding rows with null values)\n",
        "penguins = pd.read_csv('data/penguins.csv').dropna()\n",
        "\n",
        "# Deep Learning models work best when features are on similar scales\n",
        "# In a real solution, we'd implement some custom normalization for each feature, but to keep things simple\n",
        "# we'll just rescale the FlipperLength and BodyMass so they're on a similar scale to the bill measurements\n",
        "penguins['FlipperLength'] = penguins['FlipperLength']/10\n",
        "penguins['BodyMass'] = penguins['BodyMass']/100\n",
        "\n",
        "# The dataset is too small to be useful for deep learning\n",
        "# So we'll oversample it to increase its size\n",
        "for i in range(1,3):\n",
        "    penguins = penguins.append(penguins)\n",
        "\n",
        "# Display a random sample of 10 observations\n",
        "sample = penguins.sample(10)\n",
        "sample"
      ],
      "outputs": [
        {
          "output_type": "stream",
          "name": "stderr",
          "text": [
            "<ipython-input-1-b0937281f553>:15: FutureWarning: The frame.append method is deprecated and will be removed from pandas in a future version. Use pandas.concat instead.\n",
            "  penguins = penguins.append(penguins)\n",
            "<ipython-input-1-b0937281f553>:15: FutureWarning: The frame.append method is deprecated and will be removed from pandas in a future version. Use pandas.concat instead.\n",
            "  penguins = penguins.append(penguins)\n"
          ]
        },
        {
          "output_type": "execute_result",
          "data": {
            "text/plain": [
              "     CulmenLength  CulmenDepth  FlipperLength  BodyMass  Species\n",
              "26           40.6         18.6           18.3     35.50        0\n",
              "172          50.2         14.3           21.8     57.00        1\n",
              "256          47.3         13.8           21.6     47.25        1\n",
              "141          40.6         17.2           18.7     34.75        0\n",
              "332          45.2         16.6           19.1     32.50        2\n",
              "340          43.5         18.1           20.2     34.00        2\n",
              "73           45.8         18.9           19.7     41.50        0\n",
              "97           40.3         18.5           19.6     43.50        0\n",
              "184          45.1         14.5           20.7     50.50        1\n",
              "84           37.3         17.8           19.1     33.50        0"
            ],
            "text/html": [
              "\n",
              "  <div id=\"df-36b99735-ccb6-4da6-a88d-c93184ea0467\" class=\"colab-df-container\">\n",
              "    <div>\n",
              "<style scoped>\n",
              "    .dataframe tbody tr th:only-of-type {\n",
              "        vertical-align: middle;\n",
              "    }\n",
              "\n",
              "    .dataframe tbody tr th {\n",
              "        vertical-align: top;\n",
              "    }\n",
              "\n",
              "    .dataframe thead th {\n",
              "        text-align: right;\n",
              "    }\n",
              "</style>\n",
              "<table border=\"1\" class=\"dataframe\">\n",
              "  <thead>\n",
              "    <tr style=\"text-align: right;\">\n",
              "      <th></th>\n",
              "      <th>CulmenLength</th>\n",
              "      <th>CulmenDepth</th>\n",
              "      <th>FlipperLength</th>\n",
              "      <th>BodyMass</th>\n",
              "      <th>Species</th>\n",
              "    </tr>\n",
              "  </thead>\n",
              "  <tbody>\n",
              "    <tr>\n",
              "      <th>26</th>\n",
              "      <td>40.6</td>\n",
              "      <td>18.6</td>\n",
              "      <td>18.3</td>\n",
              "      <td>35.50</td>\n",
              "      <td>0</td>\n",
              "    </tr>\n",
              "    <tr>\n",
              "      <th>172</th>\n",
              "      <td>50.2</td>\n",
              "      <td>14.3</td>\n",
              "      <td>21.8</td>\n",
              "      <td>57.00</td>\n",
              "      <td>1</td>\n",
              "    </tr>\n",
              "    <tr>\n",
              "      <th>256</th>\n",
              "      <td>47.3</td>\n",
              "      <td>13.8</td>\n",
              "      <td>21.6</td>\n",
              "      <td>47.25</td>\n",
              "      <td>1</td>\n",
              "    </tr>\n",
              "    <tr>\n",
              "      <th>141</th>\n",
              "      <td>40.6</td>\n",
              "      <td>17.2</td>\n",
              "      <td>18.7</td>\n",
              "      <td>34.75</td>\n",
              "      <td>0</td>\n",
              "    </tr>\n",
              "    <tr>\n",
              "      <th>332</th>\n",
              "      <td>45.2</td>\n",
              "      <td>16.6</td>\n",
              "      <td>19.1</td>\n",
              "      <td>32.50</td>\n",
              "      <td>2</td>\n",
              "    </tr>\n",
              "    <tr>\n",
              "      <th>340</th>\n",
              "      <td>43.5</td>\n",
              "      <td>18.1</td>\n",
              "      <td>20.2</td>\n",
              "      <td>34.00</td>\n",
              "      <td>2</td>\n",
              "    </tr>\n",
              "    <tr>\n",
              "      <th>73</th>\n",
              "      <td>45.8</td>\n",
              "      <td>18.9</td>\n",
              "      <td>19.7</td>\n",
              "      <td>41.50</td>\n",
              "      <td>0</td>\n",
              "    </tr>\n",
              "    <tr>\n",
              "      <th>97</th>\n",
              "      <td>40.3</td>\n",
              "      <td>18.5</td>\n",
              "      <td>19.6</td>\n",
              "      <td>43.50</td>\n",
              "      <td>0</td>\n",
              "    </tr>\n",
              "    <tr>\n",
              "      <th>184</th>\n",
              "      <td>45.1</td>\n",
              "      <td>14.5</td>\n",
              "      <td>20.7</td>\n",
              "      <td>50.50</td>\n",
              "      <td>1</td>\n",
              "    </tr>\n",
              "    <tr>\n",
              "      <th>84</th>\n",
              "      <td>37.3</td>\n",
              "      <td>17.8</td>\n",
              "      <td>19.1</td>\n",
              "      <td>33.50</td>\n",
              "      <td>0</td>\n",
              "    </tr>\n",
              "  </tbody>\n",
              "</table>\n",
              "</div>\n",
              "    <div class=\"colab-df-buttons\">\n",
              "\n",
              "  <div class=\"colab-df-container\">\n",
              "    <button class=\"colab-df-convert\" onclick=\"convertToInteractive('df-36b99735-ccb6-4da6-a88d-c93184ea0467')\"\n",
              "            title=\"Convert this dataframe to an interactive table.\"\n",
              "            style=\"display:none;\">\n",
              "\n",
              "  <svg xmlns=\"http://www.w3.org/2000/svg\" height=\"24px\" viewBox=\"0 -960 960 960\">\n",
              "    <path d=\"M120-120v-720h720v720H120Zm60-500h600v-160H180v160Zm220 220h160v-160H400v160Zm0 220h160v-160H400v160ZM180-400h160v-160H180v160Zm440 0h160v-160H620v160ZM180-180h160v-160H180v160Zm440 0h160v-160H620v160Z\"/>\n",
              "  </svg>\n",
              "    </button>\n",
              "\n",
              "  <style>\n",
              "    .colab-df-container {\n",
              "      display:flex;\n",
              "      gap: 12px;\n",
              "    }\n",
              "\n",
              "    .colab-df-convert {\n",
              "      background-color: #E8F0FE;\n",
              "      border: none;\n",
              "      border-radius: 50%;\n",
              "      cursor: pointer;\n",
              "      display: none;\n",
              "      fill: #1967D2;\n",
              "      height: 32px;\n",
              "      padding: 0 0 0 0;\n",
              "      width: 32px;\n",
              "    }\n",
              "\n",
              "    .colab-df-convert:hover {\n",
              "      background-color: #E2EBFA;\n",
              "      box-shadow: 0px 1px 2px rgba(60, 64, 67, 0.3), 0px 1px 3px 1px rgba(60, 64, 67, 0.15);\n",
              "      fill: #174EA6;\n",
              "    }\n",
              "\n",
              "    .colab-df-buttons div {\n",
              "      margin-bottom: 4px;\n",
              "    }\n",
              "\n",
              "    [theme=dark] .colab-df-convert {\n",
              "      background-color: #3B4455;\n",
              "      fill: #D2E3FC;\n",
              "    }\n",
              "\n",
              "    [theme=dark] .colab-df-convert:hover {\n",
              "      background-color: #434B5C;\n",
              "      box-shadow: 0px 1px 3px 1px rgba(0, 0, 0, 0.15);\n",
              "      filter: drop-shadow(0px 1px 2px rgba(0, 0, 0, 0.3));\n",
              "      fill: #FFFFFF;\n",
              "    }\n",
              "  </style>\n",
              "\n",
              "    <script>\n",
              "      const buttonEl =\n",
              "        document.querySelector('#df-36b99735-ccb6-4da6-a88d-c93184ea0467 button.colab-df-convert');\n",
              "      buttonEl.style.display =\n",
              "        google.colab.kernel.accessAllowed ? 'block' : 'none';\n",
              "\n",
              "      async function convertToInteractive(key) {\n",
              "        const element = document.querySelector('#df-36b99735-ccb6-4da6-a88d-c93184ea0467');\n",
              "        const dataTable =\n",
              "          await google.colab.kernel.invokeFunction('convertToInteractive',\n",
              "                                                    [key], {});\n",
              "        if (!dataTable) return;\n",
              "\n",
              "        const docLinkHtml = 'Like what you see? Visit the ' +\n",
              "          '<a target=\"_blank\" href=https://colab.research.google.com/notebooks/data_table.ipynb>data table notebook</a>'\n",
              "          + ' to learn more about interactive tables.';\n",
              "        element.innerHTML = '';\n",
              "        dataTable['output_type'] = 'display_data';\n",
              "        await google.colab.output.renderOutput(dataTable, element);\n",
              "        const docLink = document.createElement('div');\n",
              "        docLink.innerHTML = docLinkHtml;\n",
              "        element.appendChild(docLink);\n",
              "      }\n",
              "    </script>\n",
              "  </div>\n",
              "\n",
              "\n",
              "<div id=\"df-27fc4a09-6f37-4ce8-bf88-b9455244e9ed\">\n",
              "  <button class=\"colab-df-quickchart\" onclick=\"quickchart('df-27fc4a09-6f37-4ce8-bf88-b9455244e9ed')\"\n",
              "            title=\"Suggest charts.\"\n",
              "            style=\"display:none;\">\n",
              "\n",
              "<svg xmlns=\"http://www.w3.org/2000/svg\" height=\"24px\"viewBox=\"0 0 24 24\"\n",
              "     width=\"24px\">\n",
              "    <g>\n",
              "        <path d=\"M19 3H5c-1.1 0-2 .9-2 2v14c0 1.1.9 2 2 2h14c1.1 0 2-.9 2-2V5c0-1.1-.9-2-2-2zM9 17H7v-7h2v7zm4 0h-2V7h2v10zm4 0h-2v-4h2v4z\"/>\n",
              "    </g>\n",
              "</svg>\n",
              "  </button>\n",
              "\n",
              "<style>\n",
              "  .colab-df-quickchart {\n",
              "      --bg-color: #E8F0FE;\n",
              "      --fill-color: #1967D2;\n",
              "      --hover-bg-color: #E2EBFA;\n",
              "      --hover-fill-color: #174EA6;\n",
              "      --disabled-fill-color: #AAA;\n",
              "      --disabled-bg-color: #DDD;\n",
              "  }\n",
              "\n",
              "  [theme=dark] .colab-df-quickchart {\n",
              "      --bg-color: #3B4455;\n",
              "      --fill-color: #D2E3FC;\n",
              "      --hover-bg-color: #434B5C;\n",
              "      --hover-fill-color: #FFFFFF;\n",
              "      --disabled-bg-color: #3B4455;\n",
              "      --disabled-fill-color: #666;\n",
              "  }\n",
              "\n",
              "  .colab-df-quickchart {\n",
              "    background-color: var(--bg-color);\n",
              "    border: none;\n",
              "    border-radius: 50%;\n",
              "    cursor: pointer;\n",
              "    display: none;\n",
              "    fill: var(--fill-color);\n",
              "    height: 32px;\n",
              "    padding: 0;\n",
              "    width: 32px;\n",
              "  }\n",
              "\n",
              "  .colab-df-quickchart:hover {\n",
              "    background-color: var(--hover-bg-color);\n",
              "    box-shadow: 0 1px 2px rgba(60, 64, 67, 0.3), 0 1px 3px 1px rgba(60, 64, 67, 0.15);\n",
              "    fill: var(--button-hover-fill-color);\n",
              "  }\n",
              "\n",
              "  .colab-df-quickchart-complete:disabled,\n",
              "  .colab-df-quickchart-complete:disabled:hover {\n",
              "    background-color: var(--disabled-bg-color);\n",
              "    fill: var(--disabled-fill-color);\n",
              "    box-shadow: none;\n",
              "  }\n",
              "\n",
              "  .colab-df-spinner {\n",
              "    border: 2px solid var(--fill-color);\n",
              "    border-color: transparent;\n",
              "    border-bottom-color: var(--fill-color);\n",
              "    animation:\n",
              "      spin 1s steps(1) infinite;\n",
              "  }\n",
              "\n",
              "  @keyframes spin {\n",
              "    0% {\n",
              "      border-color: transparent;\n",
              "      border-bottom-color: var(--fill-color);\n",
              "      border-left-color: var(--fill-color);\n",
              "    }\n",
              "    20% {\n",
              "      border-color: transparent;\n",
              "      border-left-color: var(--fill-color);\n",
              "      border-top-color: var(--fill-color);\n",
              "    }\n",
              "    30% {\n",
              "      border-color: transparent;\n",
              "      border-left-color: var(--fill-color);\n",
              "      border-top-color: var(--fill-color);\n",
              "      border-right-color: var(--fill-color);\n",
              "    }\n",
              "    40% {\n",
              "      border-color: transparent;\n",
              "      border-right-color: var(--fill-color);\n",
              "      border-top-color: var(--fill-color);\n",
              "    }\n",
              "    60% {\n",
              "      border-color: transparent;\n",
              "      border-right-color: var(--fill-color);\n",
              "    }\n",
              "    80% {\n",
              "      border-color: transparent;\n",
              "      border-right-color: var(--fill-color);\n",
              "      border-bottom-color: var(--fill-color);\n",
              "    }\n",
              "    90% {\n",
              "      border-color: transparent;\n",
              "      border-bottom-color: var(--fill-color);\n",
              "    }\n",
              "  }\n",
              "</style>\n",
              "\n",
              "  <script>\n",
              "    async function quickchart(key) {\n",
              "      const quickchartButtonEl =\n",
              "        document.querySelector('#' + key + ' button');\n",
              "      quickchartButtonEl.disabled = true;  // To prevent multiple clicks.\n",
              "      quickchartButtonEl.classList.add('colab-df-spinner');\n",
              "      try {\n",
              "        const charts = await google.colab.kernel.invokeFunction(\n",
              "            'suggestCharts', [key], {});\n",
              "      } catch (error) {\n",
              "        console.error('Error during call to suggestCharts:', error);\n",
              "      }\n",
              "      quickchartButtonEl.classList.remove('colab-df-spinner');\n",
              "      quickchartButtonEl.classList.add('colab-df-quickchart-complete');\n",
              "    }\n",
              "    (() => {\n",
              "      let quickchartButtonEl =\n",
              "        document.querySelector('#df-27fc4a09-6f37-4ce8-bf88-b9455244e9ed button');\n",
              "      quickchartButtonEl.style.display =\n",
              "        google.colab.kernel.accessAllowed ? 'block' : 'none';\n",
              "    })();\n",
              "  </script>\n",
              "</div>\n",
              "    </div>\n",
              "  </div>\n"
            ]
          },
          "metadata": {},
          "execution_count": 1
        }
      ],
      "metadata": {
        "colab": {
          "base_uri": "https://localhost:8080/",
          "height": 432
        },
        "id": "wNfEBMeVdqSd",
        "outputId": "ef84ac46-81f0-49ad-e1de-6561054cfdc5"
      }
    },
    {
      "cell_type": "markdown",
      "source": [
        "The **Species** column is the label our model will predict. Each label value represents a class of penguin species, encoded as 0, 1, or 2. The following code shows the actual species to which these class labels corrrespond."
      ],
      "metadata": {
        "id": "Nj-TuFkHdqSe"
      }
    },
    {
      "cell_type": "code",
      "execution_count": 2,
      "source": [
        "penguin_classes = ['Adelie', 'Gentoo', 'Chinstrap']\n",
        "print(sample.columns[0:5].values, 'SpeciesName')\n",
        "for index, row in penguins.sample(10).iterrows():\n",
        "    print('[',row[0], row[1], row[2],row[3], int(row[4]), ']',penguin_classes[int(row[-1])])"
      ],
      "outputs": [
        {
          "output_type": "stream",
          "name": "stdout",
          "text": [
            "['CulmenLength' 'CulmenDepth' 'FlipperLength' 'BodyMass' 'Species'] SpeciesName\n",
            "[ 49.5 16.1 22.4 56.5 1 ] Gentoo\n",
            "[ 43.2 19.0 19.7 47.75 0 ] Adelie\n",
            "[ 52.8 20.0 20.5 45.5 2 ] Chinstrap\n",
            "[ 45.3 13.8 20.8 42.0 1 ] Gentoo\n",
            "[ 39.7 18.9 18.4 35.5 0 ] Adelie\n",
            "[ 50.7 19.7 20.3 40.5 2 ] Chinstrap\n",
            "[ 38.8 17.2 18.0 38.0 0 ] Adelie\n",
            "[ 47.6 18.3 19.5 38.5 2 ] Chinstrap\n",
            "[ 46.8 16.1 21.5 55.0 1 ] Gentoo\n",
            "[ 37.7 19.8 19.8 35.0 0 ] Adelie\n"
          ]
        }
      ],
      "metadata": {
        "tags": [],
        "colab": {
          "base_uri": "https://localhost:8080/"
        },
        "id": "owu-4E-JdqSe",
        "outputId": "fc05a712-e666-4f28-e760-9f882cdba992"
      }
    },
    {
      "cell_type": "markdown",
      "source": [
        "As is common in a supervised learning problem, we'll split the dataset into a set of records with which to train the model, and a smaller set with which to validate the trained model."
      ],
      "metadata": {
        "id": "NukESJFBdqSf"
      }
    },
    {
      "cell_type": "code",
      "execution_count": 3,
      "source": [
        "from sklearn.model_selection import train_test_split\n",
        "\n",
        "features = ['CulmenLength','CulmenDepth','FlipperLength','BodyMass']\n",
        "label = 'Species'\n",
        "\n",
        "# Split data 70%-30% into training set and test set\n",
        "x_train, x_test, y_train, y_test = train_test_split(penguins[features].values,\n",
        "                                                    penguins[label].values,\n",
        "                                                    test_size=0.30,\n",
        "                                                    random_state=0)\n",
        "\n",
        "print ('Training Set: %d, Test Set: %d \\n' % (len(x_train), len(x_test)))\n",
        "print(\"Sample of features and labels:\")\n",
        "\n",
        "# Take a look at the first 25 training features and corresponding labels\n",
        "for n in range(0,24):\n",
        "    print(x_train[n], y_train[n], '(' + penguin_classes[y_train[n]] + ')')"
      ],
      "outputs": [
        {
          "output_type": "stream",
          "name": "stdout",
          "text": [
            "Training Set: 957, Test Set: 411 \n",
            "\n",
            "Sample of features and labels:\n",
            "[51.1 16.5 22.5 52.5] 1 (Gentoo)\n",
            "[50.7 19.7 20.3 40.5] 2 (Chinstrap)\n",
            "[49.5 16.2 22.9 58. ] 1 (Gentoo)\n",
            "[39.3 20.6 19.  36.5] 0 (Adelie)\n",
            "[42.5 20.7 19.7 45. ] 0 (Adelie)\n",
            "[50.  15.3 22.  55.5] 1 (Gentoo)\n",
            "[50.2  18.7  19.8  37.75] 2 (Chinstrap)\n",
            "[50.7 19.7 20.3 40.5] 2 (Chinstrap)\n",
            "[49.1  14.5  21.2  46.25] 1 (Gentoo)\n",
            "[43.2 16.6 18.7 29. ] 2 (Chinstrap)\n",
            "[38.8  17.6  19.1  32.75] 0 (Adelie)\n",
            "[37.8 17.1 18.6 33. ] 0 (Adelie)\n",
            "[45.8 14.2 21.9 47. ] 1 (Gentoo)\n",
            "[43.8 13.9 20.8 43. ] 1 (Gentoo)\n",
            "[36.  17.1 18.7 37. ] 0 (Adelie)\n",
            "[43.3 13.4 20.9 44. ] 1 (Gentoo)\n",
            "[36.  18.5 18.6 31. ] 0 (Adelie)\n",
            "[41.1  19.   18.2  34.25] 0 (Adelie)\n",
            "[33.1 16.1 17.8 29. ] 0 (Adelie)\n",
            "[40.9 13.7 21.4 46.5] 1 (Gentoo)\n",
            "[45.2 17.8 19.8 39.5] 2 (Chinstrap)\n",
            "[48.4 14.6 21.3 58.5] 1 (Gentoo)\n",
            "[43.6 13.9 21.7 49. ] 1 (Gentoo)\n",
            "[38.5  17.9  19.   33.25] 0 (Adelie)\n"
          ]
        }
      ],
      "metadata": {
        "tags": [],
        "colab": {
          "base_uri": "https://localhost:8080/"
        },
        "id": "IK2pleTUdqSf",
        "outputId": "2ada5453-e7e2-43a0-b733-7ffcb26a7aee"
      }
    },
    {
      "cell_type": "markdown",
      "source": [
        "The *features* are the measurements for each penguin observation, and the *label* is a numeric value that indicates the species of penguin that the observation represents (Adelie, Gentoo, or Chinstrap).\n",
        "\n",
        "## Install and import TensorFlow libraries\n",
        "\n",
        "Since we plan to use TensorFlow to create our penguin classifier, we'll need to run the following two cells to install and import the libraries we intend to use.\n",
        "\n",
        "> **Note** *Keras* is an abstraction layer over the base TensorFlow API. In most common machine learning scenarios, you can use Keras to simplify your code."
      ],
      "metadata": {
        "id": "Z5vnpn4WdqSf"
      }
    },
    {
      "cell_type": "code",
      "execution_count": null,
      "source": [
        "!pip install --upgrade tensorflow"
      ],
      "outputs": [],
      "metadata": {
        "id": "Nn3UocA0dqSf"
      }
    },
    {
      "cell_type": "code",
      "execution_count": 5,
      "source": [
        "import tensorflow\n",
        "from tensorflow import keras\n",
        "from tensorflow.keras import models\n",
        "from tensorflow.keras.models import Sequential\n",
        "from tensorflow.keras.layers import Dense\n",
        "from tensorflow.keras import utils\n",
        "from tensorflow.keras import optimizers\n",
        "\n",
        "# Set random seed for reproducability\n",
        "tensorflow.random.set_seed(0)\n",
        "\n",
        "print(\"Libraries imported.\")\n",
        "#print('Keras version:',keras.__version__)\n",
        "#print('TensorFlow version:',tensorflow.__version__)"
      ],
      "outputs": [
        {
          "output_type": "stream",
          "name": "stdout",
          "text": [
            "Libraries imported.\n"
          ]
        }
      ],
      "metadata": {
        "tags": [],
        "colab": {
          "base_uri": "https://localhost:8080/"
        },
        "id": "wPowR33cdqSf",
        "outputId": "34e9cc0a-b907-4993-a5b6-1bff5068787c"
      }
    },
    {
      "cell_type": "markdown",
      "source": [
        "## Prepare the data for TensorFlow\n",
        "\n",
        "We've already loaded our data and split it into training and validation datasets. However, we need to do some further data preparation so that our data will work correctly with TensorFlow. Specifically, we need to set the data type of our features to 32-bit floating point numbers, and specify that the labels represent categorical classes rather than numeric values."
      ],
      "metadata": {
        "id": "DdSYhMJUdqSf"
      }
    },
    {
      "cell_type": "code",
      "execution_count": 6,
      "source": [
        "# Set data types for float features\n",
        "x_train = x_train.astype('float32')\n",
        "x_test = x_test.astype('float32')\n",
        "\n",
        "# Set data types for categorical labels\n",
        "y_train = utils.to_categorical(y_train)\n",
        "y_test = utils.to_categorical(y_test)\n",
        "print('Ready...')"
      ],
      "outputs": [
        {
          "output_type": "stream",
          "name": "stdout",
          "text": [
            "Ready...\n"
          ]
        }
      ],
      "metadata": {
        "tags": [],
        "colab": {
          "base_uri": "https://localhost:8080/"
        },
        "id": "uboTLEGedqSg",
        "outputId": "58c0f5a1-fee3-45a5-de5b-3ead8caa8fde"
      }
    },
    {
      "cell_type": "markdown",
      "source": [
        "## Define a neural network\n",
        "\n",
        "Now we're ready to define our neural network. In this case, we'll create a network that consists of 3 fully-connected layers:\n",
        "* An input layer that receives an input value for each feature (in this case, the four penguin measurements) and applies a *ReLU* activation function.\n",
        "* A hidden layer that receives ten inputs and applies a *ReLU* activation function.\n",
        "* An output layer that uses a *SoftMax* activation function to generate an output for each penguin species (which represent the classification probabilities for each of the three possible penguin species). Softmax functions produce a vector with probability values that sum to 1."
      ],
      "metadata": {
        "id": "iClS2O9cdqSg"
      }
    },
    {
      "cell_type": "code",
      "execution_count": 7,
      "source": [
        "# Define a classifier network\n",
        "hl = 10 # Number of hidden layer nodes\n",
        "\n",
        "model = Sequential()\n",
        "model.add(Dense(hl, input_dim=len(features), activation='relu'))\n",
        "model.add(Dense(hl, input_dim=hl, activation='relu'))\n",
        "model.add(Dense(len(penguin_classes), input_dim=hl, activation='softmax'))\n",
        "\n",
        "print(model.summary())"
      ],
      "outputs": [
        {
          "output_type": "stream",
          "name": "stdout",
          "text": [
            "Model: \"sequential\"\n",
            "_________________________________________________________________\n",
            " Layer (type)                Output Shape              Param #   \n",
            "=================================================================\n",
            " dense (Dense)               (None, 10)                50        \n",
            "                                                                 \n",
            " dense_1 (Dense)             (None, 10)                110       \n",
            "                                                                 \n",
            " dense_2 (Dense)             (None, 3)                 33        \n",
            "                                                                 \n",
            "=================================================================\n",
            "Total params: 193 (772.00 Byte)\n",
            "Trainable params: 193 (772.00 Byte)\n",
            "Non-trainable params: 0 (0.00 Byte)\n",
            "_________________________________________________________________\n",
            "None\n"
          ]
        }
      ],
      "metadata": {
        "tags": [],
        "colab": {
          "base_uri": "https://localhost:8080/"
        },
        "id": "yMyJOz8bdqSg",
        "outputId": "9e5f343f-c9fc-4509-8481-de4dc2298a57"
      }
    },
    {
      "cell_type": "markdown",
      "source": [
        "## Train the model\n",
        "\n",
        "To train the model, we need to repeatedly feed the training values forward through the network, use a loss function to calculate the loss, use an optimizer to backpropagate the weight and bias value adjustments, and validate the model using the test data we withheld.\n",
        "\n",
        "To do this, we'll apply an Adam optimizer to a categorical cross-entropy loss function iteratively over 50 epochs."
      ],
      "metadata": {
        "id": "OESbCu3NdqSg"
      }
    },
    {
      "cell_type": "code",
      "execution_count": 8,
      "source": [
        "#hyper-parameters for optimizer\n",
        "learning_rate = 0.001\n",
        "opt = optimizers.Adam(lr=learning_rate)\n",
        "\n",
        "model.compile(loss='categorical_crossentropy',\n",
        "              optimizer=opt,\n",
        "              metrics=['accuracy'])\n",
        "\n",
        "# Train the model over 50 epochs using 10-observation batches and using the test holdout dataset for validation\n",
        "num_epochs = 50\n",
        "history = model.fit(x_train, y_train, epochs=num_epochs, batch_size=10, validation_data=(x_test, y_test))"
      ],
      "outputs": [
        {
          "output_type": "stream",
          "name": "stderr",
          "text": [
            "WARNING:absl:`lr` is deprecated in Keras optimizer, please use `learning_rate` or use the legacy optimizer, e.g.,tf.keras.optimizers.legacy.Adam.\n"
          ]
        },
        {
          "output_type": "stream",
          "name": "stdout",
          "text": [
            "Epoch 1/50\n",
            "96/96 [==============================] - 1s 5ms/step - loss: 6.0071 - accuracy: 0.5402 - val_loss: 0.6994 - val_accuracy: 0.6618\n",
            "Epoch 2/50\n",
            "96/96 [==============================] - 0s 3ms/step - loss: 0.5068 - accuracy: 0.8098 - val_loss: 0.4950 - val_accuracy: 0.8102\n",
            "Epoch 3/50\n",
            "96/96 [==============================] - 0s 3ms/step - loss: 0.4142 - accuracy: 0.8652 - val_loss: 0.4259 - val_accuracy: 0.8613\n",
            "Epoch 4/50\n",
            "96/96 [==============================] - 0s 3ms/step - loss: 0.3510 - accuracy: 0.8903 - val_loss: 0.3428 - val_accuracy: 0.8929\n",
            "Epoch 5/50\n",
            "96/96 [==============================] - 0s 3ms/step - loss: 0.2805 - accuracy: 0.9269 - val_loss: 0.2620 - val_accuracy: 0.9173\n",
            "Epoch 6/50\n",
            "96/96 [==============================] - 0s 3ms/step - loss: 0.2158 - accuracy: 0.9572 - val_loss: 0.1974 - val_accuracy: 0.9586\n",
            "Epoch 7/50\n",
            "96/96 [==============================] - 0s 3ms/step - loss: 0.1702 - accuracy: 0.9687 - val_loss: 0.1595 - val_accuracy: 0.9830\n",
            "Epoch 8/50\n",
            "96/96 [==============================] - 0s 3ms/step - loss: 0.1436 - accuracy: 0.9781 - val_loss: 0.1326 - val_accuracy: 0.9805\n",
            "Epoch 9/50\n",
            "96/96 [==============================] - 0s 3ms/step - loss: 0.1238 - accuracy: 0.9770 - val_loss: 0.1140 - val_accuracy: 0.9878\n",
            "Epoch 10/50\n",
            "96/96 [==============================] - 0s 3ms/step - loss: 0.1049 - accuracy: 0.9833 - val_loss: 0.1015 - val_accuracy: 0.9805\n",
            "Epoch 11/50\n",
            "96/96 [==============================] - 0s 3ms/step - loss: 0.0925 - accuracy: 0.9875 - val_loss: 0.0905 - val_accuracy: 0.9951\n",
            "Epoch 12/50\n",
            "96/96 [==============================] - 0s 3ms/step - loss: 0.0871 - accuracy: 0.9801 - val_loss: 0.0835 - val_accuracy: 0.9927\n",
            "Epoch 13/50\n",
            "96/96 [==============================] - 0s 3ms/step - loss: 0.0728 - accuracy: 0.9896 - val_loss: 0.0726 - val_accuracy: 0.9927\n",
            "Epoch 14/50\n",
            "96/96 [==============================] - 0s 4ms/step - loss: 0.0708 - accuracy: 0.9854 - val_loss: 0.0671 - val_accuracy: 0.9927\n",
            "Epoch 15/50\n",
            "96/96 [==============================] - 0s 4ms/step - loss: 0.0658 - accuracy: 0.9864 - val_loss: 0.0680 - val_accuracy: 0.9830\n",
            "Epoch 16/50\n",
            "96/96 [==============================] - 1s 7ms/step - loss: 0.0650 - accuracy: 0.9854 - val_loss: 0.0585 - val_accuracy: 0.9927\n",
            "Epoch 17/50\n",
            "96/96 [==============================] - 1s 8ms/step - loss: 0.0587 - accuracy: 0.9864 - val_loss: 0.0543 - val_accuracy: 0.9903\n",
            "Epoch 18/50\n",
            "96/96 [==============================] - 0s 5ms/step - loss: 0.0572 - accuracy: 0.9864 - val_loss: 0.0597 - val_accuracy: 0.9830\n",
            "Epoch 19/50\n",
            "96/96 [==============================] - 1s 6ms/step - loss: 0.0572 - accuracy: 0.9833 - val_loss: 0.0540 - val_accuracy: 0.9830\n",
            "Epoch 20/50\n",
            "96/96 [==============================] - 1s 5ms/step - loss: 0.0528 - accuracy: 0.9843 - val_loss: 0.0554 - val_accuracy: 0.9830\n",
            "Epoch 21/50\n",
            "96/96 [==============================] - 1s 8ms/step - loss: 0.0491 - accuracy: 0.9864 - val_loss: 0.0520 - val_accuracy: 0.9830\n",
            "Epoch 22/50\n",
            "96/96 [==============================] - 1s 10ms/step - loss: 0.0450 - accuracy: 0.9906 - val_loss: 0.0919 - val_accuracy: 0.9635\n",
            "Epoch 23/50\n",
            "96/96 [==============================] - 0s 5ms/step - loss: 0.0534 - accuracy: 0.9812 - val_loss: 0.0551 - val_accuracy: 0.9830\n",
            "Epoch 24/50\n",
            "96/96 [==============================] - 0s 5ms/step - loss: 0.0406 - accuracy: 0.9916 - val_loss: 0.0440 - val_accuracy: 0.9878\n",
            "Epoch 25/50\n",
            "96/96 [==============================] - 0s 5ms/step - loss: 0.0434 - accuracy: 0.9885 - val_loss: 0.0367 - val_accuracy: 0.9951\n",
            "Epoch 26/50\n",
            "96/96 [==============================] - 0s 5ms/step - loss: 0.0421 - accuracy: 0.9864 - val_loss: 0.0351 - val_accuracy: 0.9951\n",
            "Epoch 27/50\n",
            "96/96 [==============================] - 0s 5ms/step - loss: 0.0368 - accuracy: 0.9906 - val_loss: 0.0356 - val_accuracy: 0.9903\n",
            "Epoch 28/50\n",
            "96/96 [==============================] - 0s 5ms/step - loss: 0.0355 - accuracy: 0.9896 - val_loss: 0.0400 - val_accuracy: 0.9878\n",
            "Epoch 29/50\n",
            "96/96 [==============================] - 0s 4ms/step - loss: 0.0391 - accuracy: 0.9864 - val_loss: 0.0345 - val_accuracy: 0.9927\n",
            "Epoch 30/50\n",
            "96/96 [==============================] - 0s 5ms/step - loss: 0.0341 - accuracy: 0.9906 - val_loss: 0.0360 - val_accuracy: 0.9830\n",
            "Epoch 31/50\n",
            "96/96 [==============================] - 0s 4ms/step - loss: 0.0508 - accuracy: 0.9822 - val_loss: 0.0365 - val_accuracy: 0.9830\n",
            "Epoch 32/50\n",
            "96/96 [==============================] - 0s 4ms/step - loss: 0.0334 - accuracy: 0.9896 - val_loss: 0.0315 - val_accuracy: 0.9927\n",
            "Epoch 33/50\n",
            "96/96 [==============================] - 0s 3ms/step - loss: 0.0385 - accuracy: 0.9885 - val_loss: 0.0363 - val_accuracy: 0.9878\n",
            "Epoch 34/50\n",
            "96/96 [==============================] - 0s 3ms/step - loss: 0.0323 - accuracy: 0.9906 - val_loss: 0.0573 - val_accuracy: 0.9659\n",
            "Epoch 35/50\n",
            "96/96 [==============================] - 0s 3ms/step - loss: 0.0293 - accuracy: 0.9906 - val_loss: 0.0297 - val_accuracy: 0.9976\n",
            "Epoch 36/50\n",
            "96/96 [==============================] - 0s 3ms/step - loss: 0.0318 - accuracy: 0.9864 - val_loss: 0.0269 - val_accuracy: 0.9951\n",
            "Epoch 37/50\n",
            "96/96 [==============================] - 0s 3ms/step - loss: 0.0321 - accuracy: 0.9896 - val_loss: 0.0272 - val_accuracy: 0.9903\n",
            "Epoch 38/50\n",
            "96/96 [==============================] - 0s 3ms/step - loss: 0.0299 - accuracy: 0.9948 - val_loss: 0.0259 - val_accuracy: 0.9951\n",
            "Epoch 39/50\n",
            "96/96 [==============================] - 0s 3ms/step - loss: 0.0337 - accuracy: 0.9927 - val_loss: 0.0368 - val_accuracy: 0.9830\n",
            "Epoch 40/50\n",
            "96/96 [==============================] - 0s 3ms/step - loss: 0.0419 - accuracy: 0.9812 - val_loss: 0.0489 - val_accuracy: 0.9757\n",
            "Epoch 41/50\n",
            "96/96 [==============================] - 0s 3ms/step - loss: 0.0324 - accuracy: 0.9854 - val_loss: 0.0244 - val_accuracy: 0.9951\n",
            "Epoch 42/50\n",
            "96/96 [==============================] - 0s 3ms/step - loss: 0.0349 - accuracy: 0.9864 - val_loss: 0.0240 - val_accuracy: 0.9951\n",
            "Epoch 43/50\n",
            "96/96 [==============================] - 0s 3ms/step - loss: 0.0357 - accuracy: 0.9864 - val_loss: 0.0291 - val_accuracy: 0.9878\n",
            "Epoch 44/50\n",
            "96/96 [==============================] - 0s 3ms/step - loss: 0.0306 - accuracy: 0.9906 - val_loss: 0.0329 - val_accuracy: 0.9830\n",
            "Epoch 45/50\n",
            "96/96 [==============================] - 0s 3ms/step - loss: 0.0273 - accuracy: 0.9927 - val_loss: 0.0258 - val_accuracy: 0.9927\n",
            "Epoch 46/50\n",
            "96/96 [==============================] - 0s 4ms/step - loss: 0.0273 - accuracy: 0.9896 - val_loss: 0.0223 - val_accuracy: 0.9976\n",
            "Epoch 47/50\n",
            "96/96 [==============================] - 0s 3ms/step - loss: 0.0346 - accuracy: 0.9875 - val_loss: 0.0217 - val_accuracy: 0.9951\n",
            "Epoch 48/50\n",
            "96/96 [==============================] - 0s 3ms/step - loss: 0.0287 - accuracy: 0.9896 - val_loss: 0.0591 - val_accuracy: 0.9781\n",
            "Epoch 49/50\n",
            "96/96 [==============================] - 0s 3ms/step - loss: 0.0252 - accuracy: 0.9906 - val_loss: 0.0515 - val_accuracy: 0.9659\n",
            "Epoch 50/50\n",
            "96/96 [==============================] - 0s 4ms/step - loss: 0.0278 - accuracy: 0.9875 - val_loss: 0.0338 - val_accuracy: 0.9854\n"
          ]
        }
      ],
      "metadata": {
        "scrolled": true,
        "tags": [],
        "colab": {
          "base_uri": "https://localhost:8080/"
        },
        "id": "hjRpAUNtdqSg",
        "outputId": "24f08d09-43dc-48bc-9dbb-9caf6b42e112"
      }
    },
    {
      "cell_type": "markdown",
      "source": [
        "While the training process is running, let's try to understand what's happening:\n",
        "\n",
        "1. In each *epoch*, the full set of training data is passed forward through the network. There are four features for each observation, and four corresponding nodes in the input layer - so the features for each observation are passed as a vector of four values to that layer. However, for efficiency, the feature vectors are grouped into batches; so actually a matrix of multiple feature vectors is fed in each time.\n",
        "2. The matrix of feature values is processed by a function that performs a weighted sum using initialized weights and bias values. The result of this function is then processed by the activation function for the input layer to constrain the values passed to the nodes in the next layer.\n",
        "3. The weighted sum and activation functions are repeated in each layer. Note that the functions operate on vectors and matrices rather than individual scalar values. In other words, the forward pass is essentially a series of nested linear algebra functions. This is the reason data scientists prefer to use computers with graphical processing units (GPUs), since these are optimized for matrix and vector calculations.\n",
        "4. In the final layer of the network, the output vectors contain a probability value for each possible class (in this case, classes 0, 1, and 2). This vector is processed by a *loss function* to determine how far the values calculated by the network are from the actual values - so for example, suppose the output for a Gentoo penguin (class 1) observation is \\[0.3, 0.4, 0.3\\]. The correct prediction should be \\[0.0, 1.0, 0.0\\], so the variance between the predicted and actual values (how far away the each predicted value is from what it should be) is \\[0.3, 0.6, 0.3\\]. This variance is aggregated for each batch and maintained as a running aggregate to calculate the overall level of error (*loss*) incurred by the training data for the epoch. The accuracy (proportion of correct predictions based on the highest probability value in the output vector) for the training data is also calculated.\n",
        "5. At the end of each epoch, the validation data is passed through the network, and its loss and accuracy are also calculated. It's important to do this because it enables us to compare the performance of the model using data on which it was not trained, helping us determine if it will generalize well for new data or if it's *overfitted* to the training data.\n",
        "6. After all the data has been passed forward through the network, the output of the loss function for the *training* data (but <u>not</u> the *validation* data) is passed to the opimizer. The precise details of how the optimizer processes the loss vary depending on the specific optimization algorithm being used; but fundamentally you can think of the entire network, from the input layer to the loss function as being one big nested (*composite*) function. The optimizer applies some differential calculus to calculate *partial derivatives* for the function with respect to each weight and bias value that was used in the network. It's possible to do this efficiently for a nested function due to something called the *chain rule*, which enables you to determine the derivative of a composite function from the derivatives of its inner function and outer functions. You don't really need to worry about the details of the math here (the optimizer does it for you), but the end result is that the partial derivatives tell us about the slope (or *gradient*) of the loss function with respect to each weight and bias value - in other words, we can determine whether to increase or decrease the weight and bias values in order to decrease the loss.\n",
        "7. Having determined in which direction to adjust the weights and biases, the optimizer uses the *learning rate* to determine by how much to adjust them; and then works backwards through the network in a process called *backpropagation* to assign new values to the weights and biases in each layer.\n",
        "8. Now the next epoch repeats the whole training, validation, and backpropagation process starting with the revised weights and biases from the previous epoch - which hopefully will result in a lower level of loss.\n",
        "9. The process continues like this for 50 epochs.\n",
        "\n",
        "## Review training and validation loss\n",
        "\n",
        "After training is complete, we can examine the loss metrics we recorded while training and validating the model. We're really looking for two things:\n",
        "* The loss should reduce with each epoch, showing that the model is learning the right weights and biases to predict the correct labels.\n",
        "* The training loss and validation loss should follow a similar trend, showing that the model is not overfitting to the training data.\n",
        "\n",
        "Let's plot the loss metrics and see:"
      ],
      "metadata": {
        "id": "lMNIcQXadqSg"
      }
    },
    {
      "cell_type": "code",
      "execution_count": 9,
      "source": [
        "%matplotlib inline\n",
        "from matplotlib import pyplot as plt\n",
        "\n",
        "epoch_nums = range(1,num_epochs+1)\n",
        "training_loss = history.history[\"loss\"]\n",
        "validation_loss = history.history[\"val_loss\"]\n",
        "plt.plot(epoch_nums, training_loss)\n",
        "plt.plot(epoch_nums, validation_loss)\n",
        "plt.xlabel('epoch')\n",
        "plt.ylabel('loss')\n",
        "plt.legend(['training', 'validation'], loc='upper right')\n",
        "plt.show()"
      ],
      "outputs": [
        {
          "output_type": "display_data",
          "data": {
            "text/plain": [
              "<Figure size 640x480 with 1 Axes>"
            ],
            "image/png": "[encoded data removed]"
          },
          "metadata": {}
        }
      ],
      "metadata": {
        "colab": {
          "base_uri": "https://localhost:8080/",
          "height": 449
        },
        "id": "cOoUxhMLdqSg",
        "outputId": "f2f8eb60-c8c8-4db0-eb0d-726aa692d02c"
      }
    },
    {
      "cell_type": "markdown",
      "source": [
        "## View the learned weights and biases\n",
        "\n",
        "The trained model consists of the final weights and biases that were determined by the optimizer during training. Based on our network model we should expect the following values for each layer:\n",
        "* Layer 1: There are four input values going to ten output nodes, so there should be 4 x 10 weights and 10 bias values.\n",
        "* Layer 2: There are ten input values going to ten output nodes, so there should be 10 x 10 weights and 10 bias values.\n",
        "* Layer 3: There are ten input values going to three output nodes, so there should be 10 x 3 weights and 3 bias values."
      ],
      "metadata": {
        "id": "UNYZj_hudqSg"
      }
    },
    {
      "cell_type": "code",
      "execution_count": 10,
      "source": [
        "for layer in model.layers:\n",
        "    weights = layer.get_weights()[0]\n",
        "    biases = layer.get_weights()[1]\n",
        "    print('------------\\nWeights:\\n',weights,'\\nBiases:\\n', biases)"
      ],
      "outputs": [
        {
          "output_type": "stream",
          "name": "stdout",
          "text": [
            "------------\n",
            "Weights:\n",
            " [[ 0.27986023 -0.58891505  0.2925905   0.2225585  -0.47913355  0.1900233\n",
            "   0.10261983 -0.12974982 -0.43844047  0.25568742]\n",
            " [-0.38882527 -0.6105135   0.30104253 -0.36995122  0.05176629  0.41553566\n",
            "  -0.37267068  0.40898693 -0.04302599  0.47399652]\n",
            " [-0.5210663   0.52274287 -0.46822014  0.17670976  0.57528794  0.34035861\n",
            "   0.23531902  0.06457982 -0.24953811 -0.44576937]\n",
            " [ 0.58011734 -0.6099068   0.44479045 -0.10870293  0.71353155  0.02984165\n",
            "   0.08157311  0.15345496  0.43229443 -0.6487653 ]] \n",
            "Biases:\n",
            " [-0.11192144  0.         -0.08656133 -0.09042358  0.04992991  0.07067742\n",
            "  0.00267795 -0.02999461 -0.01179151  0.        ]\n",
            "------------\n",
            "Weights:\n",
            " [[ 2.87517190e-01 -2.19466351e-02  5.07423341e-01 -4.15392399e-01\n",
            "  -3.51116270e-01  2.39238888e-01  6.63189888e-02 -4.99429852e-01\n",
            "  -3.70817482e-01  3.54097813e-01]\n",
            " [ 4.57606673e-01 -4.97982025e-01  6.36781454e-02 -1.17489219e-01\n",
            "  -2.32451946e-01 -3.63675416e-01 -3.10223699e-01 -5.25895059e-01\n",
            "  -3.99777174e-01  4.51427162e-01]\n",
            " [-1.01474427e-01  6.43263459e-02 -4.53089364e-02 -5.35845160e-01\n",
            "   2.47927204e-01  2.55989283e-01 -3.65871489e-01 -2.53553003e-01\n",
            "  -3.65471691e-01  1.25153422e-01]\n",
            " [ 2.87366658e-01 -6.98344409e-01  1.21914482e+00 -2.75564790e-01\n",
            "  -1.07406151e+00  4.54732962e-02 -1.56767368e-01  8.16975832e-02\n",
            "  -5.79326689e-01  8.15957427e-01]\n",
            " [ 2.50180304e-01 -3.09941679e-01  2.16866806e-01 -3.35957229e-01\n",
            "   4.18796510e-01 -6.69445753e-01 -4.40691173e-01  2.35682428e-01\n",
            "   3.74567360e-01 -5.48250198e-01]\n",
            " [-2.58501619e-01  2.08090335e-01 -4.20680463e-01 -2.48084158e-01\n",
            "   1.23250321e-01  3.22007328e-01  2.61595368e-01  8.64825845e-02\n",
            "   4.92666543e-01  2.44603697e-02]\n",
            " [-2.42944390e-01  1.06873825e-01  6.66054189e-01 -4.15136456e-01\n",
            "  -3.49926949e-01 -6.65063918e-01  5.07529259e-01 -1.47724062e-01\n",
            "  -1.01869278e-01 -4.60123539e-01]\n",
            " [-4.86940771e-01  2.84400314e-01  1.71231121e-01 -1.13701224e-02\n",
            "  -1.02435715e-01  2.81147510e-01 -5.31501770e-02 -4.56992388e-02\n",
            "   2.29731530e-01  3.56307060e-01]\n",
            " [-1.39524965e-02  1.59059867e-01  4.54366446e-01  2.84196079e-01\n",
            "  -1.09665193e-01  1.34550333e-01  1.97963476e-01 -2.30811894e-01\n",
            "  -5.01694194e-05  1.21441677e-01]\n",
            " [-5.17071903e-01 -1.44466043e-01  2.60133743e-02  2.68138945e-01\n",
            "  -4.49364543e-01 -4.41805601e-01  1.53226078e-01 -8.10557604e-02\n",
            "  -9.79200602e-02 -4.65214819e-01]] \n",
            "Biases:\n",
            " [-0.08381785  0.06441328 -0.09433325  0.          0.09103116 -0.04256966\n",
            "  0.          0.          0.07565852 -0.06271566]\n",
            "------------\n",
            "Weights:\n",
            " [[ 0.41184136 -0.21895234  0.35739598]\n",
            " [ 0.0714945  -0.9495024   0.15925555]\n",
            " [-0.7447251   0.26239076 -0.24370915]\n",
            " [ 0.66441524 -0.5743078  -0.6279518 ]\n",
            " [ 0.7934746   0.09956509 -0.28926095]\n",
            " [-0.01649061 -0.641507    0.39281029]\n",
            " [ 0.38567305 -0.20424199  0.46277285]\n",
            " [-0.26392275 -0.28939876 -0.32328087]\n",
            " [ 0.5079545  -0.5999856  -0.35942835]\n",
            " [-0.7943899  -0.28393722  0.5405674 ]] \n",
            "Biases:\n",
            " [ 0.06529795  0.02683075 -0.08293382]\n"
          ]
        }
      ],
      "metadata": {
        "tags": [],
        "colab": {
          "base_uri": "https://localhost:8080/"
        },
        "id": "qez_Oeq2dqSg",
        "outputId": "95408d63-7cc4-49b5-ed46-d584863c405d"
      }
    },
    {
      "cell_type": "markdown",
      "source": [
        "## Evaluate model performance\n",
        "\n",
        "So, is the model any good? The raw accuracy reported from the validation data would seem to indicate that it predicts pretty well; but it's typically useful to dig a little deeper and compare the predictions for each possible class. A common way to visualize the performance of a classification model is to create a *confusion matrix* that shows a crosstab of correct and incorrect predictions for each class."
      ],
      "metadata": {
        "id": "f64m2lv1dqSh"
      }
    },
    {
      "cell_type": "code",
      "execution_count": 11,
      "source": [
        "# Tensorflow doesn't have a built-in confusion matrix metric, so we'll use SciKit-Learn\n",
        "import numpy as np\n",
        "from sklearn.metrics import confusion_matrix\n",
        "import matplotlib.pyplot as plt\n",
        "%matplotlib inline\n",
        "\n",
        "\n",
        "class_probabilities = model.predict(x_test)\n",
        "predictions = np.argmax(class_probabilities, axis=1)\n",
        "true_labels = np.argmax(y_test, axis=1)\n",
        "\n",
        "# Plot the confusion matrix\n",
        "cm = confusion_matrix(true_labels, predictions)\n",
        "plt.imshow(cm, interpolation=\"nearest\", cmap=plt.cm.Blues)\n",
        "plt.colorbar()\n",
        "tick_marks = np.arange(len(penguin_classes))\n",
        "plt.xticks(tick_marks, penguin_classes, rotation=85)\n",
        "plt.yticks(tick_marks, penguin_classes)\n",
        "plt.xlabel(\"Predicted Species\")\n",
        "plt.ylabel(\"Actual Species\")\n",
        "plt.show()"
      ],
      "outputs": [
        {
          "output_type": "stream",
          "name": "stdout",
          "text": [
            "13/13 [==============================] - 0s 2ms/step\n"
          ]
        },
        {
          "output_type": "display_data",
          "data": {
            "text/plain": [
              "<Figure size 640x480 with 2 Axes>"
            ],
            "image/png": "[encoded data removed]"
          },
          "metadata": {}
        }
      ],
      "metadata": {
        "colab": {
          "base_uri": "https://localhost:8080/",
          "height": 520
        },
        "id": "E10CfwMndqSh",
        "outputId": "5540b74b-9427-4222-90d3-8040de0f34d9"
      }
    },
    {
      "cell_type": "markdown",
      "source": [
        "The confusion matrix should show a strong diagonal line indicating that there are more correct than incorrect predictions for each class.\n",
        "\n",
        "## Save the trained model\n",
        "Now that we have a model we believe is reasonably accurate, we can save its trained weights for use later."
      ],
      "metadata": {
        "id": "zdLAOM6VdqSh"
      }
    },
    {
      "cell_type": "code",
      "execution_count": 12,
      "source": [
        "# Save the trained model\n",
        "modelFileName = 'models/penguin-classifier.h5'\n",
        "model.save(modelFileName)\n",
        "del model  # deletes the existing model variable\n",
        "print('model saved as', modelFileName)"
      ],
      "outputs": [
        {
          "output_type": "stream",
          "name": "stdout",
          "text": [
            "model saved as models/penguin-classifier.h5\n"
          ]
        },
        {
          "output_type": "stream",
          "name": "stderr",
          "text": [
            "/usr/local/lib/python3.10/dist-packages/keras/src/engine/training.py:3079: UserWarning: You are saving your model as an HDF5 file via `model.save()`. This file format is considered legacy. We recommend using instead the native Keras format, e.g. `model.save('my_model.keras')`.\n",
            "  saving_api.save_model(\n"
          ]
        }
      ],
      "metadata": {
        "colab": {
          "base_uri": "https://localhost:8080/"
        },
        "id": "_IF8HbaBdqSh",
        "outputId": "68286470-ecb2-4cc1-dec7-345698404772"
      }
    },
    {
      "cell_type": "markdown",
      "source": [
        "## Use the trained model\n",
        "\n",
        "When we have a new penguin observation, we can use the model to predict the species."
      ],
      "metadata": {
        "id": "fWQR4fx1dqSh"
      }
    },
    {
      "cell_type": "code",
      "execution_count": 13,
      "source": [
        "# Load the saved model\n",
        "model = models.load_model(modelFileName)\n",
        "\n",
        "# CReate a new array of features\n",
        "x_new = np.array([[50.4,15.3,20,50]])\n",
        "print ('New sample: {}'.format(x_new))\n",
        "\n",
        "# Use the model to predict the class\n",
        "class_probabilities = model.predict(x_new)\n",
        "predictions = np.argmax(class_probabilities, axis=1)\n",
        "\n",
        "print(penguin_classes[predictions[0]])"
      ],
      "outputs": [
        {
          "output_type": "stream",
          "name": "stdout",
          "text": [
            "New sample: [[50.4 15.3 20.  50. ]]\n",
            "1/1 [==============================] - 0s 61ms/step\n",
            "Gentoo\n"
          ]
        }
      ],
      "metadata": {
        "tags": [],
        "colab": {
          "base_uri": "https://localhost:8080/"
        },
        "id": "nc7LhHGmdqSh",
        "outputId": "d6349dca-4721-4a49-c065-592d4013f371"
      }
    },
    {
      "cell_type": "markdown",
      "source": [
        "## Learn more\n",
        "\n",
        "This notebook was designed to help you understand the basic concepts and principles involved in deep neural networks, using a simple Tensorflow example. To learn more about Tensorflow, take a look at the <a href=\"https://www.tensorflow.org/\" target=\"_blank\">Tensorflow web site</a>."
      ],
      "metadata": {
        "id": "vX2pgMXgdqSh"
      }
    }
  ],
  "metadata": {
    "kernelspec": {
      "display_name": "Python 3.6 - AzureML",
      "language": "python",
      "name": "python3-azureml"
    },
    "language_info": {
      "codemirror_mode": {
        "name": "ipython",
        "version": 3
      },
      "file_extension": ".py",
      "mimetype": "text/x-python",
      "name": "python",
      "nbconvert_exporter": "python",
      "pygments_lexer": "ipython3",
      "version": "3.6.9"
    },
    "colab": {
      "provenance": []
    }
  },
  "nbformat": 4,
  "nbformat_minor": 0
}