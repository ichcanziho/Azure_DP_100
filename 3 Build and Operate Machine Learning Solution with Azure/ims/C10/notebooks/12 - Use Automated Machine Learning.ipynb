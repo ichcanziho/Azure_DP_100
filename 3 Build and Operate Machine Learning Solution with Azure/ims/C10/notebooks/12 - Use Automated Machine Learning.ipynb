{
  "cells": [
    {
      "cell_type": "markdown",
      "source": [
        "# Use Automated Machine Learning\n",
        "\n",
        "There are many kinds of machine learning algorithm that you can use to train a model, and sometimes it's not easy to determine the most effective algorithm for your particular data and prediction requirements. Additionally, you can significantly affect the predictive performance of a model by preprocessing the training data, using techniques such as normalization, missing feature imputation, and others. In your quest to find the *best* model for your requirements, you may need to try many combinations of algorithms and preprocessing transformations; which takes a lot of time and compute resources.\n",
        "\n",
        "Azure Machine Learning enables you to automate the comparison of models trained using different algorithms and preprocessing options. You can use the visual interface in [Azure Machine Learning studio](https://ml/azure.com) or the SDK to leverage this capability. The SDK gives you greater control over the settings for the automated machine learning experiment, but the visual interface is easier to use.\n",
        "\n",
        "## Before you start\n",
        "\n",
        "In addition to the latest version of the **azureml-sdk** and **azureml-widgets** packages, you'll need the **azureml-train-automl** package to run the code in this notebook. Run the cell below to verify that it is installed."
      ],
      "metadata": {}
    },
    {
      "cell_type": "code",
      "source": [
        "pip show azureml-train-automl"
      ],
      "outputs": [
        {
          "output_type": "stream",
          "name": "stdout",
          "text": "Name: azureml-train-automl\r\nVersion: 1.51.0\r\nSummary: Used for automatically finding the best machine learning model and its parameters.\r\nHome-page: https://docs.microsoft.com/python/api/overview/azure/ml/?view=azure-ml-py\r\nAuthor: Microsoft Corp\r\nAuthor-email: None\r\nLicense: https://aka.ms/azureml-sdk-license\r\nLocation: /anaconda/envs/azureml_py38/lib/python3.8/site-packages\r\nRequires: azureml-train-automl-runtime, azureml-dataset-runtime, azureml-automl-core, azureml-train-automl-client, azureml-automl-runtime\r\nRequired-by: azureml-automl-dnn-nlp\r\nNote: you may need to restart the kernel to use updated packages.\n"
        }
      ],
      "execution_count": 1,
      "metadata": {
        "gather": {
          "logged": 1699650609427
        },
        "vscode": {
          "languageId": "python"
        }
      }
    },
    {
      "cell_type": "markdown",
      "source": [
        "## Connect to your workspace\n",
        "\n",
        "With the required SDK packages installed, now you're ready to connect to your workspace.\n",
        "\n",
        "> **Note**: If you haven't already established an authenticated session with your Azure subscription, you'll be prompted to authenticate by clicking a link, entering an authentication code, and signing into Azure."
      ],
      "metadata": {}
    },
    {
      "cell_type": "code",
      "source": [
        "import azureml.core\n",
        "from azureml.core import Workspace\n",
        "\n",
        "# Load the workspace from the saved config file\n",
        "ws = Workspace.from_config()\n",
        "print('Ready to use Azure ML {} to work with {}'.format(azureml.core.VERSION, ws.name))"
      ],
      "outputs": [
        {
          "output_type": "stream",
          "name": "stdout",
          "text": "Ready to use Azure ML 1.51.0 to work with mlw-dp100-labs\n"
        }
      ],
      "execution_count": 2,
      "metadata": {
        "gather": {
          "logged": 1699650620998
        },
        "vscode": {
          "languageId": "python"
        }
      }
    },
    {
      "cell_type": "markdown",
      "source": [
        "## Prepare data\n",
        "\n",
        "You don't need to create a training script for automated machine learning, but you do need to load the training data. In this case, you'll use a dataset containing details of diabetes patients, and then split this into two datasets: one for training, and another for model validation."
      ],
      "metadata": {}
    },
    {
      "cell_type": "code",
      "source": [
        "from azureml.core import Dataset\n",
        "\n",
        "default_ds = ws.get_default_datastore()\n",
        "\n",
        "if 'diabetes dataset' not in ws.datasets:\n",
        "    default_ds.upload_files(files=['./data/diabetes.csv', './data/diabetes2.csv'], # Upload the diabetes csv files in /data\n",
        "                        target_path='diabetes-data/', # Put it in a folder path in the datastore\n",
        "                        overwrite=True, # Replace existing files of the same name\n",
        "                        show_progress=True)\n",
        "\n",
        "    #Create a tabular dataset from the path on the datastore (this may take a short while)\n",
        "    tab_data_set = Dataset.Tabular.from_delimited_files(path=(default_ds, 'diabetes-data/*.csv'))\n",
        "\n",
        "    # Register the tabular dataset\n",
        "    try:\n",
        "        tab_data_set = tab_data_set.register(workspace=ws, \n",
        "                                name='diabetes dataset',\n",
        "                                description='diabetes data',\n",
        "                                tags = {'format':'CSV'},\n",
        "                                create_new_version=True)\n",
        "        print('Dataset registered.')\n",
        "    except Exception as ex:\n",
        "        print(ex)\n",
        "else:\n",
        "    print('Dataset already registered.')\n",
        "\n",
        "\n",
        "# Split the dataset into training and validation subsets\n",
        "diabetes_ds = ws.datasets.get(\"diabetes dataset\")\n",
        "train_ds, test_ds = diabetes_ds.random_split(percentage=0.7, seed=123)\n",
        "print(\"Data ready!\")"
      ],
      "outputs": [
        {
          "output_type": "stream",
          "name": "stdout",
          "text": "Dataset already registered.\nData ready!\n"
        }
      ],
      "execution_count": 3,
      "metadata": {
        "vscode": {
          "languageId": "python"
        },
        "gather": {
          "logged": 1699650662660
        }
      }
    },
    {
      "cell_type": "markdown",
      "source": [
        "## Prepare compute\n",
        "\n",
        "One of the benefits of cloud compute is that it scales on-demand, enabling you to provision enough compute resources to process multiple child-runs of an automated machine learning experiment in parallel.\n",
        "\n",
        "Use the following code to specify an Azure Machine Learning compute cluster (it will be created if it doesn't already exist)..\n",
        "\n",
        "> **Important**: Change *your-compute-cluster* to the name of your compute cluster in the code below before running it! Cluster names must be globally unique names between 2 to 16 characters in length. Valid characters are letters, digits, and the - character."
      ],
      "metadata": {}
    },
    {
      "cell_type": "code",
      "source": [
        "from azureml.core.compute import ComputeTarget, AmlCompute\n",
        "from azureml.core.compute_target import ComputeTargetException\n",
        "\n",
        "cluster_name = \"coursera-cluster\"\n",
        "\n",
        "try:\n",
        "    # Check for existing compute target\n",
        "    training_cluster = ComputeTarget(workspace=ws, name=cluster_name)\n",
        "    print('Found existing cluster, use it.')\n",
        "except ComputeTargetException:\n",
        "    # If it doesn't already exist, create it\n",
        "    try:\n",
        "        compute_config = AmlCompute.provisioning_configuration(vm_size='STANDARD_DS11_V2', max_nodes=2)\n",
        "        training_cluster = ComputeTarget.create(ws, cluster_name, compute_config)\n",
        "        training_cluster.wait_for_completion(show_output=True)\n",
        "    except Exception as ex:\n",
        "        print(ex)\n",
        "    "
      ],
      "outputs": [
        {
          "output_type": "stream",
          "name": "stdout",
          "text": "Found existing cluster, use it.\n"
        }
      ],
      "execution_count": 4,
      "metadata": {
        "vscode": {
          "languageId": "python"
        },
        "gather": {
          "logged": 1699650711630
        }
      }
    },
    {
      "cell_type": "markdown",
      "source": [
        "> **Note**: Compute instances and clusters are based on standard Azure virtual machine images. For this exercise, the *Standard_DS11_v2* image is recommended to achieve the optimal balance of cost and performance. If your subscription has a quota that does not include this image, choose an alternative image; but bear in mind that a larger image may incur higher cost and a smaller image may not be sufficient to complete the tasks. Alternatively, ask your Azure administrator to extend your quota.\n",
        "\n",
        "## Configure automated machine learning\n",
        "\n",
        "Now you're ready to configure the automated machine learning experiment.\n",
        "\n",
        "One of the most important configuration settings is the metric by which model performance should be evaluated. You can retrieve a list of the metrics that are calculated by automated machine learning for a particular type of model task (classification or regression) like this:"
      ],
      "metadata": {}
    },
    {
      "cell_type": "code",
      "source": [
        "import azureml.train.automl.utilities as automl_utils\n",
        "\n",
        "for metric in automl_utils.get_primary_metrics('classification'):\n",
        "    print(metric)"
      ],
      "outputs": [
        {
          "output_type": "stream",
          "name": "stdout",
          "text": "accuracy\nprecision_score_weighted\nnorm_macro_recall\nAUC_weighted\naverage_precision_score_weighted\n"
        }
      ],
      "execution_count": 5,
      "metadata": {
        "vscode": {
          "languageId": "python"
        },
        "gather": {
          "logged": 1699650729550
        }
      }
    },
    {
      "cell_type": "markdown",
      "source": [
        "Having decided the metric you want to optimize (in this example, *AUC_weighted*), you can configure the automated machine learning run. To do this, you'll need an AutoML configuration that specifies the target metric as well as options like the data to use, how many combinations to try, and so on.\n",
        "\n",
        "> **Note**: In this example, you'll restrict the experiment to 4 iterations to reduce the amount of time taken. In reality, you'd likely try many more iterations."
      ],
      "metadata": {}
    },
    {
      "cell_type": "code",
      "source": [
        "from azureml.train.automl import AutoMLConfig\n",
        "\n",
        "automl_config = AutoMLConfig(name='Automated ML Experiment',\n",
        "                             task='classification',\n",
        "                             compute_target=training_cluster,\n",
        "                             training_data = train_ds,\n",
        "                             validation_data = test_ds,\n",
        "                             label_column_name='Diabetic',\n",
        "                             iterations=4,\n",
        "                             primary_metric = 'AUC_weighted',\n",
        "                             max_concurrent_iterations=2,\n",
        "                             featurization='auto'\n",
        "                             )\n",
        "\n",
        "print(\"Ready for Auto ML run.\")"
      ],
      "outputs": [
        {
          "output_type": "stream",
          "name": "stdout",
          "text": "Ready for Auto ML run.\n"
        }
      ],
      "execution_count": 6,
      "metadata": {
        "vscode": {
          "languageId": "python"
        },
        "gather": {
          "logged": 1699650775615
        }
      }
    },
    {
      "cell_type": "markdown",
      "source": [
        "## Run an automated machine learning experiment\n",
        "\n",
        "OK, you're ready to go. Let's run the automated machine learning experiment.\n",
        "\n",
        "> **Note**: This may take some time!"
      ],
      "metadata": {}
    },
    {
      "cell_type": "code",
      "source": [
        "from azureml.core.experiment import Experiment\n",
        "from azureml.widgets import RunDetails\n",
        "\n",
        "print('Submitting Auto ML experiment...')\n",
        "automl_experiment = Experiment(ws, 'mslearn-diabetes-automl-sdk')\n",
        "automl_run = automl_experiment.submit(automl_config)\n",
        "RunDetails(automl_run).show()\n",
        "automl_run.wait_for_completion(show_output=True)"
      ],
      "outputs": [
        {
          "output_type": "stream",
          "name": "stdout",
          "text": "Submitting Auto ML experiment...\nSubmitting remote run.\n"
        },
        {
          "output_type": "display_data",
          "data": {
            "text/html": "<table style=\"width:100%\"><tr><th>Experiment</th><th>Id</th><th>Type</th><th>Status</th><th>Details Page</th><th>Docs Page</th></tr><tr><td>mslearn-diabetes-automl-sdk</td><td>AutoML_a15f15fd-1ada-45ea-a3a9-371269d90f16</td><td>automl</td><td>NotStarted</td><td><a href=\"https://ml.azure.com/runs/AutoML_a15f15fd-1ada-45ea-a3a9-371269d90f16?wsid=/subscriptions/42233ac3-1d6b-40e9-920d-ae1ce13376ed/resourcegroups/rg-dp100-labs/workspaces/mlw-dp100-labs&amp;tid=54f76ea3-fed9-41fc-a628-e91383900a39\" target=\"_blank\" rel=\"noopener\">Link to Azure Machine Learning studio</a></td><td><a href=\"https://docs.microsoft.com/en-us/python/api/overview/azure/ml/intro?view=azure-ml-py\" target=\"_blank\" rel=\"noopener\">Link to Documentation</a></td></tr></table>"
          },
          "metadata": {}
        },
        {
          "output_type": "display_data",
          "data": {
            "text/plain": "_AutoMLWidget(widget_settings={'childWidgetDisplay': 'popup', 'send_telemetry': False, 'log_level': 'INFO', 's…",
            "application/vnd.jupyter.widget-view+json": {
              "version_major": 2,
              "version_minor": 0,
              "model_id": "3b0e6f9e131649d2ad27e65517b2d494"
            }
          },
          "metadata": {}
        },
        {
          "output_type": "display_data",
          "data": {
            "application/aml.mini.widget.v1": "{\"status\": \"Failed\", \"workbench_run_details_uri\": \"https://ml.azure.com/runs/AutoML_a15f15fd-1ada-45ea-a3a9-371269d90f16?wsid=/subscriptions/42233ac3-1d6b-40e9-920d-ae1ce13376ed/resourcegroups/rg-dp100-labs/workspaces/mlw-dp100-labs&tid=54f76ea3-fed9-41fc-a628-e91383900a39\", \"run_id\": \"AutoML_a15f15fd-1ada-45ea-a3a9-371269d90f16\", \"run_properties\": {\"run_id\": \"AutoML_a15f15fd-1ada-45ea-a3a9-371269d90f16\", \"created_utc\": \"2023-11-10T21:13:10.253768Z\", \"properties\": {\"num_iterations\": \"4\", \"training_type\": \"TrainFull\", \"acquisition_function\": \"EI\", \"primary_metric\": \"AUC_weighted\", \"train_split\": \"0\", \"acquisition_parameter\": \"0\", \"num_cross_validation\": null, \"target\": \"coursera-cluster\", \"AMLSettingsJsonString\": \"{\\\"path\\\":null,\\\"name\\\":\\\"Automated ML Experiment\\\",\\\"subscription_id\\\":\\\"42233ac3-1d6b-40e9-920d-ae1ce13376ed\\\",\\\"resource_group\\\":\\\"rg-dp100-labs\\\",\\\"workspace_name\\\":\\\"mlw-dp100-labs\\\",\\\"region\\\":\\\"eastus2\\\",\\\"compute_target\\\":\\\"coursera-cluster\\\",\\\"spark_service\\\":null,\\\"azure_service\\\":\\\"remote\\\",\\\"many_models\\\":false,\\\"pipeline_fetch_max_batch_size\\\":1,\\\"enable_batch_run\\\":true,\\\"enable_parallel_run\\\":false,\\\"num_procs\\\":null,\\\"enable_run_restructure\\\":false,\\\"start_auxiliary_runs_before_parent_complete\\\":false,\\\"enable_code_generation\\\":true,\\\"iterations\\\":4,\\\"primary_metric\\\":\\\"AUC_weighted\\\",\\\"task_type\\\":\\\"classification\\\",\\\"positive_label\\\":null,\\\"data_script\\\":null,\\\"test_size\\\":0.0,\\\"test_include_predictions_only\\\":false,\\\"validation_size\\\":0.0,\\\"n_cross_validations\\\":null,\\\"y_min\\\":null,\\\"y_max\\\":null,\\\"num_classes\\\":null,\\\"featurization\\\":\\\"auto\\\",\\\"_ignore_package_version_incompatibilities\\\":false,\\\"is_timeseries\\\":false,\\\"max_cores_per_iteration\\\":1,\\\"max_concurrent_iterations\\\":2,\\\"iteration_timeout_minutes\\\":null,\\\"mem_in_mb\\\":null,\\\"enforce_time_on_windows\\\":false,\\\"experiment_timeout_minutes\\\":8640,\\\"experiment_exit_score\\\":null,\\\"partition_column_names\\\":null,\\\"whitelist_models\\\":null,\\\"blacklist_algos\\\":[\\\"TensorFlowLinearClassifier\\\",\\\"TensorFlowDNN\\\"],\\\"supported_models\\\":[\\\"SGD\\\",\\\"RandomForest\\\",\\\"AveragedPerceptronClassifier\\\",\\\"MultinomialNaiveBayes\\\",\\\"ExtremeRandomTrees\\\",\\\"TabnetClassifier\\\",\\\"LightGBM\\\",\\\"LinearSVM\\\",\\\"BernoulliNaiveBayes\\\",\\\"LogisticRegression\\\",\\\"SVM\\\",\\\"KNN\\\",\\\"DecisionTree\\\",\\\"TensorFlowLinearClassifier\\\",\\\"GradientBoosting\\\",\\\"XGBoostClassifier\\\",\\\"TensorFlowDNN\\\"],\\\"private_models\\\":[],\\\"auto_blacklist\\\":true,\\\"blacklist_samples_reached\\\":false,\\\"exclude_nan_labels\\\":true,\\\"verbosity\\\":20,\\\"_debug_log\\\":\\\"azureml_automl.log\\\",\\\"show_warnings\\\":false,\\\"model_explainability\\\":true,\\\"service_url\\\":null,\\\"sdk_url\\\":null,\\\"sdk_packages\\\":null,\\\"enable_onnx_compatible_models\\\":false,\\\"enable_split_onnx_featurizer_estimator_models\\\":false,\\\"vm_type\\\":\\\"STANDARD_DS11_V2\\\",\\\"telemetry_verbosity\\\":20,\\\"send_telemetry\\\":true,\\\"enable_dnn\\\":false,\\\"scenario\\\":\\\"AutoML\\\",\\\"environment_label\\\":null,\\\"save_mlflow\\\":false,\\\"enable_categorical_indicators\\\":false,\\\"force_text_dnn\\\":false,\\\"enable_feature_sweeping\\\":true,\\\"enable_early_stopping\\\":true,\\\"early_stopping_n_iters\\\":10,\\\"arguments\\\":null,\\\"dataset_id\\\":\\\"14012f11-096f-42c9-b1e3-e34dd5feba7d\\\",\\\"hyperdrive_config\\\":null,\\\"validation_dataset_id\\\":\\\"d98edf3d-837d-45fa-b025-ef4872e11ec6\\\",\\\"run_source\\\":null,\\\"metrics\\\":null,\\\"enable_metric_confidence\\\":false,\\\"enable_ensembling\\\":true,\\\"enable_stack_ensembling\\\":true,\\\"ensemble_iterations\\\":4,\\\"enable_tf\\\":false,\\\"enable_subsampling\\\":false,\\\"subsample_seed\\\":null,\\\"enable_nimbusml\\\":false,\\\"enable_streaming\\\":false,\\\"force_streaming\\\":false,\\\"track_child_runs\\\":true,\\\"n_best_runs\\\":1,\\\"allowed_private_models\\\":[],\\\"label_column_name\\\":\\\"Diabetic\\\",\\\"weight_column_name\\\":null,\\\"cv_split_column_names\\\":null,\\\"enable_local_managed\\\":false,\\\"_local_managed_run_id\\\":null,\\\"cost_mode\\\":1,\\\"lag_length\\\":0,\\\"metric_operation\\\":\\\"maximize\\\",\\\"preprocess\\\":true}\", \"DataPrepJsonString\": \"{\\\\\\\"training_data\\\\\\\": {\\\\\\\"datasetId\\\\\\\": \\\\\\\"14012f11-096f-42c9-b1e3-e34dd5feba7d\\\\\\\"}, \\\\\\\"validation_data\\\\\\\": {\\\\\\\"datasetId\\\\\\\": \\\\\\\"d98edf3d-837d-45fa-b025-ef4872e11ec6\\\\\\\"}, \\\\\\\"datasets\\\\\\\": 0}\", \"EnableSubsampling\": \"False\", \"runTemplate\": \"AutoML\", \"azureml.runsource\": \"automl\", \"display_task_type\": \"classification\", \"dependencies_versions\": \"{\\\"azureml-dataprep-native\\\": \\\"38.0.0\\\", \\\"azureml-dataprep\\\": \\\"4.10.8\\\", \\\"azureml-dataprep-rslex\\\": \\\"2.17.12\\\", \\\"azureml-train-automl-runtime\\\": \\\"1.51.0.post2\\\", \\\"azureml-train-automl-client\\\": \\\"1.51.0.post1\\\", \\\"azureml-training-tabular\\\": \\\"1.51.0.post1\\\", \\\"azureml-automl-runtime\\\": \\\"1.51.0.post1\\\", \\\"azureml-automl-core\\\": \\\"1.51.0.post1\\\", \\\"azureml-mlflow\\\": \\\"1.51.0\\\", \\\"azureml-datadrift\\\": \\\"1.51.0\\\", \\\"azureml-pipeline\\\": \\\"1.51.0\\\", \\\"azureml-contrib-dataset\\\": \\\"1.51.0\\\", \\\"azureml-contrib-notebook\\\": \\\"1.51.0\\\", \\\"azureml-accel-models\\\": \\\"1.51.0\\\", \\\"azureml-automl-dnn-nlp\\\": \\\"1.51.0\\\", \\\"azureml-pipeline-core\\\": \\\"1.51.0\\\", \\\"azureml-responsibleai\\\": \\\"1.51.0\\\", \\\"azureml-contrib-automl-pipeline-steps\\\": \\\"1.51.0\\\", \\\"azureml-pipeline-steps\\\": \\\"1.51.0\\\", \\\"azureml-core\\\": \\\"1.51.0\\\", \\\"azureml-contrib-reinforcementlearning\\\": \\\"1.51.0\\\", \\\"azureml-contrib-server\\\": \\\"1.51.0\\\", \\\"azureml-opendatasets\\\": \\\"1.51.0\\\", \\\"azureml-contrib-services\\\": \\\"1.51.0\\\", \\\"azureml-telemetry\\\": \\\"1.51.0\\\", \\\"azureml-train-restclients-hyperdrive\\\": \\\"1.51.0\\\", \\\"azureml-interpret\\\": \\\"1.51.0\\\", \\\"azureml-train-core\\\": \\\"1.51.0\\\", \\\"azureml-tensorboard\\\": \\\"1.51.0\\\", \\\"azureml-train\\\": \\\"1.51.0\\\", \\\"azureml-contrib-pipeline-steps\\\": \\\"1.51.0\\\", \\\"azureml-explain-model\\\": \\\"1.51.0\\\", \\\"azureml-cli-common\\\": \\\"1.51.0\\\", \\\"azureml-widgets\\\": \\\"1.51.0\\\", \\\"azureml-train-automl\\\": \\\"1.51.0\\\", \\\"azureml-defaults\\\": \\\"1.51.0\\\", \\\"azureml-contrib-fairness\\\": \\\"1.51.0\\\", \\\"azureml-sdk\\\": \\\"1.51.0\\\", \\\"azureml-dataset-runtime\\\": \\\"1.51.0\\\", \\\"azureml-inference-server-http\\\": \\\"0.8.4\\\"}\", \"_aml_system_scenario_identification\": \"Remote.Parent\", \"ClientType\": \"SDK\", \"PlatformVersion\": \"DPV1\", \"environment_cpu_name\": \"AzureML-AutoML\", \"environment_cpu_label\": \"scikit-upgrade2\", \"environment_gpu_name\": \"AzureML-AutoML-GPU\", \"environment_gpu_label\": \"scikit-upgrade2\", \"root_attribution\": \"automl\", \"attribution\": \"AutoML\", \"Orchestrator\": \"AutoML\", \"CancelUri\": \"https://eastus2.api.azureml.ms/jasmine/v1.0/subscriptions/42233ac3-1d6b-40e9-920d-ae1ce13376ed/resourceGroups/rg-dp100-labs/providers/Microsoft.MachineLearningServices/workspaces/mlw-dp100-labs/experimentids/4759a6e4-7a36-4f45-a392-b314fe5a4dab/cancel/AutoML_a15f15fd-1ada-45ea-a3a9-371269d90f16\", \"ClientSdkVersion\": null, \"snapshotId\": \"00000000-0000-0000-0000-000000000000\", \"SetupRunId\": \"AutoML_a15f15fd-1ada-45ea-a3a9-371269d90f16_setup\", \"SetupRunContainerId\": \"dcid.AutoML_a15f15fd-1ada-45ea-a3a9-371269d90f16_setup\", \"errors\": \"Setup iteration failed: Unidentified error, check logs in portal / compute\"}, \"tags\": {\"model_explain_run\": \"best_run\", \"_aml_system_automl_run_workspace_id\": \"699734a3-1bff-45ae-b4a4-07c66269f461\", \"_aml_system_azureml.automlComponent\": \"AutoML\"}, \"end_time_utc\": \"2023-11-10T21:18:53.037803Z\", \"status\": \"Failed\", \"log_files\": {}, \"log_groups\": [], \"run_duration\": \"0:05:42\", \"run_number\": \"1699650790\", \"run_queued_details\": {\"status\": \"Failed\", \"details\": null}}, \"child_runs\": [{\"run_id\": \"AutoML_a15f15fd-1ada-45ea-a3a9-371269d90f16_setup\", \"run_number\": 1699650804, \"metric\": null, \"status\": \"Failed\", \"run_type\": \"azureml.scriptrun\", \"training_percent\": null, \"start_time\": \"2023-11-10T21:16:50.495878Z\", \"end_time\": \"2023-11-10T21:18:52.718538Z\", \"created_time\": \"2023-11-10T21:13:24.743072Z\", \"created_time_dt\": \"2023-11-10T21:13:24.743072Z\", \"duration\": \"0:05:27\", \"iteration\": null, \"goal\": null, \"run_name\": \"Failed\", \"run_properties\": null}], \"children_metrics\": {\"categories\": null, \"series\": null, \"metricName\": null}, \"run_metrics\": [], \"run_logs\": \"\\nError occurred: AzureMLCompute job failed\\nAggregatedError: Lifecycler got aggregated errors from capabilities and execution\\n\\tExecutionFailed: {\\\"Code\\\":\\\"ExecutionFailed\\\",\\\"Category\\\":\\\"UserError\\\",\\\"Message\\\":\\\"[REDACTED]\\\",\\\"Details\\\":[{\\\"Name\\\":\\\"exit_codes\\\",\\\"Value\\\":\\\"1\\\"}],\\\"Error\\\":null}\\n\\tOutputManagerError.BatchRequestArtifactSas.Forbidden: {\\\"Code\\\":\\\"OutputManagerError.BatchRequestArtifactSas.Forbidden\\\",\\\"Category\\\":\\\"UserError\\\",\\\"Message\\\":\\\"[REDACTED]\\\",\\\"Details\\\":[{\\\"Name\\\":\\\"BlobType\\\",\\\"Value\\\":\\\"BlockBlob\\\"},{\\\"Name\\\":\\\"Streamable\\\",\\\"Value\\\":\\\"true\\\"}],\\\"Error\\\":null}\\n\\tAppinsights Reachable: Some(true)\\n\", \"graph\": {}, \"widget_settings\": {\"childWidgetDisplay\": \"popup\", \"send_telemetry\": false, \"log_level\": \"INFO\", \"sdk_version\": \"1.51.0\"}, \"loading\": false}"
          },
          "metadata": {}
        },
        {
          "output_type": "display_data",
          "data": {
            "text/html": "<table style=\"width:100%\"><tr><th>Experiment</th><th>Id</th><th>Type</th><th>Status</th><th>Details Page</th><th>Docs Page</th></tr><tr><td>mslearn-diabetes-automl-sdk</td><td>AutoML_a15f15fd-1ada-45ea-a3a9-371269d90f16</td><td>automl</td><td>NotStarted</td><td><a href=\"https://ml.azure.com/runs/AutoML_a15f15fd-1ada-45ea-a3a9-371269d90f16?wsid=/subscriptions/42233ac3-1d6b-40e9-920d-ae1ce13376ed/resourcegroups/rg-dp100-labs/workspaces/mlw-dp100-labs&amp;tid=54f76ea3-fed9-41fc-a628-e91383900a39\" target=\"_blank\" rel=\"noopener\">Link to Azure Machine Learning studio</a></td><td><a href=\"https://docs.microsoft.com/en-us/python/api/overview/azure/ml/intro?view=azure-ml-py\" target=\"_blank\" rel=\"noopener\">Link to Documentation</a></td></tr></table>"
          },
          "metadata": {}
        },
        {
          "output_type": "stream",
          "name": "stdout",
          "text": "\n\nERROR: Setup iteration failed: Unidentified error, check logs in portal / compute\n"
        },
        {
          "output_type": "execute_result",
          "execution_count": 7,
          "data": {
            "text/plain": "{'runId': 'AutoML_a15f15fd-1ada-45ea-a3a9-371269d90f16',\n 'target': 'coursera-cluster',\n 'status': 'Failed',\n 'startTimeUtc': '2023-11-10T21:13:25.844233Z',\n 'endTimeUtc': '2023-11-10T21:18:53.037803Z',\n 'services': {},\n 'error': {'error': {'code': 'UserError',\n   'message': 'AzureMLCompute job failed\\nAggregatedError: Lifecycler got aggregated errors from capabilities and execution\\n\\tExecutionFailed: {\"Code\":\"ExecutionFailed\",\"Category\":\"UserError\",\"Message\":\"[REDACTED]\",\"Details\":[{\"Name\":\"exit_codes\",\"Value\":\"1\"}],\"Error\":null}\\n\\tOutputManagerError.BatchRequestArtifactSas.Forbidden: {\"Code\":\"OutputManagerError.BatchRequestArtifactSas.Forbidden\",\"Category\":\"UserError\",\"Message\":\"[REDACTED]\",\"Details\":[{\"Name\":\"BlobType\",\"Value\":\"BlockBlob\"},{\"Name\":\"Streamable\",\"Value\":\"true\"}],\"Error\":null}\\n\\tAppinsights Reachable: Some(true)',\n   'messageFormat': '{Message}',\n   'messageParameters': {'Message': 'AzureMLCompute job failed\\nAggregatedError: Lifecycler got aggregated errors from capabilities and execution\\n\\tExecutionFailed: {\"Code\":\"ExecutionFailed\",\"Category\":\"UserError\",\"Message\":\"[REDACTED]\",\"Details\":[{\"Name\":\"exit_codes\",\"Value\":\"1\"}],\"Error\":null}\\n\\tOutputManagerError.BatchRequestArtifactSas.Forbidden: {\"Code\":\"OutputManagerError.BatchRequestArtifactSas.Forbidden\",\"Category\":\"UserError\",\"Message\":\"[REDACTED]\",\"Details\":[{\"Name\":\"BlobType\",\"Value\":\"BlockBlob\"},{\"Name\":\"Streamable\",\"Value\":\"true\"}],\"Error\":null}\\n\\tAppinsights Reachable: Some(true)'},\n   'details': [],\n   'innerError': {'code': 'UserTrainingCommandFailed'}},\n  'environment': 'eastus2',\n  'location': 'eastus2',\n  'time': '2023-11-10T21:18:52.623014Z',\n  'componentName': 'cjpbatch'},\n 'properties': {'num_iterations': '4',\n  'training_type': 'TrainFull',\n  'acquisition_function': 'EI',\n  'primary_metric': 'AUC_weighted',\n  'train_split': '0',\n  'acquisition_parameter': '0',\n  'num_cross_validation': None,\n  'target': 'coursera-cluster',\n  'AMLSettingsJsonString': '{\"path\":null,\"name\":\"Automated ML Experiment\",\"subscription_id\":\"42233ac3-1d6b-40e9-920d-ae1ce13376ed\",\"resource_group\":\"rg-dp100-labs\",\"workspace_name\":\"mlw-dp100-labs\",\"region\":\"eastus2\",\"compute_target\":\"coursera-cluster\",\"spark_service\":null,\"azure_service\":\"remote\",\"many_models\":false,\"pipeline_fetch_max_batch_size\":1,\"enable_batch_run\":true,\"enable_parallel_run\":false,\"num_procs\":null,\"enable_run_restructure\":false,\"start_auxiliary_runs_before_parent_complete\":false,\"enable_code_generation\":true,\"iterations\":4,\"primary_metric\":\"AUC_weighted\",\"task_type\":\"classification\",\"positive_label\":null,\"data_script\":null,\"test_size\":0.0,\"test_include_predictions_only\":false,\"validation_size\":0.0,\"n_cross_validations\":null,\"y_min\":null,\"y_max\":null,\"num_classes\":null,\"featurization\":\"auto\",\"_ignore_package_version_incompatibilities\":false,\"is_timeseries\":false,\"max_cores_per_iteration\":1,\"max_concurrent_iterations\":2,\"iteration_timeout_minutes\":null,\"mem_in_mb\":null,\"enforce_time_on_windows\":false,\"experiment_timeout_minutes\":8640,\"experiment_exit_score\":null,\"partition_column_names\":null,\"whitelist_models\":null,\"blacklist_algos\":[\"TensorFlowLinearClassifier\",\"TensorFlowDNN\"],\"supported_models\":[\"SGD\",\"RandomForest\",\"AveragedPerceptronClassifier\",\"MultinomialNaiveBayes\",\"ExtremeRandomTrees\",\"TabnetClassifier\",\"LightGBM\",\"LinearSVM\",\"BernoulliNaiveBayes\",\"LogisticRegression\",\"SVM\",\"KNN\",\"DecisionTree\",\"TensorFlowLinearClassifier\",\"GradientBoosting\",\"XGBoostClassifier\",\"TensorFlowDNN\"],\"private_models\":[],\"auto_blacklist\":true,\"blacklist_samples_reached\":false,\"exclude_nan_labels\":true,\"verbosity\":20,\"_debug_log\":\"azureml_automl.log\",\"show_warnings\":false,\"model_explainability\":true,\"service_url\":null,\"sdk_url\":null,\"sdk_packages\":null,\"enable_onnx_compatible_models\":false,\"enable_split_onnx_featurizer_estimator_models\":false,\"vm_type\":\"STANDARD_DS11_V2\",\"telemetry_verbosity\":20,\"send_telemetry\":true,\"enable_dnn\":false,\"scenario\":\"AutoML\",\"environment_label\":null,\"save_mlflow\":false,\"enable_categorical_indicators\":false,\"force_text_dnn\":false,\"enable_feature_sweeping\":true,\"enable_early_stopping\":true,\"early_stopping_n_iters\":10,\"arguments\":null,\"dataset_id\":\"14012f11-096f-42c9-b1e3-e34dd5feba7d\",\"hyperdrive_config\":null,\"validation_dataset_id\":\"d98edf3d-837d-45fa-b025-ef4872e11ec6\",\"run_source\":null,\"metrics\":null,\"enable_metric_confidence\":false,\"enable_ensembling\":true,\"enable_stack_ensembling\":true,\"ensemble_iterations\":4,\"enable_tf\":false,\"enable_subsampling\":false,\"subsample_seed\":null,\"enable_nimbusml\":false,\"enable_streaming\":false,\"force_streaming\":false,\"track_child_runs\":true,\"n_best_runs\":1,\"allowed_private_models\":[],\"label_column_name\":\"Diabetic\",\"weight_column_name\":null,\"cv_split_column_names\":null,\"enable_local_managed\":false,\"_local_managed_run_id\":null,\"cost_mode\":1,\"lag_length\":0,\"metric_operation\":\"maximize\",\"preprocess\":true}',\n  'DataPrepJsonString': '{\\\\\"training_data\\\\\": {\\\\\"datasetId\\\\\": \\\\\"14012f11-096f-42c9-b1e3-e34dd5feba7d\\\\\"}, \\\\\"validation_data\\\\\": {\\\\\"datasetId\\\\\": \\\\\"d98edf3d-837d-45fa-b025-ef4872e11ec6\\\\\"}, \\\\\"datasets\\\\\": 0}',\n  'EnableSubsampling': 'False',\n  'runTemplate': 'AutoML',\n  'azureml.runsource': 'automl',\n  'display_task_type': 'classification',\n  'dependencies_versions': '{\"azureml-dataprep-native\": \"38.0.0\", \"azureml-dataprep\": \"4.10.8\", \"azureml-dataprep-rslex\": \"2.17.12\", \"azureml-train-automl-runtime\": \"1.51.0.post2\", \"azureml-train-automl-client\": \"1.51.0.post1\", \"azureml-training-tabular\": \"1.51.0.post1\", \"azureml-automl-runtime\": \"1.51.0.post1\", \"azureml-automl-core\": \"1.51.0.post1\", \"azureml-mlflow\": \"1.51.0\", \"azureml-datadrift\": \"1.51.0\", \"azureml-pipeline\": \"1.51.0\", \"azureml-contrib-dataset\": \"1.51.0\", \"azureml-contrib-notebook\": \"1.51.0\", \"azureml-accel-models\": \"1.51.0\", \"azureml-automl-dnn-nlp\": \"1.51.0\", \"azureml-pipeline-core\": \"1.51.0\", \"azureml-responsibleai\": \"1.51.0\", \"azureml-contrib-automl-pipeline-steps\": \"1.51.0\", \"azureml-pipeline-steps\": \"1.51.0\", \"azureml-core\": \"1.51.0\", \"azureml-contrib-reinforcementlearning\": \"1.51.0\", \"azureml-contrib-server\": \"1.51.0\", \"azureml-opendatasets\": \"1.51.0\", \"azureml-contrib-services\": \"1.51.0\", \"azureml-telemetry\": \"1.51.0\", \"azureml-train-restclients-hyperdrive\": \"1.51.0\", \"azureml-interpret\": \"1.51.0\", \"azureml-train-core\": \"1.51.0\", \"azureml-tensorboard\": \"1.51.0\", \"azureml-train\": \"1.51.0\", \"azureml-contrib-pipeline-steps\": \"1.51.0\", \"azureml-explain-model\": \"1.51.0\", \"azureml-cli-common\": \"1.51.0\", \"azureml-widgets\": \"1.51.0\", \"azureml-train-automl\": \"1.51.0\", \"azureml-defaults\": \"1.51.0\", \"azureml-contrib-fairness\": \"1.51.0\", \"azureml-sdk\": \"1.51.0\", \"azureml-dataset-runtime\": \"1.51.0\", \"azureml-inference-server-http\": \"0.8.4\"}',\n  '_aml_system_scenario_identification': 'Remote.Parent',\n  'ClientType': 'SDK',\n  'PlatformVersion': 'DPV1',\n  'environment_cpu_name': 'AzureML-AutoML',\n  'environment_cpu_label': 'scikit-upgrade2',\n  'environment_gpu_name': 'AzureML-AutoML-GPU',\n  'environment_gpu_label': 'scikit-upgrade2',\n  'root_attribution': 'automl',\n  'attribution': 'AutoML',\n  'Orchestrator': 'AutoML',\n  'CancelUri': 'https://eastus2.api.azureml.ms/jasmine/v1.0/subscriptions/42233ac3-1d6b-40e9-920d-ae1ce13376ed/resourceGroups/rg-dp100-labs/providers/Microsoft.MachineLearningServices/workspaces/mlw-dp100-labs/experimentids/4759a6e4-7a36-4f45-a392-b314fe5a4dab/cancel/AutoML_a15f15fd-1ada-45ea-a3a9-371269d90f16',\n  'ClientSdkVersion': None,\n  'snapshotId': '00000000-0000-0000-0000-000000000000',\n  'SetupRunId': 'AutoML_a15f15fd-1ada-45ea-a3a9-371269d90f16_setup',\n  'SetupRunContainerId': 'dcid.AutoML_a15f15fd-1ada-45ea-a3a9-371269d90f16_setup',\n  'errors': 'Setup iteration failed: Unidentified error, check logs in portal / compute'},\n 'inputDatasets': [{'dataset': {'id': '14012f11-096f-42c9-b1e3-e34dd5feba7d'}, 'consumptionDetails': {'type': 'RunInput', 'inputName': 'training_data', 'mechanism': 'Direct'}}, {'dataset': {'id': 'd98edf3d-837d-45fa-b025-ef4872e11ec6'}, 'consumptionDetails': {'type': 'RunInput', 'inputName': 'validation_data', 'mechanism': 'Direct'}}],\n 'outputDatasets': [],\n 'logFiles': {},\n 'submittedBy': 'Gabriel Ichcanziho Pérez Landa'}"
          },
          "metadata": {}
        }
      ],
      "execution_count": 7,
      "metadata": {
        "scrolled": true,
        "vscode": {
          "languageId": "python"
        },
        "gather": {
          "logged": 1699651133918
        }
      }
    },
    {
      "cell_type": "markdown",
      "source": [
        "## View child run details\n",
        "\n",
        "When the experiment has completed, view the output in the widget, and click the run that produced the best result to see its details.\n",
        "\n",
        "Then click the link to view the experiment details in Azure Machine Learning studio and view the overall experiment details before viewing the details for the individual run that produced the best result. There's lots of information here about the performance of the model generated.\n",
        "\n",
        "You can also retrieve all of the child runs and view their metrics using the SDK:"
      ],
      "metadata": {}
    },
    {
      "cell_type": "code",
      "source": [
        "for run in automl_run.get_children():\n",
        "    print('Run ID', run.id)\n",
        "    for metric in run.get_metrics():\n",
        "        print('\\t', run.get_metrics(metric))"
      ],
      "outputs": [
        {
          "output_type": "stream",
          "name": "stdout",
          "text": "Run ID AutoML_a15f15fd-1ada-45ea-a3a9-371269d90f16_setup\n"
        }
      ],
      "execution_count": 8,
      "metadata": {
        "vscode": {
          "languageId": "python"
        },
        "gather": {
          "logged": 1699651201168
        }
      }
    },
    {
      "cell_type": "markdown",
      "source": [
        "## Get the best run\n",
        "\n",
        "You can retrieve the best-performing run, and view its details like this:"
      ],
      "metadata": {}
    },
    {
      "cell_type": "code",
      "source": [
        "best_run, fitted_model = automl_run.get_output()\n",
        "print(best_run)\n",
        "print('\\nBest Model Definition:')\n",
        "print(fitted_model)\n",
        "print('\\nBest Run Transformations:')\n",
        "for step in fitted_model.named_steps:\n",
        "    print(step)\n",
        "print('\\nBest Run Metrics:')\n",
        "best_run_metrics = best_run.get_metrics()\n",
        "for metric_name in best_run_metrics:\n",
        "    metric = best_run_metrics[metric_name]\n",
        "    print(metric_name, metric)"
      ],
      "outputs": [
        {
          "output_type": "error",
          "ename": "AutoMLException",
          "evalue": "AutoMLException:\n\tMessage: Could not find a model with valid score for metric 'AUC_weighted'. Please ensure that at least one run was successfully completed with a valid score for the given metric.\n\tInnerException: None\n\tErrorResponse \n{\n    \"error\": {\n        \"code\": \"UserError\",\n        \"message\": \"Could not find a model with valid score for metric 'AUC_weighted'. Please ensure that at least one run was successfully completed with a valid score for the given metric.\",\n        \"target\": \"metric\",\n        \"inner_error\": {\n            \"code\": \"NotFound\",\n            \"inner_error\": {\n                \"code\": \"ModelMissing\"\n            }\n        }\n    }\n}",
          "traceback": [
            "\u001b[0;31m---------------------------------------------------------------------------\u001b[0m",
            "\u001b[0;31mAutoMLException\u001b[0m                           Traceback (most recent call last)",
            "Cell \u001b[0;32mIn[9], line 1\u001b[0m\n\u001b[0;32m----> 1\u001b[0m best_run, fitted_model \u001b[38;5;241m=\u001b[39m \u001b[43mautoml_run\u001b[49m\u001b[38;5;241;43m.\u001b[39;49m\u001b[43mget_output\u001b[49m\u001b[43m(\u001b[49m\u001b[43m)\u001b[49m\n\u001b[1;32m      2\u001b[0m \u001b[38;5;28mprint\u001b[39m(best_run)\n\u001b[1;32m      3\u001b[0m \u001b[38;5;28mprint\u001b[39m(\u001b[38;5;124m'\u001b[39m\u001b[38;5;130;01m\\n\u001b[39;00m\u001b[38;5;124mBest Model Definition:\u001b[39m\u001b[38;5;124m'\u001b[39m)\n",
            "File \u001b[0;32m/anaconda/envs/azureml_py38/lib/python3.8/site-packages/azureml/train/automl/run.py:707\u001b[0m, in \u001b[0;36mAutoMLRun.get_output\u001b[0;34m(self, iteration, metric, return_onnx_model, return_split_onnx_model, **kwargs)\u001b[0m\n\u001b[1;32m    702\u001b[0m \u001b[38;5;28mself\u001b[39m\u001b[38;5;241m.\u001b[39m_set_custom_dimensions(automl_settings)\n\u001b[1;32m    703\u001b[0m \u001b[38;5;28;01mwith\u001b[39;00m logging_utilities\u001b[38;5;241m.\u001b[39mlog_activity(\n\u001b[1;32m    704\u001b[0m     logger,\n\u001b[1;32m    705\u001b[0m     activity_name\u001b[38;5;241m=\u001b[39mautoml_shared_constants\u001b[38;5;241m.\u001b[39mTelemetryConstants\u001b[38;5;241m.\u001b[39mGET_OUTPUT\n\u001b[1;32m    706\u001b[0m ):\n\u001b[0;32m--> 707\u001b[0m     curr_run, model_name \u001b[38;5;241m=\u001b[39m \u001b[38;5;28;43mself\u001b[39;49m\u001b[38;5;241;43m.\u001b[39;49m\u001b[43m_get_best_child_run\u001b[49m\u001b[43m(\u001b[49m\n\u001b[1;32m    708\u001b[0m \u001b[43m        \u001b[49m\u001b[43miteration\u001b[49m\u001b[38;5;241;43m=\u001b[39;49m\u001b[43miteration\u001b[49m\u001b[43m,\u001b[49m\n\u001b[1;32m    709\u001b[0m \u001b[43m        \u001b[49m\u001b[43mmetric\u001b[49m\u001b[38;5;241;43m=\u001b[39;49m\u001b[43mmetric\u001b[49m\u001b[43m,\u001b[49m\n\u001b[1;32m    710\u001b[0m \u001b[43m        \u001b[49m\u001b[43monnx_compatible\u001b[49m\u001b[38;5;241;43m=\u001b[39;49m\u001b[43mreturn_onnx_model\u001b[49m\u001b[43m,\u001b[49m\n\u001b[1;32m    711\u001b[0m \u001b[43m        \u001b[49m\u001b[43msplit_onnx_model_name\u001b[49m\u001b[38;5;241;43m=\u001b[39;49m\u001b[43mreturn_split_onnx_model\u001b[49m\u001b[43m,\u001b[49m\n\u001b[1;32m    712\u001b[0m \u001b[43m        \u001b[49m\u001b[43mactivity_name\u001b[49m\u001b[38;5;241;43m=\u001b[39;49m\u001b[43mautoml_shared_constants\u001b[49m\u001b[38;5;241;43m.\u001b[39;49m\u001b[43mTelemetryConstants\u001b[49m\u001b[38;5;241;43m.\u001b[39;49m\u001b[43mGET_OUTPUT\u001b[49m\n\u001b[1;32m    713\u001b[0m \u001b[43m    \u001b[49m\u001b[43m)\u001b[49m\n\u001b[1;32m    715\u001b[0m     \u001b[38;5;28;01mif\u001b[39;00m return_onnx_model:\n\u001b[1;32m    716\u001b[0m         fitted_model \u001b[38;5;241m=\u001b[39m _download_automl_onnx_model(curr_run, model_name)\n",
            "File \u001b[0;32m/anaconda/envs/azureml_py38/lib/python3.8/site-packages/azureml/train/automl/run.py:639\u001b[0m, in \u001b[0;36mAutoMLRun._get_best_child_run\u001b[0;34m(self, iteration, metric, onnx_compatible, split_onnx_model_name, activity_name)\u001b[0m\n\u001b[1;32m    633\u001b[0m     curr_run, model_name \u001b[38;5;241m=\u001b[39m \u001b[38;5;28mself\u001b[39m\u001b[38;5;241m.\u001b[39m_get_onnx_run(\n\u001b[1;32m    634\u001b[0m         children\u001b[38;5;241m=\u001b[39mchild_runs_and_scores,\n\u001b[1;32m    635\u001b[0m         iteration\u001b[38;5;241m=\u001b[39miteration,\n\u001b[1;32m    636\u001b[0m         return_split_onnx_model\u001b[38;5;241m=\u001b[39msplit_onnx_model_name\n\u001b[1;32m    637\u001b[0m     )\n\u001b[1;32m    638\u001b[0m \u001b[38;5;28;01melse\u001b[39;00m:\n\u001b[0;32m--> 639\u001b[0m     curr_run \u001b[38;5;241m=\u001b[39m \u001b[38;5;28;43mself\u001b[39;49m\u001b[38;5;241;43m.\u001b[39;49m\u001b[43m_get_run_internal\u001b[49m\u001b[43m(\u001b[49m\u001b[43miteration\u001b[49m\u001b[43m,\u001b[49m\u001b[43m \u001b[49m\u001b[43mmetric\u001b[49m\u001b[43m,\u001b[49m\u001b[43m \u001b[49m\u001b[38;5;124;43m\"\u001b[39;49m\u001b[38;5;124;43mget_output\u001b[39;49m\u001b[38;5;124;43m\"\u001b[39;49m\u001b[43m)\u001b[49m\n\u001b[1;32m    640\u001b[0m     \u001b[38;5;28;01mif\u001b[39;00m curr_run \u001b[38;5;129;01mis\u001b[39;00m \u001b[38;5;28;01mNone\u001b[39;00m:\n\u001b[1;32m    641\u001b[0m         \u001b[38;5;28;01mraise\u001b[39;00m NotFoundException\u001b[38;5;241m.\u001b[39m_with_error(\n\u001b[1;32m    642\u001b[0m             AzureMLError\u001b[38;5;241m.\u001b[39mcreate(\n\u001b[1;32m    643\u001b[0m                 NoMetricsData, target\u001b[38;5;241m=\u001b[39m\u001b[38;5;124m\"\u001b[39m\u001b[38;5;124mmetric\u001b[39m\u001b[38;5;124m\"\u001b[39m, metric\u001b[38;5;241m=\u001b[39mmetric)\n\u001b[1;32m    644\u001b[0m         )\n",
            "File \u001b[0;32m/anaconda/envs/azureml_py38/lib/python3.8/site-packages/azureml/train/automl/run.py:803\u001b[0m, in \u001b[0;36mAutoMLRun._get_run_internal\u001b[0;34m(self, iteration, metric, operation_name)\u001b[0m\n\u001b[1;32m    800\u001b[0m             curr_run \u001b[38;5;241m=\u001b[39m \u001b[38;5;28mself\u001b[39m\u001b[38;5;241m.\u001b[39m_get_automl_child_iteration(\u001b[38;5;28;01mNone\u001b[39;00m,\n\u001b[1;32m    801\u001b[0m                                                         child_run_id\u001b[38;5;241m=\u001b[39mbest_run_tag)\n\u001b[1;32m    802\u001b[0m         \u001b[38;5;28;01melse\u001b[39;00m:\n\u001b[0;32m--> 803\u001b[0m             child_runs_and_scores \u001b[38;5;241m=\u001b[39m \u001b[38;5;28;43mself\u001b[39;49m\u001b[38;5;241;43m.\u001b[39;49m\u001b[43m_get_all_automl_child_runs\u001b[49m\u001b[43m(\u001b[49m\u001b[43mautoml_settings\u001b[49m\u001b[38;5;241;43m.\u001b[39;49m\u001b[43mprimary_metric\u001b[49m\u001b[43m)\u001b[49m\n\u001b[1;32m    804\u001b[0m             curr_run \u001b[38;5;241m=\u001b[39m child_runs_and_scores[\u001b[38;5;241m0\u001b[39m][\u001b[38;5;241m0\u001b[39m]\n\u001b[1;32m    806\u001b[0m \u001b[38;5;28;01mreturn\u001b[39;00m curr_run\n",
            "File \u001b[0;32m/anaconda/envs/azureml_py38/lib/python3.8/site-packages/azureml/train/automl/run.py:855\u001b[0m, in \u001b[0;36mAutoMLRun._get_all_automl_child_runs\u001b[0;34m(self, metric)\u001b[0m\n\u001b[1;32m    851\u001b[0m     child_runs_scores\u001b[38;5;241m.\u001b[39msort(key\u001b[38;5;241m=\u001b[39m\u001b[38;5;28;01mlambda\u001b[39;00m obj: obj[\u001b[38;5;241m1\u001b[39m],  \u001b[38;5;66;03m# type: ignore\u001b[39;00m\n\u001b[1;32m    852\u001b[0m                            reverse\u001b[38;5;241m=\u001b[39mis_desc)\n\u001b[1;32m    854\u001b[0m     \u001b[38;5;28;01mif\u001b[39;00m \u001b[38;5;28mlen\u001b[39m(child_runs_scores) \u001b[38;5;241m==\u001b[39m \u001b[38;5;241m0\u001b[39m:\n\u001b[0;32m--> 855\u001b[0m         \u001b[38;5;28;01mraise\u001b[39;00m AutoMLException\u001b[38;5;241m.\u001b[39m_with_error(AzureMLError\u001b[38;5;241m.\u001b[39mcreate(ModelMissing, target\u001b[38;5;241m=\u001b[39m\u001b[38;5;124m\"\u001b[39m\u001b[38;5;124mmetric\u001b[39m\u001b[38;5;124m\"\u001b[39m, metric\u001b[38;5;241m=\u001b[39mmetric))\n\u001b[1;32m    857\u001b[0m \u001b[38;5;28;01mreturn\u001b[39;00m child_runs_scores\n",
            "\u001b[0;31mAutoMLException\u001b[0m: AutoMLException:\n\tMessage: Could not find a model with valid score for metric 'AUC_weighted'. Please ensure that at least one run was successfully completed with a valid score for the given metric.\n\tInnerException: None\n\tErrorResponse \n{\n    \"error\": {\n        \"code\": \"UserError\",\n        \"message\": \"Could not find a model with valid score for metric 'AUC_weighted'. Please ensure that at least one run was successfully completed with a valid score for the given metric.\",\n        \"target\": \"metric\",\n        \"inner_error\": {\n            \"code\": \"NotFound\",\n            \"inner_error\": {\n                \"code\": \"ModelMissing\"\n            }\n        }\n    }\n}"
          ]
        }
      ],
      "execution_count": 9,
      "metadata": {
        "vscode": {
          "languageId": "python"
        },
        "gather": {
          "logged": 1699651207414
        }
      }
    },
    {
      "cell_type": "markdown",
      "source": [
        "Finally, having found the best performing model, you can register it."
      ],
      "metadata": {}
    },
    {
      "cell_type": "code",
      "source": [
        "from azureml.core import Model\n",
        "\n",
        "# Register model\n",
        "best_run.register_model(model_path='outputs/model.pkl', model_name='diabetes_model',\n",
        "                        tags={'Training context':'Auto ML'},\n",
        "                        properties={'AUC': best_run_metrics['AUC_weighted'], 'Accuracy': best_run_metrics['accuracy']})\n",
        "\n",
        "# List registered models\n",
        "for model in Model.list(ws):\n",
        "    print(model.name, 'version:', model.version)\n",
        "    for tag_name in model.tags:\n",
        "        tag = model.tags[tag_name]\n",
        "        print ('\\t',tag_name, ':', tag)\n",
        "    for prop_name in model.properties:\n",
        "        prop = model.properties[prop_name]\n",
        "        print ('\\t',prop_name, ':', prop)\n",
        "    print('\\n')"
      ],
      "outputs": [
        {
          "output_type": "error",
          "ename": "NameError",
          "evalue": "name 'best_run' is not defined",
          "traceback": [
            "\u001b[0;31m---------------------------------------------------------------------------\u001b[0m",
            "\u001b[0;31mNameError\u001b[0m                                 Traceback (most recent call last)",
            "Cell \u001b[0;32mIn[10], line 4\u001b[0m\n\u001b[1;32m      1\u001b[0m \u001b[38;5;28;01mfrom\u001b[39;00m \u001b[38;5;21;01mazureml\u001b[39;00m\u001b[38;5;21;01m.\u001b[39;00m\u001b[38;5;21;01mcore\u001b[39;00m \u001b[38;5;28;01mimport\u001b[39;00m Model\n\u001b[1;32m      3\u001b[0m \u001b[38;5;66;03m# Register model\u001b[39;00m\n\u001b[0;32m----> 4\u001b[0m \u001b[43mbest_run\u001b[49m\u001b[38;5;241m.\u001b[39mregister_model(model_path\u001b[38;5;241m=\u001b[39m\u001b[38;5;124m'\u001b[39m\u001b[38;5;124moutputs/model.pkl\u001b[39m\u001b[38;5;124m'\u001b[39m, model_name\u001b[38;5;241m=\u001b[39m\u001b[38;5;124m'\u001b[39m\u001b[38;5;124mdiabetes_model\u001b[39m\u001b[38;5;124m'\u001b[39m,\n\u001b[1;32m      5\u001b[0m                         tags\u001b[38;5;241m=\u001b[39m{\u001b[38;5;124m'\u001b[39m\u001b[38;5;124mTraining context\u001b[39m\u001b[38;5;124m'\u001b[39m:\u001b[38;5;124m'\u001b[39m\u001b[38;5;124mAuto ML\u001b[39m\u001b[38;5;124m'\u001b[39m},\n\u001b[1;32m      6\u001b[0m                         properties\u001b[38;5;241m=\u001b[39m{\u001b[38;5;124m'\u001b[39m\u001b[38;5;124mAUC\u001b[39m\u001b[38;5;124m'\u001b[39m: best_run_metrics[\u001b[38;5;124m'\u001b[39m\u001b[38;5;124mAUC_weighted\u001b[39m\u001b[38;5;124m'\u001b[39m], \u001b[38;5;124m'\u001b[39m\u001b[38;5;124mAccuracy\u001b[39m\u001b[38;5;124m'\u001b[39m: best_run_metrics[\u001b[38;5;124m'\u001b[39m\u001b[38;5;124maccuracy\u001b[39m\u001b[38;5;124m'\u001b[39m]})\n\u001b[1;32m      8\u001b[0m \u001b[38;5;66;03m# List registered models\u001b[39;00m\n\u001b[1;32m      9\u001b[0m \u001b[38;5;28;01mfor\u001b[39;00m model \u001b[38;5;129;01min\u001b[39;00m Model\u001b[38;5;241m.\u001b[39mlist(ws):\n",
            "\u001b[0;31mNameError\u001b[0m: name 'best_run' is not defined"
          ]
        }
      ],
      "execution_count": 10,
      "metadata": {
        "vscode": {
          "languageId": "python"
        },
        "gather": {
          "logged": 1699651345279
        }
      }
    },
    {
      "cell_type": "markdown",
      "source": [
        "> **More Information**: For more information Automated Machine Learning, see the [Azure ML documentation](https://docs.microsoft.com/azure/machine-learning/how-to-configure-auto-train)."
      ],
      "metadata": {}
    }
  ],
  "metadata": {
    "kernel_info": {
      "name": "python38-azureml"
    },
    "kernelspec": {
      "name": "python38-azureml",
      "language": "python",
      "display_name": "Python 3.8 - AzureML"
    },
    "nteract": {
      "version": "nteract-front-end@1.0.0"
    },
    "microsoft": {
      "ms_spell_check": {
        "ms_spell_check_language": "en"
      }
    },
    "language_info": {
      "name": "python",
      "version": "3.8.5",
      "mimetype": "text/x-python",
      "codemirror_mode": {
        "name": "ipython",
        "version": 3
      },
      "pygments_lexer": "ipython3",
      "nbconvert_exporter": "python",
      "file_extension": ".py"
    }
  },
  "nbformat": 4,
  "nbformat_minor": 0
}