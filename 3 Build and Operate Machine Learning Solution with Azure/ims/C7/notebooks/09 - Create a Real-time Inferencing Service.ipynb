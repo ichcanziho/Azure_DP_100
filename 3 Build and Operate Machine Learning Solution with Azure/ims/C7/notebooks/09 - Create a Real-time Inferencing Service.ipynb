{
  "cells": [
    {
      "cell_type": "markdown",
      "source": [
        "# Create a real-time inferencing service\n",
        "\n",
        "After training a predictive model, you can deploy it as a real-time service that clients can use to get predictions from new data."
      ],
      "metadata": {}
    },
    {
      "cell_type": "markdown",
      "source": [
        "## Connect to your workspace\n",
        "\n",
        "To get started, connect to your workspace.\n",
        "\n",
        "> **Note**: If you haven't already established an authenticated session with your Azure subscription, you'll be prompted to authenticate by clicking a link, entering an authentication code, and signing into Azure."
      ],
      "metadata": {}
    },
    {
      "cell_type": "code",
      "source": [
        "import azureml.core\n",
        "from azureml.core import Workspace\n",
        "\n",
        "# Load the workspace from the saved config file\n",
        "ws = Workspace.from_config()\n",
        "print('Ready to use Azure ML {} to work with {}'.format(azureml.core.VERSION, ws.name))"
      ],
      "outputs": [
        {
          "output_type": "stream",
          "name": "stdout",
          "text": "Ready to use Azure ML 1.51.0 to work with mlw-dp100-labs\n"
        }
      ],
      "execution_count": 1,
      "metadata": {
        "gather": {
          "logged": 1698346614946
        },
        "vscode": {
          "languageId": "python"
        }
      }
    },
    {
      "cell_type": "markdown",
      "source": [
        "## Train and register a model\n",
        "\n",
        "Now let's train and register a model."
      ],
      "metadata": {}
    },
    {
      "cell_type": "code",
      "source": [
        "from azureml.core import Experiment\n",
        "from azureml.core import Model\n",
        "import pandas as pd\n",
        "import numpy as np\n",
        "import joblib\n",
        "from sklearn.model_selection import train_test_split\n",
        "from sklearn.tree import DecisionTreeClassifier\n",
        "from sklearn.metrics import roc_auc_score\n",
        "from sklearn.metrics import roc_curve\n",
        "\n",
        "# Create an Azure ML experiment in your workspace\n",
        "experiment = Experiment(workspace=ws, name=\"mslearn-train-diabetes\")\n",
        "run = experiment.start_logging()\n",
        "print(\"Starting experiment:\", experiment.name)\n",
        "\n",
        "# load the diabetes dataset\n",
        "print(\"Loading Data...\")\n",
        "diabetes = pd.read_csv('data/diabetes.csv')\n",
        "\n",
        "# Separate features and labels\n",
        "X, y = diabetes[['Pregnancies','PlasmaGlucose','DiastolicBloodPressure','TricepsThickness','SerumInsulin','BMI','DiabetesPedigree','Age']].values, diabetes['Diabetic'].values\n",
        "\n",
        "# Split data into training set and test set\n",
        "X_train, X_test, y_train, y_test = train_test_split(X, y, test_size=0.30, random_state=0)\n",
        "\n",
        "# Train a decision tree model\n",
        "print('Training a decision tree model')\n",
        "model = DecisionTreeClassifier().fit(X_train, y_train)\n",
        "\n",
        "# calculate accuracy\n",
        "y_hat = model.predict(X_test)\n",
        "acc = np.average(y_hat == y_test)\n",
        "print('Accuracy:', acc)\n",
        "run.log('Accuracy', np.float(acc))\n",
        "\n",
        "# calculate AUC\n",
        "y_scores = model.predict_proba(X_test)\n",
        "auc = roc_auc_score(y_test,y_scores[:,1])\n",
        "print('AUC: ' + str(auc))\n",
        "run.log('AUC', np.float(auc))\n",
        "\n",
        "# Save the trained model\n",
        "model_file = 'diabetes_model.pkl'\n",
        "joblib.dump(value=model, filename=model_file)\n",
        "run.upload_file(name = 'outputs/' + model_file, path_or_stream = './' + model_file)\n",
        "\n",
        "# Complete the run\n",
        "run.complete()\n",
        "\n",
        "# Register the model\n",
        "run.register_model(model_path='outputs/diabetes_model.pkl', model_name='diabetes_model',\n",
        "                   tags={'Training context':'Inline Training'},\n",
        "                   properties={'AUC': run.get_metrics()['AUC'], 'Accuracy': run.get_metrics()['Accuracy']})\n",
        "\n",
        "print('Model trained and registered.')"
      ],
      "outputs": [],
      "execution_count": null,
      "metadata": {
        "gather": {
          "logged": 1649367606601
        },
        "vscode": {
          "languageId": "python"
        }
      }
    },
    {
      "cell_type": "markdown",
      "source": [
        "## Deploy the model as a web service\n",
        "\n",
        "You have trained and registered a machine learning model that classifies patients based on the likelihood of them having diabetes. This model could be used in a production environment such as a doctor's surgery where only patients deemed to be at risk need to be subjected to a clinical test for diabetes. To support this scenario, you will deploy the model as a web service.\n",
        "\n",
        "First, let's determine what models you have registered in the workspace."
      ],
      "metadata": {}
    },
    {
      "cell_type": "code",
      "source": [
        "from azureml.core import Model\n",
        "\n",
        "for model in Model.list(ws):\n",
        "    print(model.name, 'version:', model.version)\n",
        "    for tag_name in model.tags:\n",
        "        tag = model.tags[tag_name]\n",
        "        print ('\\t',tag_name, ':', tag)\n",
        "    for prop_name in model.properties:\n",
        "        prop = model.properties[prop_name]\n",
        "        print ('\\t',prop_name, ':', prop)\n",
        "    print('\\n')"
      ],
      "outputs": [
        {
          "output_type": "stream",
          "name": "stdout",
          "text": "diabetes_model version: 8\n\t Training context : Pipeline\n\t AUC : 0.8870734055269813\n\t Accuracy : 0.9015555555555556\n\n\ndiabetes_model version: 7\n\t Training context : Pipeline\n\t AUC : 0.8847337774431273\n\t Accuracy : 0.8986666666666666\n\n\ndiabetes_model version: 6\n\t Training context : Pipeline\n\t AUC : 0.8863989679711839\n\t Accuracy : 0.9004444444444445\n\n\ndiabetes_model version: 5\n\t Training context : Compute cluster\n\t AUC : 0.8850918995824636\n\t Accuracy : 0.9002222222222223\n\n\ndiabetes_model version: 4\n\t Training context : File dataset\n\t AUC : 0.8468514889078735\n\t Accuracy : 0.7788888888888889\n\n\ndiabetes_model version: 3\n\t Training context : Tabular dataset\n\t AUC : 0.8568650620553335\n\t Accuracy : 0.7893333333333333\n\n\ndiabetes_model version: 2\n\t Training context : Parameterized script\n\t AUC : 0.8484377332205582\n\t Accuracy : 0.774\n\t Regularization Rate : 0.1\n\n\ndiabetes_model version: 1\n\t Training context : Script\n\t AUC : 0.8483441962286681\n\t Accuracy : 0.774\n\n\n"
        }
      ],
      "execution_count": 2,
      "metadata": {
        "vscode": {
          "languageId": "python"
        },
        "gather": {
          "logged": 1698346636200
        }
      }
    },
    {
      "cell_type": "markdown",
      "source": [
        "Right, now let's get the model that we want to deploy. By default, if we specify a model name, the latest version will be returned."
      ],
      "metadata": {}
    },
    {
      "cell_type": "code",
      "source": [
        "model = ws.models['diabetes_model']\n",
        "print(model.name, 'version', model.version)"
      ],
      "outputs": [
        {
          "output_type": "stream",
          "name": "stdout",
          "text": "diabetes_model version 8\n"
        }
      ],
      "execution_count": 3,
      "metadata": {
        "vscode": {
          "languageId": "python"
        },
        "gather": {
          "logged": 1698346646669
        }
      }
    },
    {
      "cell_type": "markdown",
      "source": [
        "We're going to create a web service to host this model, and this will require some code and configuration files; so let's create a folder for those."
      ],
      "metadata": {}
    },
    {
      "cell_type": "code",
      "source": [
        "import os\n",
        "\n",
        "# Create a folder for the deployment files\n",
        "deployment_folder = './diabetes_service'\n",
        "os.makedirs(deployment_folder, exist_ok=True)\n",
        "print(deployment_folder, 'folder created.')\n",
        "\n",
        "# Set path for scoring script\n",
        "script_file = 'score_diabetes.py'\n",
        "script_path = os.path.join(deployment_folder,script_file)"
      ],
      "outputs": [
        {
          "output_type": "stream",
          "name": "stdout",
          "text": "./diabetes_service folder created.\n"
        }
      ],
      "execution_count": 4,
      "metadata": {
        "vscode": {
          "languageId": "python"
        },
        "gather": {
          "logged": 1698346673622
        }
      }
    },
    {
      "cell_type": "markdown",
      "source": [
        "The web service where we deploy the model will need some Python code to load the input data, get the model from the workspace, and generate and return predictions. We'll save this code in an *entry script* (often called a *scoring script*) that will be deployed to the web service.\n",
        "\n",
        "The script consists of two functions:\n",
        "\n",
        "- **init**: This function is called when the service is initialized, and is generally used to load the model. Note that the scoring script uses the **AZUREML_MODEL_DIR** environment variable to determine the folder where the model is stored.\n",
        "- **run**: This function is called each time a client application submits new data, and is generally used to inference predictions from the model."
      ],
      "metadata": {}
    },
    {
      "cell_type": "code",
      "source": [
        "%%writefile $script_path\n",
        "import json\n",
        "import joblib\n",
        "import numpy as np\n",
        "import os\n",
        "\n",
        "# Called when the service is loaded\n",
        "def init():\n",
        "    global model\n",
        "    # Get the path to the deployed model file and load it\n",
        "    model_path = os.path.join(os.getenv('AZUREML_MODEL_DIR'), 'diabetes_model.pkl')\n",
        "    model = joblib.load(model_path)\n",
        "\n",
        "# Called when a request is received\n",
        "def run(raw_data):\n",
        "    # Get the input data as a numpy array\n",
        "    data = np.array(json.loads(raw_data)['data'])\n",
        "    # Get a prediction from the model\n",
        "    predictions = model.predict(data)\n",
        "    # Get the corresponding classname for each prediction (0 or 1)\n",
        "    classnames = ['not-diabetic', 'diabetic']\n",
        "    predicted_classes = []\n",
        "    for prediction in predictions:\n",
        "        predicted_classes.append(classnames[prediction])\n",
        "    # Return the predictions as JSON\n",
        "    return json.dumps(predicted_classes)"
      ],
      "outputs": [
        {
          "output_type": "stream",
          "name": "stdout",
          "text": "Writing ./diabetes_service/score_diabetes.py\n"
        }
      ],
      "execution_count": 5,
      "metadata": {
        "vscode": {
          "languageId": "python"
        }
      }
    },
    {
      "cell_type": "markdown",
      "source": [
        "The web service will be hosted in a container, and the container will need to install any required Python dependencies when it gets initialized. In this case, our scoring code requires **scikit-learn** and some Azure Machine Learning specific packages that are used by the scoring web service, so we'll create an environment that included these. Then we'll add that environment to an *inference configuration* along with the scoring script, and define a *deployment configuration* for the container in which the environment and script will be hosted.\n",
        "\n",
        "We can then deploy the model as a service based on these configurations.\n",
        "\n",
        "> **More Information**: For more details about model deployment, and options for target execution environments, see the [documentation](https://docs.microsoft.com/azure/machine-learning/how-to-deploy-and-where).\n",
        "\n",
        "Deployment will take some time as it first runs a process to create a container image, and then runs a process to create a web service based on the image. When deployment has completed successfully, you'll see a status of **Healthy**."
      ],
      "metadata": {}
    },
    {
      "cell_type": "code",
      "source": [
        "from azureml.core import Environment\n",
        "from azureml.core.model import InferenceConfig\n",
        "from azureml.core.webservice import AciWebservice\n",
        "\n",
        "# Configure the scoring environment\n",
        "service_env = Environment.get(workspace=ws, name=\"AzureML-sklearn-0.24.1-ubuntu18.04-py37-cpu-inference\")\n",
        "service_env.inferencing_stack_version=\"latest\"\n",
        "\n",
        "inference_config = InferenceConfig(source_directory=deployment_folder,\n",
        "                                   entry_script=script_file,\n",
        "                                   environment=service_env)\n",
        "\n",
        "# Configure the web service container\n",
        "deployment_config = AciWebservice.deploy_configuration(cpu_cores=1, memory_gb=1)\n",
        "\n",
        "# Deploy the model as a service\n",
        "print('Deploying model...')\n",
        "service_name = \"diabetes-service\"\n",
        "service = Model.deploy(ws, service_name, [model], inference_config, deployment_config, overwrite=True)\n",
        "service.wait_for_deployment(True)\n",
        "print(service.state)"
      ],
      "outputs": [
        {
          "output_type": "stream",
          "name": "stdout",
          "text": "Deploying model...\nTips: You can try get_logs(): https://aka.ms/debugimage#dockerlog or local deployment: https://aka.ms/debugimage#debug-locally to debug if deployment takes longer than 10 minutes.\nRunning\n2023-10-26 18:59:26+00:00 Creating Container Registry if not exists.\n2023-10-26 18:59:27+00:00 Use the existing image.\n2023-10-26 18:59:28+00:00 Submitting deployment to compute..\n2023-10-26 18:59:43+00:00 Checking the status of deployment diabetes-service..\n2023-10-26 19:00:55+00:00 Checking the status of inference endpoint diabetes-service.\nSucceeded\nACI service creation operation finished, operation \"Succeeded\"\nHealthy\n"
        },
        {
          "output_type": "stream",
          "name": "stderr",
          "text": "/tmp/ipykernel_6503/3165764138.py:19: FutureWarning: azureml.core.model:\nTo leverage new model deployment capabilities, AzureML recommends using CLI/SDK v2 to deploy models as online endpoint, \nplease refer to respective documentations \nhttps://docs.microsoft.com/azure/machine-learning/how-to-deploy-managed-online-endpoints /\nhttps://docs.microsoft.com/azure/machine-learning/how-to-attach-kubernetes-anywhere \nFor more information on migration, see https://aka.ms/acimoemigration \nTo disable CLI/SDK v1 deprecation warning set AZUREML_LOG_DEPRECATION_WARNING_ENABLED to 'False'\n  service = Model.deploy(ws, service_name, [model], inference_config, deployment_config, overwrite=True)\n"
        }
      ],
      "execution_count": 6,
      "metadata": {
        "vscode": {
          "languageId": "python"
        },
        "gather": {
          "logged": 1698346898810
        }
      }
    },
    {
      "cell_type": "markdown",
      "source": [
        "Hopefully, the deployment has been successful and you can see a status of **Healthy**. If not, you can use the following code to get the service logs to help you troubleshoot."
      ],
      "metadata": {}
    },
    {
      "cell_type": "code",
      "source": [
        "print(service.get_logs())\n",
        "\n",
        "# If you need to make a change and redeploy, you may need to delete unhealthy service using the following code:\n",
        "#service.delete()"
      ],
      "outputs": [
        {
          "output_type": "stream",
          "name": "stdout",
          "text": "2023-10-26T19:00:31,683266300+00:00 - gunicorn/run \n2023-10-26T19:00:31,685278000+00:00 | gunicorn/run | \n2023-10-26T19:00:31,687167700+00:00 | gunicorn/run | ###############################################\n2023-10-26T19:00:31,689395300+00:00 | gunicorn/run | AzureML Container Runtime Information\n2023-10-26T19:00:31,691188700+00:00 | gunicorn/run | ###############################################\n2023-10-26T19:00:31,696157500+00:00 | gunicorn/run | \n2023-10-26T19:00:31,696526400+00:00 - nginx/run \n2023-10-26T19:00:31,699868800+00:00 | gunicorn/run | \n2023-10-26T19:00:31,708980800+00:00 | gunicorn/run | AzureML image information: sklearn-0.24.1-ubuntu18.04-py37-cpu-inference:20221024.v1\n2023-10-26T19:00:31,711081400+00:00 | gunicorn/run | \n2023-10-26T19:00:31,712495800+00:00 | gunicorn/run | \n2023-10-26T19:00:31,714217600+00:00 | gunicorn/run | PATH environment variable: /opt/miniconda/envs/amlenv/bin:/opt/miniconda/bin:/usr/local/sbin:/usr/local/bin:/usr/sbin:/usr/bin:/sbin:/bin\n2023-10-26T19:00:31,719588100+00:00 | gunicorn/run | PYTHONPATH environment variable: \n2023-10-26T19:00:31,723867300+00:00 | gunicorn/run | \n2023-10-26T19:00:34,335610900+00:00 | gunicorn/run | CONDAPATH environment variable: /opt/miniconda\n\n# conda environments:\n#\nbase                  *  /opt/miniconda\namlenv                   /opt/miniconda/envs/amlenv\n\n2023-10-26T19:00:35,001539700+00:00 | gunicorn/run | \n2023-10-26T19:00:35,003084800+00:00 | gunicorn/run | Pip Dependencies (before dynamic installation)\n\nazure-core==1.26.0\nazure-identity==1.11.0\nazureml-inference-server-http==0.7.6\ncachetools==5.2.0\ncertifi==2022.9.24\ncffi==1.15.1\ncharset-normalizer==2.1.1\nclick==8.1.3\ncryptography==38.0.1\nFlask==2.1.3\nFlask-Cors==3.0.10\ngoogle-api-core==2.10.2\ngoogle-auth==2.13.0\ngoogleapis-common-protos==1.56.4\ngunicorn==20.1.0\nidna==3.4\nimportlib-metadata==5.0.0\ninference-schema==1.4.2.1\nitsdangerous==2.1.2\nJinja2==3.1.2\njoblib==1.2.0\nMarkupSafe==2.1.1\nmsal==1.20.0\nmsal-extensions==1.0.0\nnumpy==1.21.6\nopencensus==0.11.0\nopencensus-context==0.1.3\nopencensus-ext-azure==1.1.7\npandas==1.1.5\nportalocker==2.6.0\nprotobuf==4.21.8\npsutil==5.9.3\npyasn1==0.4.8\npyasn1-modules==0.2.8\npycparser==2.21\nPyJWT==2.6.0\npython-dateutil==2.8.2\npytz==2022.5\nrequests==2.28.1\nrsa==4.9\nscikit-learn==0.24.1\nscipy==1.7.3\nsix==1.16.0\nthreadpoolctl==3.1.0\ntyping-extensions==4.4.0\nurllib3==1.26.12\nWerkzeug==2.2.2\nwrapt==1.12.1\nzipp==3.10.0\n\n2023-10-26T19:00:37,255551752+00:00 | gunicorn/run | \n2023-10-26T19:00:37,257235596+00:00 | gunicorn/run | Entry script directory: /var/azureml-app\n2023-10-26T19:00:37,258673061+00:00 | gunicorn/run | \n2023-10-26T19:00:37,264901574+00:00 | gunicorn/run | ###############################################\n2023-10-26T19:00:37,268164929+00:00 | gunicorn/run | Dynamic Python Package Installation\n2023-10-26T19:00:37,273775843+00:00 | gunicorn/run | ###############################################\n2023-10-26T19:00:37,275899029+00:00 | gunicorn/run | \n2023-10-26T19:00:37,278469560+00:00 | gunicorn/run | Dynamic Python package installation is disabled.\n2023-10-26T19:00:37,282911596+00:00 | gunicorn/run | \n2023-10-26T19:00:37,284545424+00:00 | gunicorn/run | ###############################################\n2023-10-26T19:00:37,286906487+00:00 | gunicorn/run | Checking if the Python package azureml-inference-server-http is installed\n2023-10-26T19:00:37,292083060+00:00 | gunicorn/run | ###############################################\n2023-10-26T19:00:37,293603152+00:00 | gunicorn/run | \n2023-10-26T19:00:38,158457689+00:00 | gunicorn/run | \n2023-10-26T19:00:38,160453989+00:00 | gunicorn/run | ###############################################\n2023-10-26T19:00:38,167188488+00:00 | gunicorn/run | AzureML Inference Server\n2023-10-26T19:00:38,169271488+00:00 | gunicorn/run | ###############################################\n2023-10-26T19:00:38,170952388+00:00 | gunicorn/run | \n2023-10-26T19:00:38,176049087+00:00 | gunicorn/run | Starting AzureML Inference Server HTTP.\n\nAzure ML Inferencing HTTP server v0.7.6\n\n\nServer Settings\n---------------\nEntry Script Name: /var/azureml-app/main.py\nModel Directory: /var/azureml-app/azureml-models/diabetes_model/8\nWorker Count: 1\nWorker Timeout (seconds): 300\nServer Port: 31311\nApplication Insights Enabled: false\nApplication Insights Key: None\nInferencing HTTP server version: azmlinfsrv/0.7.6\nCORS for the specified origins: None\n\n\nServer Routes\n---------------\nLiveness Probe: GET   127.0.0.1:31311/\nScore:          POST  127.0.0.1:31311/score\n\nStarting gunicorn 20.1.0\nListening at: http://0.0.0.0:31311 (76)\nUsing worker: sync\nBooting worker with pid: 140\nInitializing logger\n2023-10-26 19:00:41,296 | root | INFO | Starting up app insights client\nlogging socket not found. logging not available.\nlogging socket not found. logging not available.\n2023-10-26 19:00:41,297 | root | INFO | Starting up app insight hooks\n2023-10-26 19:00:42,294 | root | INFO | Found driver script at /var/azureml-app/main.py and the score script at /var/azureml-app/diabetes_service/score_diabetes.py\n2023-10-26 19:00:42,294 | root | INFO | run() is not decorated. Server will invoke it with the input in JSON string.\n2023-10-26 19:00:42,294 | root | INFO | Invoking user's init function\n00000000-0000-0000-0000-000000000000,/opt/miniconda/envs/amlenv/lib/python3.7/site-packages/sklearn/base.py:315: UserWarning: Trying to unpickle estimator DecisionTreeClassifier from version 0.24.2 when using version 0.24.1. This might lead to breaking code or invalid results. Use at your own risk.\n  UserWarning)\n2023-10-26 19:00:44,669 | root | INFO | Users's init has completed successfully\n2023-10-26 19:00:44,674 | root | INFO | Swaggers are prepared for the following versions: [2, 3].\n2023-10-26 19:00:44,675 | root | INFO | Scoring timeout is found from os.environ: 60000 ms\n2023-10-26 19:00:44,675 | root | INFO | AML_FLASK_ONE_COMPATIBILITY is set. Patched Flask to ensure compatibility with Flask 1.\n2023-10-26 19:01:32,792 | root | INFO | 200\n127.0.0.1 - - [26/Oct/2023:19:01:32 +0000] \"GET /swagger.json HTTP/1.0\" 200 2265 \"-\" \"Go-http-client/1.1\"\n2023-10-26 19:01:38,743 | root | INFO | 200\n127.0.0.1 - - [26/Oct/2023:19:01:38 +0000] \"GET /swagger.json HTTP/1.0\" 200 2265 \"-\" \"Go-http-client/1.1\"\n\n"
        }
      ],
      "execution_count": 7,
      "metadata": {
        "scrolled": true,
        "vscode": {
          "languageId": "python"
        },
        "gather": {
          "logged": 1698346917926
        }
      }
    },
    {
      "cell_type": "markdown",
      "source": [
        "Take a look at your workspace in [Azure Machine Learning Studio](https://ml.azure.com) and view the **Endpoints** page, which shows the deployed services in your workspace.\n",
        "\n",
        "You can also retrieve the names of web services in your workspace by running the following code:"
      ],
      "metadata": {}
    },
    {
      "cell_type": "code",
      "source": [
        "for webservice_name in ws.webservices:\n",
        "    print(webservice_name)"
      ],
      "outputs": [
        {
          "output_type": "stream",
          "name": "stdout",
          "text": "diabetes-service\n"
        }
      ],
      "execution_count": 8,
      "metadata": {
        "vscode": {
          "languageId": "python"
        },
        "gather": {
          "logged": 1698346930720
        }
      }
    },
    {
      "cell_type": "markdown",
      "source": [
        "## Use the web service\n",
        "\n",
        "With the service deployed, now you can consume it from a client application."
      ],
      "metadata": {}
    },
    {
      "cell_type": "code",
      "source": [
        "import json\n",
        "\n",
        "x_new = [[2,180,74,24,21,23.9091702,1.488172308,22]]\n",
        "print ('Patient: {}'.format(x_new[0]))\n",
        "\n",
        "# Convert the array to a serializable list in a JSON document\n",
        "input_json = json.dumps({\"data\": x_new})\n",
        "\n",
        "# Call the web service, passing the input data (the web service will also accept the data in binary format)\n",
        "predictions = service.run(input_data = input_json)\n",
        "\n",
        "# Get the predicted class - it'll be the first (and only) one.\n",
        "predicted_classes = json.loads(predictions)\n",
        "print(predicted_classes[0])"
      ],
      "outputs": [
        {
          "output_type": "stream",
          "name": "stdout",
          "text": "Patient: [2, 180, 74, 24, 21, 23.9091702, 1.488172308, 22]\ndiabetic\n"
        }
      ],
      "execution_count": 9,
      "metadata": {
        "vscode": {
          "languageId": "python"
        },
        "gather": {
          "logged": 1698346986025
        }
      }
    },
    {
      "cell_type": "markdown",
      "source": [
        "You can also send multiple patient observations to the service, and get back a prediction for each one."
      ],
      "metadata": {}
    },
    {
      "cell_type": "code",
      "source": [
        "import json\n",
        "\n",
        "# This time our input is an array of two feature arrays\n",
        "x_new = [[2,180,74,24,21,23.9091702,1.488172308,22],\n",
        "         [0,148,58,11,179,39.19207553,0.160829008,45]]\n",
        "\n",
        "# Convert the array or arrays to a serializable list in a JSON document\n",
        "input_json = json.dumps({\"data\": x_new})\n",
        "\n",
        "# Call the web service, passing the input data\n",
        "predictions = service.run(input_data = input_json)\n",
        "\n",
        "# Get the predicted classes.\n",
        "predicted_classes = json.loads(predictions)\n",
        "   \n",
        "for i in range(len(x_new)):\n",
        "    print (\"Patient {}\".format(x_new[i]), predicted_classes[i] )"
      ],
      "outputs": [
        {
          "output_type": "stream",
          "name": "stdout",
          "text": "Patient [2, 180, 74, 24, 21, 23.9091702, 1.488172308, 22] diabetic\nPatient [0, 148, 58, 11, 179, 39.19207553, 0.160829008, 45] diabetic\n"
        }
      ],
      "execution_count": 10,
      "metadata": {
        "vscode": {
          "languageId": "python"
        },
        "gather": {
          "logged": 1698346993743
        }
      }
    },
    {
      "cell_type": "markdown",
      "source": [
        "The code above uses the Azure Machine Learning SDK to connect to the containerized web service and use it to generate predictions from your diabetes classification model. In production, a model is likely to be consumed by business applications that do not use the Azure Machine Learning SDK, but simply make HTTP requests to the web service.\n",
        "\n",
        "Let's determine the URL to which these applications must submit their requests:"
      ],
      "metadata": {}
    },
    {
      "cell_type": "code",
      "source": [
        "endpoint = service.scoring_uri\n",
        "print(endpoint)"
      ],
      "outputs": [
        {
          "output_type": "stream",
          "name": "stdout",
          "text": "http://d2575064-0c24-4cd8-97b1-9932795ec186.eastus2.azurecontainer.io/score\n"
        }
      ],
      "execution_count": 13,
      "metadata": {
        "vscode": {
          "languageId": "python"
        },
        "gather": {
          "logged": 1698347058384
        }
      }
    },
    {
      "cell_type": "markdown",
      "source": [
        "Now that you know the endpoint URI, an application can simply make an HTTP request, sending the patient data in JSON format, and receive back the predicted class(es)."
      ],
      "metadata": {}
    },
    {
      "cell_type": "code",
      "source": [
        "import requests\n",
        "import json\n",
        "\n",
        "x_new = [[2,180,74,24,21,23.9091702,1.488172308,22],\n",
        "         [0,148,58,11,179,39.19207553,0.160829008,45]]\n",
        "\n",
        "# Convert the array to a serializable list in a JSON document\n",
        "input_json = json.dumps({\"data\": x_new})\n",
        "\n",
        "# Set the content type\n",
        "headers = { 'Content-Type':'application/json' }\n",
        "\n",
        "predictions = requests.post(endpoint, input_json, headers = headers)\n",
        "predicted_classes = json.loads(predictions.json())\n",
        "\n",
        "for i in range(len(x_new)):\n",
        "    print (\"Patient {}\".format(x_new[i]), predicted_classes[i] )"
      ],
      "outputs": [
        {
          "output_type": "stream",
          "name": "stdout",
          "text": "Patient [2, 180, 74, 24, 21, 23.9091702, 1.488172308, 22] diabetic\nPatient [0, 148, 58, 11, 179, 39.19207553, 0.160829008, 45] diabetic\n"
        }
      ],
      "execution_count": 12,
      "metadata": {
        "scrolled": true,
        "vscode": {
          "languageId": "python"
        },
        "gather": {
          "logged": 1698347051437
        }
      }
    },
    {
      "cell_type": "markdown",
      "source": [
        "You've deployed your web service as an Azure Container Instance (ACI) service that requires no authentication. This is fine for development and testing, but for production you should consider deploying to an Azure Kubernetes Service (AKS) cluster and enabling token-based authentication. This would require REST requests to include an **Authorization** header.\n",
        "\n",
        "## Delete the service\n",
        "\n",
        "When you no longer need your service, you should delete it to avoid incurring unecessary charges."
      ],
      "metadata": {}
    },
    {
      "cell_type": "code",
      "source": [
        "service.delete()\n",
        "print ('Service deleted.')"
      ],
      "outputs": [
        {
          "output_type": "stream",
          "name": "stdout",
          "text": "Service deleted.\n"
        }
      ],
      "execution_count": 14,
      "metadata": {
        "vscode": {
          "languageId": "python"
        },
        "gather": {
          "logged": 1698347068534
        }
      }
    },
    {
      "cell_type": "markdown",
      "source": [
        "For more information about publishing a model as a service, see the [documentation](https://docs.microsoft.com/azure/machine-learning/how-to-deploy-and-where)"
      ],
      "metadata": {}
    }
  ],
  "metadata": {
    "kernel_info": {
      "name": "python38-azureml"
    },
    "kernelspec": {
      "name": "python38-azureml",
      "language": "python",
      "display_name": "Python 3.8 - AzureML"
    },
    "nteract": {
      "version": "nteract-front-end@1.0.0"
    },
    "vscode": {
      "interpreter": {
        "hash": "f2b2cd046deda8eabef1e765a11d0ec9aa9bd1d31d56ce79c815a38c323e14ec"
      }
    },
    "microsoft": {
      "ms_spell_check": {
        "ms_spell_check_language": "en"
      },
      "host": {
        "AzureML": {
          "notebookHasBeenCompleted": true
        }
      }
    },
    "language_info": {
      "name": "python",
      "version": "3.8.5",
      "mimetype": "text/x-python",
      "codemirror_mode": {
        "name": "ipython",
        "version": 3
      },
      "pygments_lexer": "ipython3",
      "nbconvert_exporter": "python",
      "file_extension": ".py"
    }
  },
  "nbformat": 4,
  "nbformat_minor": 0
}